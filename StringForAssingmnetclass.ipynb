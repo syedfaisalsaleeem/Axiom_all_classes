{
 "cells": [
  {
   "cell_type": "code",
   "execution_count": 1,
   "metadata": {},
   "outputs": [
    {
     "name": "stdout",
     "output_type": "stream",
     "text": [
      "while loop executing\n",
      "Enter username:rad\n",
      "user is now:rad\n",
      "while loop executing\n",
      "Enter username:going\n",
      "user is now:going\n",
      "while loop executing\n",
      "Enter username:nasir\n",
      "user is now:nasir\n"
     ]
    }
   ],
   "source": [
    "#while loop ki condition jab true hai jab tak chaley flag ka true rakhey gai lekin jab hi loop ko terminate karna ho to flag false\n",
    "#kardey hai\n",
    "flag=True #flag is used for signing\n",
    "while flag==True:\n",
    "    print(\"while loop executing\")\n",
    "    username=input(\"Enter username:\")\n",
    "    print(\"user is now:\" + username)\n",
    "    if username=='nasir':\n",
    "        flag=False"
   ]
  },
  {
   "cell_type": "code",
   "execution_count": 2,
   "metadata": {},
   "outputs": [
    {
     "data": {
      "text/plain": [
       "'p'"
      ]
     },
     "execution_count": 2,
     "metadata": {},
     "output_type": "execute_result"
    }
   ],
   "source": [
    "#assignment string slicing\n",
    "string=\"pakistan\"\n",
    "string[0]"
   ]
  },
  {
   "cell_type": "code",
   "execution_count": 4,
   "metadata": {},
   "outputs": [
    {
     "name": "stdout",
     "output_type": "stream",
     "text": [
      "[1, 2, 3, 'p', 'a', 'k', 'i']\n"
     ]
    }
   ],
   "source": [
    "list1=[1,2,3]\n",
    "list1.extend(\"paki\")\n",
    "print(list1)"
   ]
  },
  {
   "cell_type": "code",
   "execution_count": 6,
   "metadata": {},
   "outputs": [
    {
     "name": "stdout",
     "output_type": "stream",
     "text": [
      "['pakis', 'tan', 'is', 'n', 'o', 'o', 'n', 'e']\n"
     ]
    }
   ],
   "source": [
    "list1=['pakis','tan','is']\n",
    "list1.extend('noone')\n",
    "print(list1)"
   ]
  },
  {
   "cell_type": "code",
   "execution_count": 7,
   "metadata": {},
   "outputs": [
    {
     "ename": "TypeError",
     "evalue": "'int' object is not iterable",
     "output_type": "error",
     "traceback": [
      "\u001b[0;31m---------------------------------------------------------------------------\u001b[0m",
      "\u001b[0;31mTypeError\u001b[0m                                 Traceback (most recent call last)",
      "\u001b[0;32m<ipython-input-7-c2a6e378a572>\u001b[0m in \u001b[0;36m<module>\u001b[0;34m\u001b[0m\n\u001b[1;32m      1\u001b[0m \u001b[0mlist1\u001b[0m\u001b[0;34m=\u001b[0m\u001b[0;34m[\u001b[0m\u001b[0;34m'pakis'\u001b[0m\u001b[0;34m,\u001b[0m\u001b[0;34m'tan'\u001b[0m\u001b[0;34m,\u001b[0m\u001b[0;34m'is'\u001b[0m\u001b[0;34m]\u001b[0m\u001b[0;34m\u001b[0m\u001b[0;34m\u001b[0m\u001b[0m\n\u001b[0;32m----> 2\u001b[0;31m \u001b[0mlist1\u001b[0m\u001b[0;34m.\u001b[0m\u001b[0mextend\u001b[0m\u001b[0;34m(\u001b[0m\u001b[0;36m1\u001b[0m\u001b[0;34m)\u001b[0m\u001b[0;34m\u001b[0m\u001b[0;34m\u001b[0m\u001b[0m\n\u001b[0m\u001b[1;32m      3\u001b[0m \u001b[0mprint\u001b[0m\u001b[0;34m(\u001b[0m\u001b[0mlist1\u001b[0m\u001b[0;34m)\u001b[0m\u001b[0;34m\u001b[0m\u001b[0;34m\u001b[0m\u001b[0m\n",
      "\u001b[0;31mTypeError\u001b[0m: 'int' object is not iterable"
     ]
    }
   ],
   "source": [
    "list1=['pakis','tan','is']\n",
    "list1.extend(1)\n",
    "print(list1)"
   ]
  },
  {
   "cell_type": "code",
   "execution_count": 8,
   "metadata": {},
   "outputs": [
    {
     "name": "stdout",
     "output_type": "stream",
     "text": [
      "['pakis', 'tan', 'is', '1']\n"
     ]
    }
   ],
   "source": [
    "list1=['pakis','tan','is']\n",
    "list1.extend('1') #extend only uses iteratable argument in it\n",
    "print(list1)"
   ]
  },
  {
   "cell_type": "code",
   "execution_count": 9,
   "metadata": {},
   "outputs": [
    {
     "name": "stdout",
     "output_type": "stream",
     "text": [
      "['pakis', 'tan', 'is', 1, 2, 3, 4]\n"
     ]
    }
   ],
   "source": [
    "list1=['pakis','tan','is']\n",
    "list1.extend([1,2,3,4]) #extend only uses iteratable argument in it\n",
    "print(list1)"
   ]
  },
  {
   "cell_type": "code",
   "execution_count": 10,
   "metadata": {},
   "outputs": [
    {
     "ename": "TypeError",
     "evalue": "'int' object is not iterable",
     "output_type": "error",
     "traceback": [
      "\u001b[0;31m---------------------------------------------------------------------------\u001b[0m",
      "\u001b[0;31mTypeError\u001b[0m                                 Traceback (most recent call last)",
      "\u001b[0;32m<ipython-input-10-d907c90f977e>\u001b[0m in \u001b[0;36m<module>\u001b[0;34m\u001b[0m\n\u001b[0;32m----> 1\u001b[0;31m \u001b[0mlist1\u001b[0m\u001b[0;34m.\u001b[0m\u001b[0mextend\u001b[0m\u001b[0;34m(\u001b[0m\u001b[0;36m1234\u001b[0m\u001b[0;34m)\u001b[0m\u001b[0;34m\u001b[0m\u001b[0;34m\u001b[0m\u001b[0m\n\u001b[0m",
      "\u001b[0;31mTypeError\u001b[0m: 'int' object is not iterable"
     ]
    }
   ],
   "source": [
    "list1.extend(1234)"
   ]
  },
  {
   "cell_type": "code",
   "execution_count": 11,
   "metadata": {},
   "outputs": [
    {
     "name": "stdout",
     "output_type": "stream",
     "text": [
      "['pakis', 'tan', 'is', 1, 2, 3, 4, '1', '2', '3', '4']\n"
     ]
    }
   ],
   "source": [
    "list1.extend('1234')\n",
    "print(list1)"
   ]
  },
  {
   "cell_type": "code",
   "execution_count": 12,
   "metadata": {},
   "outputs": [
    {
     "name": "stdout",
     "output_type": "stream",
     "text": [
      "[]\n"
     ]
    }
   ],
   "source": [
    "list1.clear()\n",
    "print(list1)"
   ]
  },
  {
   "cell_type": "code",
   "execution_count": 13,
   "metadata": {},
   "outputs": [
    {
     "name": "stdout",
     "output_type": "stream",
     "text": [
      "['1', '2']\n"
     ]
    }
   ],
   "source": [
    "list1.extend({'1' : 'pak','2':'is'})\n",
    "print(list1)#dictionary kai andar iteration keys pr hoti hai"
   ]
  },
  {
   "cell_type": "code",
   "execution_count": 18,
   "metadata": {},
   "outputs": [
    {
     "name": "stdout",
     "output_type": "stream",
     "text": [
      "1\n"
     ]
    }
   ],
   "source": [
    "x=list1.count('2')\n",
    "print(x)"
   ]
  },
  {
   "cell_type": "code",
   "execution_count": 19,
   "metadata": {},
   "outputs": [],
   "source": [
    "#there is also a string class\n",
    "#assingnmenton list documentation and string documentation\n"
   ]
  },
  {
   "cell_type": "code",
   "execution_count": 20,
   "metadata": {},
   "outputs": [
    {
     "data": {
      "text/plain": [
       "['hello', 'pakistan']"
      ]
     },
     "execution_count": 20,
     "metadata": {},
     "output_type": "execute_result"
    }
   ],
   "source": [
    "\n",
    "#str.split() where split is a function\n",
    "abc=\"hello,pakistan\"\n",
    "abc.split(',')"
   ]
  },
  {
   "cell_type": "code",
   "execution_count": 21,
   "metadata": {},
   "outputs": [],
   "source": [
    "#str.isalpha() alphabet hai ya nahi\n",
    "#str.join(),iteable items ko join kardey ga"
   ]
  },
  {
   "cell_type": "code",
   "execution_count": 23,
   "metadata": {},
   "outputs": [
    {
     "data": {
      "text/plain": [
       "['hello', 'pakistan']"
      ]
     },
     "execution_count": 23,
     "metadata": {},
     "output_type": "execute_result"
    }
   ],
   "source": [
    "#nlp jab parhey gai\n",
    "str1=\"hello pakistan\"\n",
    "str1.split(' ')"
   ]
  },
  {
   "cell_type": "code",
   "execution_count": 3,
   "metadata": {},
   "outputs": [
    {
     "name": "stdout",
     "output_type": "stream",
     "text": [
      "enter name here    ali\n",
      "please come in\n"
     ]
    }
   ],
   "source": [
    "#rstrip \n",
    "name= \"ali\"\n",
    "userinput=input(\"enter name here\")\n",
    "userinput.lstrip()#it should be stored in a variable\n",
    "userinput.lower()\n",
    "if name==userinput.lstrip():\n",
    "    print('please come in')"
   ]
  },
  {
   "cell_type": "code",
   "execution_count": 40,
   "metadata": {},
   "outputs": [],
   "source": [
    "#strip is used when there is user enter a space while entering his name\n"
   ]
  },
  {
   "cell_type": "code",
   "execution_count": 32,
   "metadata": {},
   "outputs": [
    {
     "data": {
      "text/plain": [
       "'afi'"
      ]
     },
     "execution_count": 32,
     "metadata": {},
     "output_type": "execute_result"
    }
   ],
   "source": [
    "name.replace('l','f')"
   ]
  },
  {
   "cell_type": "code",
   "execution_count": 33,
   "metadata": {},
   "outputs": [
    {
     "data": {
      "text/plain": [
       "'ali'"
      ]
     },
     "execution_count": 33,
     "metadata": {},
     "output_type": "execute_result"
    }
   ],
   "source": [
    "newname=name.replace('f','l')\n",
    "newname"
   ]
  },
  {
   "cell_type": "code",
   "execution_count": 34,
   "metadata": {},
   "outputs": [
    {
     "data": {
      "text/plain": [
       "'python programming fundamentals'"
      ]
     },
     "execution_count": 34,
     "metadata": {},
     "output_type": "execute_result"
    }
   ],
   "source": [
    "classes=' python programming fundamentals'\n",
    "classes.lstrip()"
   ]
  },
  {
   "cell_type": "code",
   "execution_count": 16,
   "metadata": {},
   "outputs": [
    {
     "name": "stdout",
     "output_type": "stream",
     "text": [
      "enter your friends name :asad\n",
      "my 78 friendsname is asad l\n"
     ]
    }
   ],
   "source": [
    "friend= input(\"enter your friends name :\" )\n",
    "print(\"my {} friendsname is {} {}\".format(78,friend,'l'))"
   ]
  },
  {
   "cell_type": "code",
   "execution_count": 18,
   "metadata": {},
   "outputs": [
    {
     "name": "stdout",
     "output_type": "stream",
     "text": [
      "my name is asad and my num is 45 num\n"
     ]
    }
   ],
   "source": [
    "num=45\n",
    "name='asad'\n",
    "print(f\"my name is {name} and my num is {num} num\")"
   ]
  },
  {
   "cell_type": "code",
   "execution_count": 20,
   "metadata": {},
   "outputs": [
    {
     "ename": "SyntaxError",
     "evalue": "invalid syntax (<ipython-input-20-6b56a1f2f9ae>, line 1)",
     "output_type": "error",
     "traceback": [
      "\u001b[0;36m  File \u001b[0;32m\"<ipython-input-20-6b56a1f2f9ae>\"\u001b[0;36m, line \u001b[0;32m1\u001b[0m\n\u001b[0;31m    class patient()\u001b[0m\n\u001b[0m                   ^\u001b[0m\n\u001b[0;31mSyntaxError\u001b[0m\u001b[0;31m:\u001b[0m invalid syntax\n"
     ]
    }
   ],
   "source": [
    "class patient()"
   ]
  },
  {
   "cell_type": "code",
   "execution_count": 29,
   "metadata": {},
   "outputs": [
    {
     "name": "stdout",
     "output_type": "stream",
     "text": [
      "the 1 is 123 therefore is 456\n"
     ]
    }
   ],
   "source": [
    "d={'a':123,'b':456,'c':789}\n",
    "print(f\"the 1 is {d['a']} therefore is {d['b']}\")"
   ]
  },
  {
   "cell_type": "code",
   "execution_count": 30,
   "metadata": {},
   "outputs": [
    {
     "name": "stdout",
     "output_type": "stream",
     "text": [
      "123\n"
     ]
    }
   ],
   "source": [
    "c={'a':123,\"d\":456}\n",
    "print(c['a'])#key passed ki"
   ]
  },
  {
   "cell_type": "code",
   "execution_count": 48,
   "metadata": {},
   "outputs": [
    {
     "name": "stdout",
     "output_type": "stream",
     "text": [
      "Taleb\n"
     ]
    }
   ],
   "source": [
    "class Patient():\n",
    "    def __init__(self,last_name):\n",
    "        self.last_name = last_name\n",
    "        \n",
    "pid4343 = Patient(\"Taleb\")\n",
    "print(pid4343.last_name)"
   ]
  },
  {
   "cell_type": "code",
   "execution_count": 33,
   "metadata": {},
   "outputs": [
    {
     "name": "stdout",
     "output_type": "stream",
     "text": [
      "the number is 564 therefore is 3\n"
     ]
    }
   ],
   "source": [
    "d=[1,2,3,4,564]\n",
    "print(f\"the number is {d[4]} therefore is {d[2]}\")"
   ]
  },
  {
   "cell_type": "code",
   "execution_count": 4,
   "metadata": {},
   "outputs": [
    {
     "name": "stdout",
     "output_type": "stream",
     "text": [
      "the number is 564 therefore is 3\n"
     ]
    }
   ],
   "source": [
    "d=[1,2,3,4,564]\n",
    "print('the number is '+ str(d[4])+' therefore is '+str(d[2]))"
   ]
  },
  {
   "cell_type": "code",
   "execution_count": 43,
   "metadata": {},
   "outputs": [
    {
     "name": "stdout",
     "output_type": "stream",
     "text": [
      "('author', 'topic', 'pages')\n",
      "('nasir', 'deeplearning', '300')\n",
      "('ahmed', 'python', 500)\n",
      "('zia', 'kube', 300)\n"
     ]
    }
   ],
   "source": [
    "library=[('author','topic','pages'),('nasir','deeplearning','300'),('ahmed','python',500),('zia','kube',300)]\n",
    "for book in library:\n",
    "    print(book)"
   ]
  },
  {
   "cell_type": "code",
   "execution_count": 44,
   "metadata": {},
   "outputs": [
    {
     "name": "stdout",
     "output_type": "stream",
     "text": [
      "author is author\n",
      "author is nasir\n",
      "author is ahmed\n",
      "author is zia\n"
     ]
    }
   ],
   "source": [
    "for book in library:\n",
    "    print(f'author is {book[0]}')"
   ]
  },
  {
   "cell_type": "code",
   "execution_count": 56,
   "metadata": {},
   "outputs": [
    {
     "name": "stdout",
     "output_type": "stream",
     "text": [
      " author topic pages\n",
      " nasir deeplearning 300\n",
      " ahmed python 500\n",
      " zia kube 300\n"
     ]
    }
   ],
   "source": [
    "for author,topic,pages in library:\n",
    "    print(f' {author} {topic} {pages}')#jitna tuple mei values utne variable for loop"
   ]
  },
  {
   "cell_type": "code",
   "execution_count": 54,
   "metadata": {},
   "outputs": [
    {
     "name": "stdout",
     "output_type": "stream",
     "text": [
      "3\n",
      "4\n",
      "5\n"
     ]
    }
   ],
   "source": [
    "for a in[3,4,5]:\n",
    "    print(a)"
   ]
  },
  {
   "cell_type": "code",
   "execution_count": 59,
   "metadata": {},
   "outputs": [
    {
     "name": "stdout",
     "output_type": "stream",
     "text": [
      " author     -------------------------topic -----pages\n",
      " nasir      ------------------deeplearning -------300\n",
      " ahmed      ------------------------python -------500\n",
      " zia        --------------------------kube -------300\n"
     ]
    }
   ],
   "source": [
    "for author,topic,pages in library:\n",
    "    print(f' {author:{10}} {topic:->{30}} {pages:->{10}}')#10 spaces in print :{10} #> represents pages ko neechy ajayega > represents direction"
   ]
  },
  {
   "cell_type": "code",
   "execution_count": 68,
   "metadata": {},
   "outputs": [
    {
     "name": "stdout",
     "output_type": "stream",
     "text": [
      "Taleb\n"
     ]
    }
   ],
   "source": [
    "class Patient():\n",
    "    def __init__(self,last_name):\n",
    "        self.my_name = last_name\n",
    "        #self.gender=sex\n",
    "pid4343 = Patient(\"Taleb\")\n",
    "#pid=Patient(\"male\",\"haris\")\n",
    "print(pid4343.my_name)"
   ]
  },
  {
   "cell_type": "code",
   "execution_count": 70,
   "metadata": {},
   "outputs": [],
   "source": [
    "def abc():\n",
    "    pass\n",
    "#body skip kardeta hai"
   ]
  },
  {
   "cell_type": "code",
   "execution_count": 71,
   "metadata": {},
   "outputs": [],
   "source": [
    "def x():\n",
    "    return"
   ]
  },
  {
   "cell_type": "code",
   "execution_count": 2,
   "metadata": {},
   "outputs": [
    {
     "data": {
      "text/plain": [
       "'Number of donuts: many'"
      ]
     },
     "execution_count": 2,
     "metadata": {},
     "output_type": "execute_result"
    }
   ],
   "source": [
    "def donuts(count):\n",
    "    if count<10:\n",
    "        count=count\n",
    "    else: \n",
    "        count='many'\n",
    "    return 'Number of donuts: '+ str(count)\n",
    "donuts(12)"
   ]
  },
  {
   "cell_type": "code",
   "execution_count": 83,
   "metadata": {},
   "outputs": [
    {
     "name": "stdout",
     "output_type": "stream",
     "text": [
      "Taleb\n"
     ]
    }
   ],
   "source": [
    "#def both_ends(s):\n",
    "#    if s.length<=2:\n",
    "#        return\n",
    "\n",
    "class Patient():\n",
    "    def __init__(self,last_name):\n",
    "        self.cout = last_name\n",
    "        \n",
    "pid4343 = Patient(\"Taleb\")\n",
    "print(pid4343.cout)"
   ]
  },
  {
   "cell_type": "code",
   "execution_count": 85,
   "metadata": {},
   "outputs": [
    {
     "name": "stdout",
     "output_type": "stream",
     "text": [
      "Tayab\n"
     ]
    }
   ],
   "source": [
    "class Patient():\n",
    "    def __init__(self,first_name):\n",
    "        self.cout = first_name\n",
    "        \n",
    "pid4343 = Patient(\"Tayab\")\n",
    "print(pid4343.cout)"
   ]
  },
  {
   "cell_type": "code",
   "execution_count": 90,
   "metadata": {},
   "outputs": [
    {
     "name": "stdout",
     "output_type": "stream",
     "text": [
      "Tayab haris\n"
     ]
    }
   ],
   "source": [
    "class Patient():\n",
    "    def __init__(self,first_name,last_name):\n",
    "        self.last_name=last_name\n",
    "        self.cout = first_name\n",
    "        \n",
    "pid4343 = Patient(\"Tayab\",\"haris\")\n",
    "print(pid4343.cout,pid4343.last_name)"
   ]
  },
  {
   "cell_type": "code",
   "execution_count": null,
   "metadata": {},
   "outputs": [],
   "source": [
    "#version control system\n",
    "#source code sambhal karke raksaktey hai\n",
    "#git profile is used for recuirtment\n",
    "#mandatory source hai coding ka\n",
    "#kisibhi waqt apna code hoga\n",
    "#private or public repository dono free hai github hai\n",
    "#online storage prevouis line upadate kardeta hai\n",
    "#difference store hota hai snap shot ka\n",
    "#calloboration\n",
    "#strong versions(properly)\n",
    "#restoring prevouis versions\n",
    "#understanding what happened\n",
    "#backup\n",
    "#duplicate khatam kardeta hai code ka\n",
    "#kab kis ne kia cheez push ki hai name with contributor kis ek problem pakri jati hai\n",
    "#prefer command line for github\n",
    "#repository= jama karsaka sarey code # all the folders of code # agar file system hojae gi to local repository\n",
    "#or remote repository on git hub for all files\n",
    "#commit=jojochanges ki hai usko cloud pr dalne sai pehly wraper kartey hai jese gift dalkr pack kartey hai\n",
    "#Git config --globalusername\n",
    "#snapshot prevouis from new \n",
    "#piaic=\"pakistan1234or pakistan2019\""
   ]
  }
 ],
 "metadata": {
  "kernelspec": {
   "display_name": "Python 3",
   "language": "python",
   "name": "python3"
  },
  "language_info": {
   "codemirror_mode": {
    "name": "ipython",
    "version": 3
   },
   "file_extension": ".py",
   "mimetype": "text/x-python",
   "name": "python",
   "nbconvert_exporter": "python",
   "pygments_lexer": "ipython3",
   "version": "3.7.1"
  }
 },
 "nbformat": 4,
 "nbformat_minor": 2
}
