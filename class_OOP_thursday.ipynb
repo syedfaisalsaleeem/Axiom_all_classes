{
 "cells": [
  {
   "cell_type": "code",
   "execution_count": 17,
   "metadata": {},
   "outputs": [
    {
     "name": "stdout",
     "output_type": "stream",
     "text": [
      "ferrari tesla 2019\n"
     ]
    },
    {
     "data": {
      "text/plain": [
       "6"
      ]
     },
     "execution_count": 17,
     "metadata": {},
     "output_type": "execute_result"
    }
   ],
   "source": [
    "class Car():\n",
    "    def __init__(self,make,model,year):\n",
    "        self.make=make\n",
    "        self.model=model\n",
    "        self.year=year\n",
    "        self.odometer_reading=4\n",
    "        \n",
    "    def get_description(self):#self lazmi pass karey gai\n",
    "        print(self.model+' '+self.make+' '+str(self.year))#koi bhi attribute ko call karney kai lie class kai andar self pass karna lazmi hai\n",
    "        \n",
    "    def get_reading(self):\n",
    "        return self.odometer_reading\n",
    "    \n",
    "    def update_odometer(self,mileage):\n",
    "        self.odometer_reading=mileage\n",
    "car1=Car('tesla','ferrari',2019)\n",
    "car1.get_reading()\n",
    "car1.get_description()\n",
    "car1.update_odometer(6)\n",
    "car1.get_reading()"
   ]
  },
  {
   "cell_type": "code",
   "execution_count": 18,
   "metadata": {},
   "outputs": [
    {
     "name": "stdout",
     "output_type": "stream",
     "text": [
      "ferrari tesla 2019\n",
      "update reading\n"
     ]
    },
    {
     "data": {
      "text/plain": [
       "6"
      ]
     },
     "execution_count": 18,
     "metadata": {},
     "output_type": "execute_result"
    }
   ],
   "source": [
    "class Car():\n",
    "    def __init__(self,make,model,year):\n",
    "        self.make=make\n",
    "        self.model=model\n",
    "        self.year=year\n",
    "        self.odometer_reading=4\n",
    "        \n",
    "    def get_description(self):#self lazmi pass karey gai\n",
    "        print(self.model+' '+self.make+' '+str(self.year))#koi bhi attribute ko call karney kai lie class kai andar self pass karna lazmi hai\n",
    "        \n",
    "    def get_reading(self):\n",
    "        return self.odometer_reading\n",
    "    \n",
    "    def update_odometer(self,mileage):\n",
    "        if (mileage>=self.odometer_reading):\n",
    "            self.odometer_reading=mileage\n",
    "            print(\"update reading\")\n",
    "        else:\n",
    "            print(\"you can not update odometer\")\n",
    "car1=Car('tesla','ferrari',2019)\n",
    "car1.get_reading()\n",
    "car1.get_description()\n",
    "car1.update_odometer(6)\n",
    "car1.get_reading()"
   ]
  },
  {
   "cell_type": "code",
   "execution_count": 19,
   "metadata": {},
   "outputs": [
    {
     "name": "stdout",
     "output_type": "stream",
     "text": [
      "you can not update odometer\n"
     ]
    }
   ],
   "source": [
    "car1.update_odometer(5)\n"
   ]
  },
  {
   "cell_type": "code",
   "execution_count": 44,
   "metadata": {},
   "outputs": [],
   "source": [
    "class Car():\n",
    "    def __init__(self,make,model,year):\n",
    "        self.make=make\n",
    "        self.model=model\n",
    "        self.year=year\n",
    "        self.odometer_reading=4\n",
    "        self.fuel='20ltr'\n",
    "        \n",
    "    def get_description(self):#self lazmi pass karey gai\n",
    "        print(self.model+' '+self.make+' '+str(self.year))#koi bhi attribute ko call karney kai lie class kai andar self pass karna lazmi hai\n",
    "        \n",
    "    def get_reading(self):\n",
    "        return self.odometer_reading\n",
    "    \n",
    "    def update_odometer(self,mileage):\n",
    "        if (mileage>=self.odometer_reading):\n",
    "            self.odometer_reading=mileage\n",
    "            print(\"update reading\")\n",
    "        else:\n",
    "            print(\"you can not update odometer\")\n",
    "    def increment_reading(self,miles):\n",
    "        self.odometer_reading +=miles\n",
    "    \n",
    "    def get_fuel_value(self):\n",
    "        print(self.fuel)\n",
    "        \n"
   ]
  },
  {
   "cell_type": "code",
   "execution_count": 35,
   "metadata": {},
   "outputs": [
    {
     "name": "stdout",
     "output_type": "stream",
     "text": [
      "ferrari tesla 2019\n",
      "update reading\n"
     ]
    },
    {
     "data": {
      "text/plain": [
       "6"
      ]
     },
     "execution_count": 35,
     "metadata": {},
     "output_type": "execute_result"
    }
   ],
   "source": [
    "car1=Car('tesla','ferrari',2019)\n",
    "car1.get_reading()\n",
    "car1.get_description()\n",
    "car1.update_odometer(6)\n",
    "car1.get_reading()"
   ]
  },
  {
   "cell_type": "code",
   "execution_count": 36,
   "metadata": {},
   "outputs": [
    {
     "name": "stdout",
     "output_type": "stream",
     "text": [
      "update reading\n"
     ]
    }
   ],
   "source": [
    "car1.update_odometer(8)\n"
   ]
  },
  {
   "cell_type": "code",
   "execution_count": 37,
   "metadata": {},
   "outputs": [
    {
     "data": {
      "text/plain": [
       "8"
      ]
     },
     "execution_count": 37,
     "metadata": {},
     "output_type": "execute_result"
    }
   ],
   "source": [
    "car1.get_reading()"
   ]
  },
  {
   "cell_type": "code",
   "execution_count": 38,
   "metadata": {},
   "outputs": [],
   "source": [
    "car1.increment_reading(1)"
   ]
  },
  {
   "cell_type": "code",
   "execution_count": 39,
   "metadata": {},
   "outputs": [
    {
     "data": {
      "text/plain": [
       "9"
      ]
     },
     "execution_count": 39,
     "metadata": {},
     "output_type": "execute_result"
    }
   ],
   "source": [
    "car1.get_reading()"
   ]
  },
  {
   "cell_type": "code",
   "execution_count": 40,
   "metadata": {},
   "outputs": [],
   "source": [
    "car1.increment_reading(5)"
   ]
  },
  {
   "cell_type": "code",
   "execution_count": 41,
   "metadata": {},
   "outputs": [
    {
     "data": {
      "text/plain": [
       "14"
      ]
     },
     "execution_count": 41,
     "metadata": {},
     "output_type": "execute_result"
    }
   ],
   "source": [
    "car1.get_reading()"
   ]
  },
  {
   "cell_type": "code",
   "execution_count": 43,
   "metadata": {},
   "outputs": [
    {
     "name": "stdout",
     "output_type": "stream",
     "text": [
      "20ltr\n"
     ]
    }
   ],
   "source": [
    "car1.get_fuel_value()"
   ]
  },
  {
   "cell_type": "code",
   "execution_count": 45,
   "metadata": {},
   "outputs": [
    {
     "data": {
      "text/plain": [
       "'Latest'"
      ]
     },
     "execution_count": 45,
     "metadata": {},
     "output_type": "execute_result"
    }
   ],
   "source": [
    "#inheritance parent class koi features aad karney kai lie inherit sai derived class lekin attributes ssame rehngaye lekin features add karey gai\n",
    "class Electric_Car(Car):\n",
    "    def __init__(self,make,model,year):#ye teeno parameteers parent ko dedene kai lie super kai initilizer ko call kardey ga\n",
    "        super().__init__(make,model,year)#ye teeen parameters ayegaye wo parent class ko dedey ga #super _init\n",
    "        self.battery=76\n",
    "    def get_battery_watt(self):\n",
    "        print (self.battery)\n",
    "my_tesla=Electric_Car(\"Tesla\",\"Latest\",2019)\n",
    "my_tesla.model"
   ]
  },
  {
   "cell_type": "code",
   "execution_count": 46,
   "metadata": {},
   "outputs": [
    {
     "data": {
      "text/plain": [
       "4"
      ]
     },
     "execution_count": 46,
     "metadata": {},
     "output_type": "execute_result"
    }
   ],
   "source": [
    "my_tesla.get_reading()"
   ]
  },
  {
   "cell_type": "code",
   "execution_count": 47,
   "metadata": {},
   "outputs": [
    {
     "name": "stdout",
     "output_type": "stream",
     "text": [
      "76\n"
     ]
    }
   ],
   "source": [
    "my_tesla.get_battery_watt()"
   ]
  },
  {
   "cell_type": "code",
   "execution_count": 48,
   "metadata": {},
   "outputs": [
    {
     "data": {
      "text/plain": [
       "'Latest'"
      ]
     },
     "execution_count": 48,
     "metadata": {},
     "output_type": "execute_result"
    }
   ],
   "source": [
    "my_tesla.model"
   ]
  },
  {
   "cell_type": "code",
   "execution_count": 52,
   "metadata": {},
   "outputs": [],
   "source": [
    "class New_Car(Electric_Car):\n",
    "        def __init__(self,make,model,year,battery):#ye teeno parameteers parent ko dedene kai lie super kai initilizer ko call kardey ga\n",
    "                 super().__init__(make,model,year)\n",
    "                 self.battery=battery\n",
    "        \n",
    "        def get_battery_watt(self):\n",
    "            \n",
    "            print(self.battery)\n",
    "            \n",
    "        #jabhi method ko overwrite karna hota hai to same parent name wala method name use karey ga\n",
    "        \n",
    "        def get_reading(self):\n",
    "             print(\"new method overwrite now\")       \n",
    "N1=New_Car('ferari','enzo',2018,72)\n"
   ]
  },
  {
   "cell_type": "code",
   "execution_count": 51,
   "metadata": {},
   "outputs": [
    {
     "data": {
      "text/plain": [
       "72"
      ]
     },
     "execution_count": 51,
     "metadata": {},
     "output_type": "execute_result"
    }
   ],
   "source": [
    "N1.battery"
   ]
  },
  {
   "cell_type": "code",
   "execution_count": 53,
   "metadata": {},
   "outputs": [
    {
     "name": "stdout",
     "output_type": "stream",
     "text": [
      "new method overwrite now\n"
     ]
    }
   ],
   "source": [
    "N1.get_reading()"
   ]
  },
  {
   "cell_type": "code",
   "execution_count": 54,
   "metadata": {},
   "outputs": [],
   "source": [
    "#level inheritence parent sai child phir us child class kai ek or child class sab sai akhri wali class mei sari upar class ki atrributes or methods hongai\n",
    "#multiple inheritence exsisit in python but does not exsist in other languages"
   ]
  },
  {
   "cell_type": "code",
   "execution_count": 71,
   "metadata": {},
   "outputs": [],
   "source": [
    "class Restruant():\n",
    "    def __init__(self,name,cuisine_type):\n",
    "        self.name=name\n",
    "        self.cuisine_type=cuisine_type\n",
    "    def describe_restraunt(self):\n",
    "        #print( 'name=' +self.name,'cusinie_type='+ self.cuisine_type  )\n",
    "        print( f'the name of restraunt is ={self.name} cuisine_type={self.cuisine_type}')\n",
    "        \n",
    "        \n",
    "    def open_restraunt(self):\n",
    "        print(\"restraunt is open\")\n",
    "        \n",
    "class_2=Restruant('KFC','burger')"
   ]
  },
  {
   "cell_type": "code",
   "execution_count": 72,
   "metadata": {},
   "outputs": [
    {
     "name": "stdout",
     "output_type": "stream",
     "text": [
      "burger KFC\n",
      "the name is =KFC cuisine_type=burger\n",
      "restraunt is open\n"
     ]
    }
   ],
   "source": [
    "print(class_2.cuisine_type,class_2.name)\n",
    "class_2.describe_restraunt()\n",
    "class_2.open_restraunt()"
   ]
  },
  {
   "cell_type": "code",
   "execution_count": 63,
   "metadata": {},
   "outputs": [
    {
     "name": "stdout",
     "output_type": "stream",
     "text": [
      "name=macdonalds cusinie_type=broast\n",
      "name=burgeroclock cusinie_type=frenchfires\n",
      "name=PizzaHut cusinie_type=pizza\n"
     ]
    }
   ],
   "source": [
    "restraunt_1=Restruant('macdonalds','broast')\n",
    "restraunt_2=Restruant('burgeroclock','frenchfires')\n",
    "restraunt_3=Restruant('PizzaHut','pizza')\n",
    "restraunt_1.describe_restraunt()\n",
    "restraunt_2.describe_restraunt()\n",
    "restraunt_3.describe_restraunt()\n"
   ]
  },
  {
   "cell_type": "code",
   "execution_count": 83,
   "metadata": {},
   "outputs": [
    {
     "name": "stdout",
     "output_type": "stream",
     "text": [
      "the name of user is =asad last_name=khan roll_no=---------------------------209\n",
      "you are welcome\n"
     ]
    }
   ],
   "source": [
    "class User():\n",
    "    def __init__(self,first_name,last_name,age,roll_no):\n",
    "        self.first_name=first_name\n",
    "        self.last_name=last_name\n",
    "        self.age=age\n",
    "        self.roll_no=roll_no\n",
    "    def describe_user(self):\n",
    "        print( f'the name of user is ={self.first_name} last_name={self.last_name} roll_no={self.roll_no:->{30}}')\n",
    "        \n",
    "    def greet_user(self):\n",
    "        print('you are welcome')\n",
    "\n",
    "user1=User('asad','khan','23','209')\n",
    "user1.describe_user()\n",
    "user1.greet_user()"
   ]
  },
  {
   "cell_type": "code",
   "execution_count": 99,
   "metadata": {},
   "outputs": [],
   "source": [
    "class Restruant():\n",
    "    def __init__(self,name,cuisine_type):\n",
    "        self.name=name\n",
    "        self.cuisine_type=cuisine_type\n",
    "        self.number_served=0\n",
    "    def describe_restraunt(self):\n",
    "        #print( 'name=' +self.name,'cusinie_type='+ self.cuisine_type  )\n",
    "        print( f'the name of restraunt is ={self.name} cuisine_type={self.cuisine_type}')\n",
    "        \n",
    "        \n",
    "    def open_restraunt(self):\n",
    "        print(\"restraunt is open\")\n",
    "        \n",
    "    def noofservedpeople(self):\n",
    "        print ('the no of served people='+ str(self.number_served))\n",
    "    \n",
    "    def update_served_people(self,input_served):\n",
    "        self.number_served=input_served\n",
    "        print(self.number_served)\n",
    "        \n",
    "    def increment_number_served(self,no_of_increment):\n",
    "        self.number_served +=no_of_increment\n",
    "        print(self.number_served)\n",
    "\n",
    "        \n",
    "class_2=Restruant('KFC','burger')"
   ]
  },
  {
   "cell_type": "code",
   "execution_count": 100,
   "metadata": {},
   "outputs": [
    {
     "name": "stdout",
     "output_type": "stream",
     "text": [
      "the no of served people=0\n"
     ]
    }
   ],
   "source": [
    "class_2.noofservedpeople()"
   ]
  },
  {
   "cell_type": "code",
   "execution_count": 97,
   "metadata": {},
   "outputs": [
    {
     "name": "stdout",
     "output_type": "stream",
     "text": [
      "2\n"
     ]
    }
   ],
   "source": [
    "class_2.update_served_people(2)"
   ]
  },
  {
   "cell_type": "code",
   "execution_count": 98,
   "metadata": {},
   "outputs": [
    {
     "name": "stdout",
     "output_type": "stream",
     "text": [
      "the no of served people=2\n"
     ]
    }
   ],
   "source": [
    "class_2.noofservedpeople()"
   ]
  },
  {
   "cell_type": "code",
   "execution_count": 101,
   "metadata": {},
   "outputs": [
    {
     "name": "stdout",
     "output_type": "stream",
     "text": [
      "5\n"
     ]
    }
   ],
   "source": [
    "class_2.increment_number_served()"
   ]
  },
  {
   "cell_type": "code",
   "execution_count": 102,
   "metadata": {},
   "outputs": [
    {
     "name": "stdout",
     "output_type": "stream",
     "text": [
      "15\n"
     ]
    }
   ],
   "source": [
    "class_2.increment_number_served(10)"
   ]
  },
  {
   "cell_type": "code",
   "execution_count": null,
   "metadata": {},
   "outputs": [],
   "source": [
    "#Differences hi sirf pull hoga sirf snapshot hoga pull\n",
    "#clone or download when using pull\n",
    "#download only produce zip download\n",
    "#clone creates channel between repository and ur pc\n",
    "#clone kia user2 add karsakta hai\n",
    "#user2 ko agar password pata hoga to bhej dega file as a clone\n",
    "#as a clone directly channel create hojata hai "
   ]
  }
 ],
 "metadata": {
  "kernelspec": {
   "display_name": "Python 3",
   "language": "python",
   "name": "python3"
  },
  "language_info": {
   "codemirror_mode": {
    "name": "ipython",
    "version": 3
   },
   "file_extension": ".py",
   "mimetype": "text/x-python",
   "name": "python",
   "nbconvert_exporter": "python",
   "pygments_lexer": "ipython3",
   "version": "3.7.1"
  }
 },
 "nbformat": 4,
 "nbformat_minor": 2
}
