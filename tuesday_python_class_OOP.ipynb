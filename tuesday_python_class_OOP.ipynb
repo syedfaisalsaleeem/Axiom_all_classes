{
 "cells": [
  {
   "cell_type": "code",
   "execution_count": null,
   "metadata": {},
   "outputs": [],
   "source": [
    "#classes\n",
    "#C++ #object_orientedProgramming\n",
    "#computer_language ko interaction with humans to make terms in daily life \n",
    "#apni daily life association ko map karsakey #classes\n",
    "#programming ko reallife ko lekr akr classes ka benefit\n",
    "#hr cheez object oriented programming mei as aobject suppose hoti hai\n",
    "#class ek map ya blue print\n",
    "#string_lists ye sab ek class hai\n",
    "#class kai hisaab sai pura ghar baney ga #map kai hisaab 100 ghar bnalena\n",
    "#mobile as a class #jis kai anadr call recieve hojae call chaley jai # screen pad ho # ye sab functionalities walon ko mobiel karhey gai\n",
    "# mobile as class sarey functions puerey kareny hie jabhi claass kheley ga\n",
    "# naye baney wala sarey mobile set us kai objects hai\n",
    "#general standarsds honey chie classes kai\n",
    "#inherit mei naye features add hotey hai puraney waley features hotey hai lazmi hai usmei\n",
    "#jese mobile as keypad ab touchscreen ye inheritence hai\n",
    "#mehran kai instances mei colour change kie over the years\n",
    "#functional programming is fast as compare oop programming\n",
    "#time complexity #kitne variables use hue hai\n",
    "#memory also matters in programming wehter we use integer or double int that place\n",
    "#patient as aclass to object kai lie sarey conditions puri honi chie jese uski age ,uske health issue if any one the one doesnot\n",
    "#fullfil it is not the pbject of the class"
   ]
  },
  {
   "cell_type": "code",
   "execution_count": 1,
   "metadata": {},
   "outputs": [],
   "source": [
    "class Patient():\n",
    "    pass"
   ]
  },
  {
   "cell_type": "code",
   "execution_count": null,
   "metadata": {},
   "outputs": [],
   "source": [
    "#for structure defining of the class\n",
    "#atrributes=model,size,color,capacity # kai sath functions=call,voice\n",
    "#def __init__(self,last_name) #init method #intilizer #koi ana wala patient bn sakta hai # usko constructor #identifier as constructor"
   ]
  },
  {
   "cell_type": "code",
   "execution_count": 36,
   "metadata": {},
   "outputs": [],
   "source": [
    "class Patient():\n",
    "    def __init__(self,name,last_name,age=22,bimari='nothing'):#self as keyword\n",
    "        #attributes#us class ki properties\n",
    "        self.name=name\n",
    "        self.last_name=last_name\n",
    "        self.age=age\n",
    "        self.bimari=bimari\n",
    "    def walk(self):\n",
    "        #pass\n",
    "        print(f\"{self.name} is walking\")\n",
    "    def eatFoods(self):\n",
    "        print(f\"{self.name} is eating food\")\n",
    "    def takesmedicine(self):\n",
    "        print(f\"{self.name} is eating food\")\n",
    "        "
   ]
  },
  {
   "cell_type": "code",
   "execution_count": 4,
   "metadata": {},
   "outputs": [
    {
     "ename": "TypeError",
     "evalue": "__init__() missing 4 required positional arguments: 'name', 'last_name', 'age', and 'bimari'",
     "output_type": "error",
     "traceback": [
      "\u001b[0;31m---------------------------------------------------------------------------\u001b[0m",
      "\u001b[0;31mTypeError\u001b[0m                                 Traceback (most recent call last)",
      "\u001b[0;32m<ipython-input-4-a3dc793e3349>\u001b[0m in \u001b[0;36m<module>\u001b[0;34m\u001b[0m\n\u001b[1;32m      1\u001b[0m \u001b[0;31m#creating an instance\u001b[0m\u001b[0;34m\u001b[0m\u001b[0;34m\u001b[0m\u001b[0;34m\u001b[0m\u001b[0m\n\u001b[0;32m----> 2\u001b[0;31m \u001b[0mpatient1\u001b[0m\u001b[0;34m=\u001b[0m\u001b[0mPatient\u001b[0m\u001b[0;34m(\u001b[0m\u001b[0;34m)\u001b[0m \u001b[0;31m#object bn gaya hai\u001b[0m\u001b[0;34m\u001b[0m\u001b[0;34m\u001b[0m\u001b[0m\n\u001b[0m",
      "\u001b[0;31mTypeError\u001b[0m: __init__() missing 4 required positional arguments: 'name', 'last_name', 'age', and 'bimari'"
     ]
    }
   ],
   "source": [
    "#creating an instance\n",
    "patient1=Patient() #object bn gaya hai"
   ]
  },
  {
   "cell_type": "code",
   "execution_count": 28,
   "metadata": {},
   "outputs": [
    {
     "name": "stdout",
     "output_type": "stream",
     "text": [
      "abc\n",
      "xyz\n"
     ]
    }
   ],
   "source": [
    "patient1=Patient('abc','khan',45,'nothing')\n",
    "#for more patients\n",
    "patient2=Patient('xyz','khan',85,'somany')\n",
    "print(patient1.name)\n",
    "print(patient2.name)"
   ]
  },
  {
   "cell_type": "code",
   "execution_count": 29,
   "metadata": {},
   "outputs": [
    {
     "name": "stdout",
     "output_type": "stream",
     "text": [
      "abc is walking\n"
     ]
    }
   ],
   "source": [
    "patient1.walk()"
   ]
  },
  {
   "cell_type": "code",
   "execution_count": 39,
   "metadata": {},
   "outputs": [
    {
     "name": "stdout",
     "output_type": "stream",
     "text": [
      "22\n"
     ]
    }
   ],
   "source": [
    "patient1=Patient('abc','xyz')\n",
    "print(patient1.age)"
   ]
  },
  {
   "cell_type": "code",
   "execution_count": 34,
   "metadata": {},
   "outputs": [
    {
     "ename": "NameError",
     "evalue": "name 'a' is not defined",
     "output_type": "error",
     "traceback": [
      "\u001b[0;31m---------------------------------------------------------------------------\u001b[0m",
      "\u001b[0;31mNameError\u001b[0m                                 Traceback (most recent call last)",
      "\u001b[0;32m<ipython-input-34-4af6a079a80b>\u001b[0m in \u001b[0;36m<module>\u001b[0;34m\u001b[0m\n\u001b[1;32m      3\u001b[0m     \u001b[0;32mreturn\u001b[0m \u001b[0mz\u001b[0m\u001b[0;34m\u001b[0m\u001b[0;34m\u001b[0m\u001b[0m\n\u001b[1;32m      4\u001b[0m \u001b[0;34m\u001b[0m\u001b[0m\n\u001b[0;32m----> 5\u001b[0;31m \u001b[0mx\u001b[0m\u001b[0;34m=\u001b[0m\u001b[0msum\u001b[0m\u001b[0;34m(\u001b[0m\u001b[0ma\u001b[0m\u001b[0;34m,\u001b[0m\u001b[0mb\u001b[0m\u001b[0;34m)\u001b[0m\u001b[0;34m\u001b[0m\u001b[0;34m\u001b[0m\u001b[0m\n\u001b[0m\u001b[1;32m      6\u001b[0m \u001b[0mprint\u001b[0m\u001b[0;34m(\u001b[0m\u001b[0mx\u001b[0m\u001b[0;34m)\u001b[0m\u001b[0;34m\u001b[0m\u001b[0;34m\u001b[0m\u001b[0m\n",
      "\u001b[0;31mNameError\u001b[0m: name 'a' is not defined"
     ]
    }
   ],
   "source": [
    "def sum(a=1,b=2):\n",
    "    z=a+b\n",
    "    return z\n",
    "    \n",
    "x=sum(a,b)\n",
    "print(x)"
   ]
  },
  {
   "cell_type": "code",
   "execution_count": 35,
   "metadata": {},
   "outputs": [
    {
     "data": {
      "text/plain": [
       "3"
      ]
     },
     "execution_count": 35,
     "metadata": {},
     "output_type": "execute_result"
    }
   ],
   "source": [
    "def addition(a,b,c=0): #c=0 or none is a default value\n",
    "    return a+b+c\n",
    "addition(1,2)"
   ]
  },
  {
   "cell_type": "code",
   "execution_count": 40,
   "metadata": {},
   "outputs": [],
   "source": [
    "def sayIfMinor(fname,lname,age):\n",
    "    if age<21:\n",
    "        print(f\"{fname} {lname} is a minor\")\n",
    "    else:\n",
    "        print(f\"{fname} {lname} is  not a minor\")"
   ]
  },
  {
   "cell_type": "code",
   "execution_count": 42,
   "metadata": {},
   "outputs": [
    {
     "name": "stdout",
     "output_type": "stream",
     "text": [
      "abc xyz is  not a minor\n"
     ]
    }
   ],
   "source": [
    "sayIfMinor(patient1.name,patient1.last_name,patient1.age)"
   ]
  },
  {
   "cell_type": "code",
   "execution_count": 44,
   "metadata": {},
   "outputs": [],
   "source": [
    "patient1.name='pakistan'\n"
   ]
  },
  {
   "cell_type": "code",
   "execution_count": 45,
   "metadata": {},
   "outputs": [
    {
     "name": "stdout",
     "output_type": "stream",
     "text": [
      "pakistan xyz is  not a minor\n"
     ]
    }
   ],
   "source": [
    "sayIfMinor(patient1.name,patient1.last_name,patient1.age)"
   ]
  },
  {
   "cell_type": "code",
   "execution_count": 61,
   "metadata": {},
   "outputs": [],
   "source": [
    "class Dog():\n",
    "    \n",
    "    def __init__(self,name,age):\n",
    "        \n",
    "        self.name=name\n",
    "        self.age=age\n",
    "    def sit(self):\n",
    "        \n",
    "        print( self.name.title() +\" is now sitting\")\n",
    "        #print(self.age + 'this is his age')\n",
    "    def roll_over(self):\n",
    "        \n",
    "        print(self.name.title() + \" rolled over!\")\n",
    "        \n",
    "class_1=Dog('tommy',32)"
   ]
  },
  {
   "cell_type": "code",
   "execution_count": 62,
   "metadata": {},
   "outputs": [
    {
     "name": "stdout",
     "output_type": "stream",
     "text": [
      "Tommy is now sitting\n",
      "Tommy rolled over!\n"
     ]
    }
   ],
   "source": [
    "\n",
    "class_1.sit()\n",
    "class_1.roll_over()"
   ]
  },
  {
   "cell_type": "code",
   "execution_count": 65,
   "metadata": {},
   "outputs": [],
   "source": [
    "#funtion #methods\n",
    "class Restruant():\n",
    "    def __init__(self,name,cuisine_type):\n",
    "        self.name=name\n",
    "        self.cuisine_type=cuisine_type\n",
    "    def describe_restraunt(self):\n",
    "        print( 'name=' +self.name,'cusinie_type='+ self.cuisine_type  )\n",
    "        \n",
    "        \n",
    "    def open_restraunt(self):\n",
    "        print(\"restraunt is open\")\n",
    "        \n",
    "class_2=Restruant('KFC','burger')\n",
    "        "
   ]
  },
  {
   "cell_type": "code",
   "execution_count": 72,
   "metadata": {},
   "outputs": [
    {
     "name": "stdout",
     "output_type": "stream",
     "text": [
      "burger KFC\n",
      "name=KFC cusinie_type=burger\n",
      "restraunt is open\n"
     ]
    }
   ],
   "source": [
    "print(class_2.cuisine_type,class_2.name)\n",
    "class_2.describe_restraunt()\n",
    "class_2.open_restraunt()"
   ]
  },
  {
   "cell_type": "code",
   "execution_count": 75,
   "metadata": {},
   "outputs": [
    {
     "name": "stdout",
     "output_type": "stream",
     "text": [
      "2016 Audi A4\n"
     ]
    }
   ],
   "source": [
    "#inheritance #encapsulation #polymorpehism #abstraction #oop 4 pillars\n",
    "#modifying atrribute values directly\n",
    "#through directly\n",
    "#through method it is aproper wayof updating\n",
    "#oddmoeter reading ko upadte nahi karsakey\n",
    "#upadte curennt adometer sai barhi honey chie\n",
    "class Car():\n",
    "    def __init__(self,make,model,year):\n",
    "        \n",
    "        self.make=make\n",
    "        self.model=model\n",
    "        self.year=year\n",
    "    \n",
    "    def get_name(self):\n",
    "        \n",
    "        long_name=str(self.year) + ' ' +self.make + ' ' +self.model\n",
    "        return long_name.title()\n",
    "my_new_car=Car('audi','a4',2016)\n",
    "print(my_new_car.get_name())\n",
    " def change(make,model,year):\n",
    "        self.make=make\n",
    "        self.model=model\n",
    "        self.year=year\n",
    "        \n",
    "    "
   ]
  },
  {
   "cell_type": "code",
   "execution_count": null,
   "metadata": {},
   "outputs": [],
   "source": []
  }
 ],
 "metadata": {
  "kernelspec": {
   "display_name": "Python 3",
   "language": "python",
   "name": "python3"
  },
  "language_info": {
   "codemirror_mode": {
    "name": "ipython",
    "version": 3
   },
   "file_extension": ".py",
   "mimetype": "text/x-python",
   "name": "python",
   "nbconvert_exporter": "python",
   "pygments_lexer": "ipython3",
   "version": "3.7.1"
  }
 },
 "nbformat": 4,
 "nbformat_minor": 2
}
