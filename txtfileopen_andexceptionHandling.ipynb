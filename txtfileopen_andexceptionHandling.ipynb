{
 "cells": [
  {
   "cell_type": "code",
   "execution_count": 1,
   "metadata": {},
   "outputs": [],
   "source": [
    "#with is a keyword\n",
    "#as is used an handler through which we create an object of any name\n",
    "#open ek fuction hai\n",
    "#with open(\"myfiles.txt\") this returns an handler usko koi bhi name uskarssaktey hai\n",
    "#as is called alias as sai class ka name change karsaktey hai\n",
    "#write overwrite kardey ga pehley ka kaam"
   ]
  },
  {
   "cell_type": "code",
   "execution_count": 7,
   "metadata": {},
   "outputs": [],
   "source": [
    "with open(\"myfiles.txt\",\"w\") as f:\n",
    "    f.write(\"123\")"
   ]
  },
  {
   "cell_type": "code",
   "execution_count": 8,
   "metadata": {},
   "outputs": [
    {
     "name": "stdout",
     "output_type": "stream",
     "text": [
      "123\n"
     ]
    }
   ],
   "source": [
    "with open(\"myfiles.txt\",\"r\") as f:\n",
    "    text=f.read()\n",
    "print(text)"
   ]
  },
  {
   "cell_type": "code",
   "execution_count": 9,
   "metadata": {},
   "outputs": [],
   "source": [
    "#ek tarweeqa hai with open kai through file likhne kialie kholi jati hai jab file pr operation hojata ha phir close kardeta hai\n",
    "#jab open ki body sai bahir nikal jaegey to wo khud close kardey ga \n",
    "#use of with open"
   ]
  },
  {
   "cell_type": "code",
   "execution_count": 10,
   "metadata": {},
   "outputs": [],
   "source": [
    "with open(\"myfiles.txt\",\"w\") as f:\n",
    "    f.write(\"1\")"
   ]
  },
  {
   "cell_type": "code",
   "execution_count": 11,
   "metadata": {},
   "outputs": [],
   "source": [
    "#jab file nahi bnayi khud hi extra sai\n",
    "#automatically khud bhi create hojati hai\n",
    "#agar file exsist nahi karti"
   ]
  },
  {
   "cell_type": "code",
   "execution_count": 12,
   "metadata": {},
   "outputs": [],
   "source": [
    "#agar file nahi bani hui or usko read karey to exception error\n"
   ]
  },
  {
   "cell_type": "code",
   "execution_count": 13,
   "metadata": {},
   "outputs": [
    {
     "ename": "FileNotFoundError",
     "evalue": "[Errno 2] No such file or directory: 'myfi2.txt'",
     "output_type": "error",
     "traceback": [
      "\u001b[0;31m---------------------------------------------------------------------------\u001b[0m",
      "\u001b[0;31mFileNotFoundError\u001b[0m                         Traceback (most recent call last)",
      "\u001b[0;32m<ipython-input-13-e0f4d0f0f2f8>\u001b[0m in \u001b[0;36m<module>\u001b[0;34m\u001b[0m\n\u001b[0;32m----> 1\u001b[0;31m \u001b[0;32mwith\u001b[0m \u001b[0mopen\u001b[0m\u001b[0;34m(\u001b[0m\u001b[0;34m\"myfi2.txt\"\u001b[0m\u001b[0;34m,\u001b[0m\u001b[0;34m\"r\"\u001b[0m\u001b[0;34m)\u001b[0m \u001b[0;32mas\u001b[0m \u001b[0mf\u001b[0m\u001b[0;34m:\u001b[0m\u001b[0;34m\u001b[0m\u001b[0;34m\u001b[0m\u001b[0m\n\u001b[0m\u001b[1;32m      2\u001b[0m     \u001b[0mtext\u001b[0m\u001b[0;34m=\u001b[0m\u001b[0mf\u001b[0m\u001b[0;34m.\u001b[0m\u001b[0mread\u001b[0m\u001b[0;34m(\u001b[0m\u001b[0;34m)\u001b[0m\u001b[0;34m\u001b[0m\u001b[0;34m\u001b[0m\u001b[0m\n",
      "\u001b[0;31mFileNotFoundError\u001b[0m: [Errno 2] No such file or directory: 'myfi2.txt'"
     ]
    }
   ],
   "source": [
    "with open(\"myfi2.txt\",\"r\") as f:\n",
    "    text=f.read()"
   ]
  },
  {
   "cell_type": "code",
   "execution_count": 14,
   "metadata": {},
   "outputs": [],
   "source": [
    "#write function sai overwrite hoti hai\n",
    "#append sai aap data usmei daal saktey hai"
   ]
  },
  {
   "cell_type": "code",
   "execution_count": 22,
   "metadata": {},
   "outputs": [],
   "source": [
    "with open(\"myfiles.txt\",\"a\") as f:\n",
    "    f.write(\" \\n thsi is append\")"
   ]
  },
  {
   "cell_type": "code",
   "execution_count": 23,
   "metadata": {},
   "outputs": [
    {
     "name": "stdout",
     "output_type": "stream",
     "text": [
      "1thsi is append thsi is append \n",
      " thsi is append\n"
     ]
    }
   ],
   "source": [
    "with open(\"myfiles.txt\",\"r\") as f:\n",
    "    print(f.read())"
   ]
  },
  {
   "cell_type": "code",
   "execution_count": 26,
   "metadata": {},
   "outputs": [
    {
     "name": "stdout",
     "output_type": "stream",
     "text": [
      "2323\n"
     ]
    }
   ],
   "source": [
    "with open(\"myfiles.txt\",\"w\") as f:\n",
    "    f.write(\"2\")\n",
    "    f.write(\"3\")\n",
    "    f.write(\"2\")\n",
    "    f.write(\"3\")\n",
    "    \n",
    "with open(\"myfiles.txt\",\"r\") as f:\n",
    "    print (f.read())\n",
    "#jab tak file close nahi hogi jab tak write karta rahega #magar jab file close hojayegi to phir write as overwrite kaam\n",
    "#karega \n",
    "\n",
    "with open(\"myfilenew.txt\",\"a\") as f:\n",
    "    f.write(\"in this append phir bhi file exsist nahi karti phir bhi write hojati hai \")"
   ]
  },
  {
   "cell_type": "code",
   "execution_count": 27,
   "metadata": {},
   "outputs": [
    {
     "ename": "FileNotFoundError",
     "evalue": "[Errno 2] No such file or directory: 'artificialintellignece.txt'",
     "output_type": "error",
     "traceback": [
      "\u001b[0;31m---------------------------------------------------------------------------\u001b[0m",
      "\u001b[0;31mFileNotFoundError\u001b[0m                         Traceback (most recent call last)",
      "\u001b[0;32m<ipython-input-27-6516f32e75e8>\u001b[0m in \u001b[0;36m<module>\u001b[0;34m\u001b[0m\n\u001b[1;32m      1\u001b[0m \u001b[0;31m#readwritemode\u001b[0m\u001b[0;34m\u001b[0m\u001b[0;34m\u001b[0m\u001b[0;34m\u001b[0m\u001b[0m\n\u001b[0;32m----> 2\u001b[0;31m \u001b[0;32mwith\u001b[0m \u001b[0mopen\u001b[0m \u001b[0;34m(\u001b[0m\u001b[0;34m\"artificialintellignece.txt\"\u001b[0m\u001b[0;34m,\u001b[0m\u001b[0;34m\"r+\"\u001b[0m\u001b[0;34m)\u001b[0m \u001b[0;32mas\u001b[0m \u001b[0mf\u001b[0m\u001b[0;34m:\u001b[0m\u001b[0;34m\u001b[0m\u001b[0;34m\u001b[0m\u001b[0m\n\u001b[0m\u001b[1;32m      3\u001b[0m     \u001b[0mf\u001b[0m\u001b[0;34m.\u001b[0m\u001b[0mwrite\u001b[0m\u001b[0;34m(\u001b[0m\u001b[0;34m\"this is our class\"\u001b[0m\u001b[0;34m)\u001b[0m\u001b[0;34m\u001b[0m\u001b[0;34m\u001b[0m\u001b[0m\n\u001b[1;32m      4\u001b[0m     \u001b[0mf\u001b[0m\u001b[0;34m.\u001b[0m\u001b[0mread\u001b[0m\u001b[0;34m(\u001b[0m\u001b[0;34m)\u001b[0m\u001b[0;34m\u001b[0m\u001b[0;34m\u001b[0m\u001b[0m\n",
      "\u001b[0;31mFileNotFoundError\u001b[0m: [Errno 2] No such file or directory: 'artificialintellignece.txt'"
     ]
    }
   ],
   "source": [
    "#readwritemode\n",
    "with open(\"artificialintellignece.txt\",\"r+\") as f:\n",
    "    f.write(\"this is our class\")\n",
    "    f.read()\n",
    "\n",
    "#read write mode mei file automatically create nahi hoti"
   ]
  },
  {
   "cell_type": "code",
   "execution_count": 33,
   "metadata": {},
   "outputs": [
    {
     "name": "stdout",
     "output_type": "stream",
     "text": [
      "\n"
     ]
    }
   ],
   "source": [
    "with open(\"newfile.txt\",\"r+\") as f:\n",
    "    f.write(\"this is our class\") #jab yaha par write karaya\n",
    "    text=f.read()\n",
    "    print(text)"
   ]
  },
  {
   "cell_type": "code",
   "execution_count": null,
   "metadata": {},
   "outputs": [],
   "source": [
    "#abcdefg cursor at end to read karna kai liw kuch nahi to islie read nahi karayega uskai r+ kai andar\n",
    "#cursor read karke akhri mei pohanch gaya tha islie read nahi karaha "
   ]
  },
  {
   "cell_type": "code",
   "execution_count": 40,
   "metadata": {},
   "outputs": [
    {
     "name": "stdout",
     "output_type": "stream",
     "text": [
      "this is our class\n"
     ]
    },
    {
     "ename": "IndexError",
     "evalue": "string index out of range",
     "output_type": "error",
     "traceback": [
      "\u001b[0;31m---------------------------------------------------------------------------\u001b[0m",
      "\u001b[0;31mIndexError\u001b[0m                                Traceback (most recent call last)",
      "\u001b[0;32m<ipython-input-40-810ff6bc8fff>\u001b[0m in \u001b[0;36m<module>\u001b[0;34m\u001b[0m\n\u001b[1;32m      2\u001b[0m     \u001b[0mprint\u001b[0m\u001b[0;34m(\u001b[0m\u001b[0mf\u001b[0m\u001b[0;34m.\u001b[0m\u001b[0mread\u001b[0m\u001b[0;34m(\u001b[0m\u001b[0;34m)\u001b[0m\u001b[0;34m)\u001b[0m\u001b[0;34m\u001b[0m\u001b[0;34m\u001b[0m\u001b[0m\n\u001b[1;32m      3\u001b[0m     \u001b[0mtxt\u001b[0m\u001b[0;34m=\u001b[0m\u001b[0mf\u001b[0m\u001b[0;34m.\u001b[0m\u001b[0mread\u001b[0m\u001b[0;34m(\u001b[0m\u001b[0;34m)\u001b[0m\u001b[0;34m\u001b[0m\u001b[0;34m\u001b[0m\u001b[0m\n\u001b[0;32m----> 4\u001b[0;31m     \u001b[0mprint\u001b[0m\u001b[0;34m(\u001b[0m\u001b[0mtxt\u001b[0m\u001b[0;34m[\u001b[0m\u001b[0;36m0\u001b[0m\u001b[0;34m]\u001b[0m\u001b[0;34m)\u001b[0m\u001b[0;34m\u001b[0m\u001b[0;34m\u001b[0m\u001b[0m\n\u001b[0m",
      "\u001b[0;31mIndexError\u001b[0m: string index out of range"
     ]
    }
   ],
   "source": [
    "with open(\"newfile.txt\",\"r+\") as f:\n",
    "    print(f.read())\n",
    "    txt=f.read()\n",
    "    print(txt[0])"
   ]
  },
  {
   "cell_type": "code",
   "execution_count": 42,
   "metadata": {},
   "outputs": [],
   "source": [
    "with open(\"newfile.xlx\",\"w\") as f:\n",
    "    f.write(\"class1\")"
   ]
  },
  {
   "cell_type": "code",
   "execution_count": 43,
   "metadata": {},
   "outputs": [],
   "source": [
    "#mode or bhi files kai lie\n",
    "#by default read karta hai\n",
    "#with close ko file kardeta hai automatically\n",
    "\n",
    "#exceptions is an error\n",
    "#improperly file close hojati hai to file corrupted hai"
   ]
  },
  {
   "cell_type": "code",
   "execution_count": 44,
   "metadata": {},
   "outputs": [],
   "source": [
    "#open kai andar forward slash kai andar kaam hota hai phir acess karsaktey hai\n"
   ]
  },
  {
   "cell_type": "code",
   "execution_count": 52,
   "metadata": {},
   "outputs": [
    {
     "name": "stdout",
     "output_type": "stream",
     "text": [
      "     faisal\n"
     ]
    }
   ],
   "source": [
    "string='     faisal'\n",
    "#t=string.lstrip()\n",
    "print(string)"
   ]
  },
  {
   "cell_type": "code",
   "execution_count": 49,
   "metadata": {},
   "outputs": [],
   "source": [
    "#line by line read karna hai\n",
    "#using for loop\n",
    "#readlines uska apna method bhi hai"
   ]
  },
  {
   "cell_type": "code",
   "execution_count": 53,
   "metadata": {},
   "outputs": [],
   "source": [
    "#one more mode that is binary\n",
    "#b mode sai pdf sai word ko convert karsaktey hai\n",
    "#binary mode khud search karna hai"
   ]
  },
  {
   "cell_type": "code",
   "execution_count": 54,
   "metadata": {},
   "outputs": [],
   "source": [
    "#exceptions "
   ]
  },
  {
   "cell_type": "code",
   "execution_count": 55,
   "metadata": {},
   "outputs": [
    {
     "ename": "ZeroDivisionError",
     "evalue": "division by zero",
     "output_type": "error",
     "traceback": [
      "\u001b[0;31m---------------------------------------------------------------------------\u001b[0m",
      "\u001b[0;31mZeroDivisionError\u001b[0m                         Traceback (most recent call last)",
      "\u001b[0;32m<ipython-input-55-0106664d39e8>\u001b[0m in \u001b[0;36m<module>\u001b[0;34m\u001b[0m\n\u001b[0;32m----> 1\u001b[0;31m \u001b[0;36m5\u001b[0m\u001b[0;34m/\u001b[0m\u001b[0;36m0\u001b[0m\u001b[0;34m\u001b[0m\u001b[0;34m\u001b[0m\u001b[0m\n\u001b[0m",
      "\u001b[0;31mZeroDivisionError\u001b[0m: division by zero"
     ]
    }
   ],
   "source": [
    "5/0\n"
   ]
  },
  {
   "cell_type": "code",
   "execution_count": 58,
   "metadata": {},
   "outputs": [
    {
     "name": "stdout",
     "output_type": "stream",
     "text": [
      "enter any no1\n",
      "enter any two0\n",
      "you can't divide by zero\n"
     ]
    }
   ],
   "source": [
    "#THis is an exception error\n",
    "#agar koi exception agaye to uske catch karney kai lie try and except ka concept use hota hai\n",
    "num1=int(input(\"enter any no\"))\n",
    "num2=int(input(\"enter any two\"))\n",
    "try:\n",
    "    print(num1/num2)\n",
    "except ZeroDivisionError:\n",
    "    print(\"you can't divide by zero\")\n",
    "    \n",
    "    "
   ]
  },
  {
   "cell_type": "code",
   "execution_count": 61,
   "metadata": {},
   "outputs": [
    {
     "name": "stdout",
     "output_type": "stream",
     "text": [
      "enter any no0\n",
      "enter any two0\n",
      "you can't divide by zero\n",
      "this is loop working well error can not stop our loop\n"
     ]
    }
   ],
   "source": [
    "#THis is an exception error\n",
    "#agar koi exception agaye to uske catch karney kai lie try and except ka concept use hota hai\n",
    "num1=int(input(\"enter any no\"))\n",
    "num2=int(input(\"enter any two\"))\n",
    "try:\n",
    "    print(num1/num2)\n",
    "except :\n",
    "    print(\"you can't divide by zero\")\n",
    "#ifelse to hamesha execute hoga #if else mei sirf ek exception pakar saktey hai\n",
    "\n",
    "print(\"this is loop working well error can not stop our loop\")"
   ]
  },
  {
   "cell_type": "code",
   "execution_count": 62,
   "metadata": {},
   "outputs": [
    {
     "name": "stdout",
     "output_type": "stream",
     "text": [
      "give me two numbers , and I'11 divide them \n",
      "Enter 'q' to quit\n",
      "enter any 1st number1\n",
      "enter any 2nd number2\n",
      "0.5\n",
      "enter any 1st number1\n",
      "enter any 2nd number3\n",
      "0.3333333333333333\n",
      "enter any 1st numberq\n"
     ]
    }
   ],
   "source": [
    "print(\"give me two numbers , and I'11 divide them \")\n",
    "print(\"Enter 'q' to quit\")\n",
    "while True:\n",
    "    first=input(\"enter any 1st number\")\n",
    "    if first=='q':\n",
    "        break\n",
    "        \n",
    "    second=input(\"enter any 2nd number\")\n",
    "    if second=='q':\n",
    "        break\n",
    "    \n",
    "    answer=int(first)/int(second)\n",
    "    print(answer)\n"
   ]
  },
  {
   "cell_type": "code",
   "execution_count": 2,
   "metadata": {},
   "outputs": [
    {
     "name": "stdout",
     "output_type": "stream",
     "text": [
      "give me two numbers , and I'11 divide them \n",
      "Enter 'q' to quit\n",
      "enter any 1st number4\n",
      "enter any 2nd numberq\n"
     ]
    }
   ],
   "source": [
    "print(\"give me two numbers , and I'11 divide them \")\n",
    "print(\"Enter 'q' to quit\")\n",
    "while True:\n",
    "    first=input(\"enter any 1st number\")\n",
    "    if first=='q':\n",
    "        break\n",
    "        \n",
    "    second=input(\"enter any 2nd number\")\n",
    "    if second=='q':\n",
    "        break\n",
    "    try:\n",
    "        answer=int(first)/int(second) #try ki body wo denay parta hai jaha exception generate hogi\n",
    "    except:\n",
    "        print(\"you have entered zero Enter different number \")\n",
    "        continue\n",
    "    \n",
    "    print(answer)\n"
   ]
  },
  {
   "cell_type": "code",
   "execution_count": 5,
   "metadata": {},
   "outputs": [
    {
     "name": "stdout",
     "output_type": "stream",
     "text": [
      "give me two numbers , and I'11 divide them \n",
      "Enter 'q' to quit\n",
      "enter any 1st numberq\n"
     ]
    }
   ],
   "source": [
    "print(\"give me two numbers , and I'11 divide them \")\n",
    "print(\"Enter 'q' to quit\")\n",
    "while True:\n",
    "    first=input(\"enter any 1st number\")\n",
    "    if first=='q':\n",
    "        break\n",
    "        \n",
    "    second=input(\"enter any 2nd number\")\n",
    "    #if second=='q':\n",
    "     #   break\n",
    "    try:\n",
    "        answer=int(first)/int(second) #try ki body wo denay parta hai jaha exception generate hogi\n",
    "    except: #general expection\n",
    "        print(\"you have entered zero Enter different number \")\n",
    "        #continue\n",
    "    else: # try kai baad else # agar except chala to else nahi chaley ga\n",
    "        print(answer)"
   ]
  },
  {
   "cell_type": "code",
   "execution_count": 6,
   "metadata": {},
   "outputs": [],
   "source": [
    "#any block if try sucessfully done then it will go to else\n",
    "#try block succed honey kai baad then we could put all the work in the else\n",
    "#we would only put exception in try\n",
    "#python crash course kai baad json ka topic hai"
   ]
  },
  {
   "cell_type": "code",
   "execution_count": 7,
   "metadata": {},
   "outputs": [],
   "source": [
    "#csv file is in excel format\n",
    "#datafile read\n",
    "#datatime\n",
    "#sys ki library\n",
    "#math ki libray\n"
   ]
  },
  {
   "cell_type": "code",
   "execution_count": 8,
   "metadata": {},
   "outputs": [],
   "source": [
    "import csv"
   ]
  },
  {
   "cell_type": "code",
   "execution_count": null,
   "metadata": {},
   "outputs": [],
   "source": [
    "#python kai baad numpy\n",
    "#python kai lie pandas satatistical"
   ]
  }
 ],
 "metadata": {
  "kernelspec": {
   "display_name": "Python 3",
   "language": "python",
   "name": "python3"
  },
  "language_info": {
   "codemirror_mode": {
    "name": "ipython",
    "version": 3
   },
   "file_extension": ".py",
   "mimetype": "text/x-python",
   "name": "python",
   "nbconvert_exporter": "python",
   "pygments_lexer": "ipython3",
   "version": "3.7.1"
  }
 },
 "nbformat": 4,
 "nbformat_minor": 2
}
