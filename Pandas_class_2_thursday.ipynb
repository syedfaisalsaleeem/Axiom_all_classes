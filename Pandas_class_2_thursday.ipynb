{
 "cells": [
  {
   "cell_type": "code",
   "execution_count": null,
   "metadata": {},
   "outputs": [],
   "source": []
  },
  {
   "cell_type": "code",
   "execution_count": null,
   "metadata": {},
   "outputs": [],
   "source": []
  },
  {
   "cell_type": "code",
   "execution_count": 7,
   "metadata": {},
   "outputs": [],
   "source": [
    "import pandas as pd"
   ]
  },
  {
   "cell_type": "code",
   "execution_count": 12,
   "metadata": {},
   "outputs": [
    {
     "data": {
      "text/html": [
       "<div>\n",
       "<style scoped>\n",
       "    .dataframe tbody tr th:only-of-type {\n",
       "        vertical-align: middle;\n",
       "    }\n",
       "\n",
       "    .dataframe tbody tr th {\n",
       "        vertical-align: top;\n",
       "    }\n",
       "\n",
       "    .dataframe thead th {\n",
       "        text-align: right;\n",
       "    }\n",
       "</style>\n",
       "<table border=\"1\" class=\"dataframe\">\n",
       "  <thead>\n",
       "    <tr style=\"text-align: right;\">\n",
       "      <th></th>\n",
       "      <th>Student Code</th>\n",
       "      <th>Degree</th>\n",
       "      <th>Student Name</th>\n",
       "      <th>Mid</th>\n",
       "      <th>Quiz 1</th>\n",
       "      <th>Quiz 2</th>\n",
       "      <th>Best of Quizzes</th>\n",
       "      <th>Assignment 1</th>\n",
       "      <th>Assignment 2</th>\n",
       "      <th>Best of Assignments</th>\n",
       "      <th>Total Sessional (50)</th>\n",
       "      <th>Final (50)</th>\n",
       "      <th>Total (100)</th>\n",
       "      <th>Grade</th>\n",
       "    </tr>\n",
       "  </thead>\n",
       "  <tbody>\n",
       "    <tr>\n",
       "      <th>0</th>\n",
       "      <td>022-14-19987</td>\n",
       "      <td>BS(CS)</td>\n",
       "      <td>Abdul Basit</td>\n",
       "      <td>28</td>\n",
       "      <td>8.0</td>\n",
       "      <td>3.0</td>\n",
       "      <td>8</td>\n",
       "      <td>7.0</td>\n",
       "      <td>9.0</td>\n",
       "      <td>9</td>\n",
       "      <td>45</td>\n",
       "      <td>25.0</td>\n",
       "      <td>70</td>\n",
       "      <td>B</td>\n",
       "    </tr>\n",
       "    <tr>\n",
       "      <th>1</th>\n",
       "      <td>022-14-110233</td>\n",
       "      <td>BS(CS)</td>\n",
       "      <td>Adeel Ahmed</td>\n",
       "      <td>17</td>\n",
       "      <td>NaN</td>\n",
       "      <td>5.0</td>\n",
       "      <td>5</td>\n",
       "      <td>8.0</td>\n",
       "      <td>10.0</td>\n",
       "      <td>10</td>\n",
       "      <td>32</td>\n",
       "      <td>18.0</td>\n",
       "      <td>50</td>\n",
       "      <td>F</td>\n",
       "    </tr>\n",
       "    <tr>\n",
       "      <th>2</th>\n",
       "      <td>022-14-110585</td>\n",
       "      <td>BS(CS)</td>\n",
       "      <td>Afrah Zareen</td>\n",
       "      <td>18</td>\n",
       "      <td>5.0</td>\n",
       "      <td>2.0</td>\n",
       "      <td>5</td>\n",
       "      <td>8.0</td>\n",
       "      <td>10.0</td>\n",
       "      <td>10</td>\n",
       "      <td>33</td>\n",
       "      <td>30.0</td>\n",
       "      <td>63</td>\n",
       "      <td>C</td>\n",
       "    </tr>\n",
       "    <tr>\n",
       "      <th>3</th>\n",
       "      <td>022-14-19718</td>\n",
       "      <td>BS(CS)</td>\n",
       "      <td>Ahmed Ali Raza</td>\n",
       "      <td>14</td>\n",
       "      <td>7.0</td>\n",
       "      <td>2.0</td>\n",
       "      <td>7</td>\n",
       "      <td>NaN</td>\n",
       "      <td>2.0</td>\n",
       "      <td>2</td>\n",
       "      <td>23</td>\n",
       "      <td>23.0</td>\n",
       "      <td>46</td>\n",
       "      <td>F</td>\n",
       "    </tr>\n",
       "    <tr>\n",
       "      <th>4</th>\n",
       "      <td>022-14-110648</td>\n",
       "      <td>BS(CS)</td>\n",
       "      <td>Ahsan Ali Vohra</td>\n",
       "      <td>27</td>\n",
       "      <td>7.0</td>\n",
       "      <td>6.0</td>\n",
       "      <td>7</td>\n",
       "      <td>7.0</td>\n",
       "      <td>9.0</td>\n",
       "      <td>9</td>\n",
       "      <td>43</td>\n",
       "      <td>34.0</td>\n",
       "      <td>77</td>\n",
       "      <td>B</td>\n",
       "    </tr>\n",
       "    <tr>\n",
       "      <th>5</th>\n",
       "      <td>022-14-110232</td>\n",
       "      <td>BS(CS)</td>\n",
       "      <td>Ameer Hamza</td>\n",
       "      <td>25</td>\n",
       "      <td>9.0</td>\n",
       "      <td>6.0</td>\n",
       "      <td>9</td>\n",
       "      <td>8.0</td>\n",
       "      <td>10.0</td>\n",
       "      <td>10</td>\n",
       "      <td>44</td>\n",
       "      <td>27.0</td>\n",
       "      <td>71</td>\n",
       "      <td>B</td>\n",
       "    </tr>\n",
       "    <tr>\n",
       "      <th>6</th>\n",
       "      <td>022-14-110588</td>\n",
       "      <td>BS(CS)</td>\n",
       "      <td>Anas Ali Khan</td>\n",
       "      <td>28</td>\n",
       "      <td>5.0</td>\n",
       "      <td>6.0</td>\n",
       "      <td>6</td>\n",
       "      <td>8.0</td>\n",
       "      <td>10.0</td>\n",
       "      <td>10</td>\n",
       "      <td>44</td>\n",
       "      <td>30.0</td>\n",
       "      <td>74</td>\n",
       "      <td>B</td>\n",
       "    </tr>\n",
       "    <tr>\n",
       "      <th>7</th>\n",
       "      <td>022-14-110388</td>\n",
       "      <td>BS(CS)</td>\n",
       "      <td>Aneebullah Niazi</td>\n",
       "      <td>26</td>\n",
       "      <td>9.0</td>\n",
       "      <td>6.0</td>\n",
       "      <td>9</td>\n",
       "      <td>8.0</td>\n",
       "      <td>10.0</td>\n",
       "      <td>10</td>\n",
       "      <td>45</td>\n",
       "      <td>40.0</td>\n",
       "      <td>85</td>\n",
       "      <td>A</td>\n",
       "    </tr>\n",
       "    <tr>\n",
       "      <th>8</th>\n",
       "      <td>022-14-110601</td>\n",
       "      <td>BS(CS)</td>\n",
       "      <td>Areesha Sohail</td>\n",
       "      <td>19</td>\n",
       "      <td>9.0</td>\n",
       "      <td>4.0</td>\n",
       "      <td>9</td>\n",
       "      <td>7.0</td>\n",
       "      <td>9.0</td>\n",
       "      <td>9</td>\n",
       "      <td>37</td>\n",
       "      <td>24.0</td>\n",
       "      <td>61</td>\n",
       "      <td>C</td>\n",
       "    </tr>\n",
       "    <tr>\n",
       "      <th>9</th>\n",
       "      <td>022-14-110599</td>\n",
       "      <td>BS(CS)</td>\n",
       "      <td>Arsalan</td>\n",
       "      <td>28</td>\n",
       "      <td>8.0</td>\n",
       "      <td>6.0</td>\n",
       "      <td>8</td>\n",
       "      <td>8.0</td>\n",
       "      <td>NaN</td>\n",
       "      <td>8</td>\n",
       "      <td>44</td>\n",
       "      <td>40.0</td>\n",
       "      <td>84</td>\n",
       "      <td>A</td>\n",
       "    </tr>\n",
       "    <tr>\n",
       "      <th>10</th>\n",
       "      <td>022-14-110214</td>\n",
       "      <td>BS(CS)</td>\n",
       "      <td>Fatima Haider Warsi</td>\n",
       "      <td>30</td>\n",
       "      <td>8.0</td>\n",
       "      <td>7.0</td>\n",
       "      <td>8</td>\n",
       "      <td>8.0</td>\n",
       "      <td>NaN</td>\n",
       "      <td>8</td>\n",
       "      <td>46</td>\n",
       "      <td>45.0</td>\n",
       "      <td>91</td>\n",
       "      <td>A</td>\n",
       "    </tr>\n",
       "    <tr>\n",
       "      <th>11</th>\n",
       "      <td>022-14-110591</td>\n",
       "      <td>BS(CS)</td>\n",
       "      <td>Habib Ullah</td>\n",
       "      <td>28</td>\n",
       "      <td>8.0</td>\n",
       "      <td>5.0</td>\n",
       "      <td>8</td>\n",
       "      <td>5.0</td>\n",
       "      <td>NaN</td>\n",
       "      <td>5</td>\n",
       "      <td>41</td>\n",
       "      <td>35.0</td>\n",
       "      <td>76</td>\n",
       "      <td>B</td>\n",
       "    </tr>\n",
       "    <tr>\n",
       "      <th>12</th>\n",
       "      <td>022-15-110994</td>\n",
       "      <td>BS(CS)</td>\n",
       "      <td>Hafiza Tooba Akbani</td>\n",
       "      <td>23</td>\n",
       "      <td>7.0</td>\n",
       "      <td>5.0</td>\n",
       "      <td>7</td>\n",
       "      <td>8.0</td>\n",
       "      <td>10.0</td>\n",
       "      <td>10</td>\n",
       "      <td>40</td>\n",
       "      <td>33.0</td>\n",
       "      <td>73</td>\n",
       "      <td>B</td>\n",
       "    </tr>\n",
       "    <tr>\n",
       "      <th>13</th>\n",
       "      <td>022-14-110600</td>\n",
       "      <td>BS(CS)</td>\n",
       "      <td>Hamza Abdul Jabbar</td>\n",
       "      <td>24</td>\n",
       "      <td>8.0</td>\n",
       "      <td>4.0</td>\n",
       "      <td>8</td>\n",
       "      <td>8.0</td>\n",
       "      <td>10.0</td>\n",
       "      <td>10</td>\n",
       "      <td>42</td>\n",
       "      <td>25.0</td>\n",
       "      <td>67</td>\n",
       "      <td>C</td>\n",
       "    </tr>\n",
       "    <tr>\n",
       "      <th>14</th>\n",
       "      <td>022-14-110389</td>\n",
       "      <td>BS(CS)</td>\n",
       "      <td>Hareem Afshan</td>\n",
       "      <td>21</td>\n",
       "      <td>7.0</td>\n",
       "      <td>4.0</td>\n",
       "      <td>7</td>\n",
       "      <td>6.0</td>\n",
       "      <td>8.0</td>\n",
       "      <td>8</td>\n",
       "      <td>36</td>\n",
       "      <td>29.0</td>\n",
       "      <td>65</td>\n",
       "      <td>C</td>\n",
       "    </tr>\n",
       "    <tr>\n",
       "      <th>15</th>\n",
       "      <td>022-14-19916</td>\n",
       "      <td>BS(CS)</td>\n",
       "      <td>Haseeb Sajid</td>\n",
       "      <td>18</td>\n",
       "      <td>NaN</td>\n",
       "      <td>NaN</td>\n",
       "      <td>0</td>\n",
       "      <td>NaN</td>\n",
       "      <td>NaN</td>\n",
       "      <td>0</td>\n",
       "      <td>18</td>\n",
       "      <td>NaN</td>\n",
       "      <td>18</td>\n",
       "      <td>F</td>\n",
       "    </tr>\n",
       "    <tr>\n",
       "      <th>16</th>\n",
       "      <td>022-14-110596</td>\n",
       "      <td>BS(CS)</td>\n",
       "      <td>Hassam Ahmed</td>\n",
       "      <td>23</td>\n",
       "      <td>5.0</td>\n",
       "      <td>5.0</td>\n",
       "      <td>5</td>\n",
       "      <td>7.0</td>\n",
       "      <td>9.0</td>\n",
       "      <td>9</td>\n",
       "      <td>37</td>\n",
       "      <td>35.0</td>\n",
       "      <td>72</td>\n",
       "      <td>B</td>\n",
       "    </tr>\n",
       "    <tr>\n",
       "      <th>17</th>\n",
       "      <td>022-14-110396</td>\n",
       "      <td>BS(CS)</td>\n",
       "      <td>Khalid Anwer</td>\n",
       "      <td>20</td>\n",
       "      <td>8.0</td>\n",
       "      <td>5.0</td>\n",
       "      <td>8</td>\n",
       "      <td>9.0</td>\n",
       "      <td>11.0</td>\n",
       "      <td>11</td>\n",
       "      <td>39</td>\n",
       "      <td>31.0</td>\n",
       "      <td>70</td>\n",
       "      <td>B</td>\n",
       "    </tr>\n",
       "    <tr>\n",
       "      <th>18</th>\n",
       "      <td>022-14-110223</td>\n",
       "      <td>BS(CS)</td>\n",
       "      <td>Madiha Jabeen</td>\n",
       "      <td>16</td>\n",
       "      <td>5.0</td>\n",
       "      <td>2.0</td>\n",
       "      <td>5</td>\n",
       "      <td>8.0</td>\n",
       "      <td>10.0</td>\n",
       "      <td>10</td>\n",
       "      <td>31</td>\n",
       "      <td>29.0</td>\n",
       "      <td>60</td>\n",
       "      <td>C</td>\n",
       "    </tr>\n",
       "    <tr>\n",
       "      <th>19</th>\n",
       "      <td>022-14-110222</td>\n",
       "      <td>BS(CS)</td>\n",
       "      <td>Mohammad Hunain</td>\n",
       "      <td>27</td>\n",
       "      <td>9.0</td>\n",
       "      <td>6.0</td>\n",
       "      <td>9</td>\n",
       "      <td>8.0</td>\n",
       "      <td>10.0</td>\n",
       "      <td>10</td>\n",
       "      <td>46</td>\n",
       "      <td>45.0</td>\n",
       "      <td>91</td>\n",
       "      <td>A</td>\n",
       "    </tr>\n",
       "    <tr>\n",
       "      <th>20</th>\n",
       "      <td>022-14-110412</td>\n",
       "      <td>BS(CS)</td>\n",
       "      <td>Muhammad Aamir</td>\n",
       "      <td>24</td>\n",
       "      <td>7.0</td>\n",
       "      <td>6.0</td>\n",
       "      <td>7</td>\n",
       "      <td>7.0</td>\n",
       "      <td>9.0</td>\n",
       "      <td>9</td>\n",
       "      <td>40</td>\n",
       "      <td>31.0</td>\n",
       "      <td>71</td>\n",
       "      <td>B</td>\n",
       "    </tr>\n",
       "    <tr>\n",
       "      <th>21</th>\n",
       "      <td>022-14-110593</td>\n",
       "      <td>BS(CS)</td>\n",
       "      <td>Muhammad Abdul Rehman Siddiqui</td>\n",
       "      <td>20</td>\n",
       "      <td>9.0</td>\n",
       "      <td>6.0</td>\n",
       "      <td>9</td>\n",
       "      <td>9.0</td>\n",
       "      <td>11.0</td>\n",
       "      <td>11</td>\n",
       "      <td>40</td>\n",
       "      <td>20.0</td>\n",
       "      <td>60</td>\n",
       "      <td>C</td>\n",
       "    </tr>\n",
       "    <tr>\n",
       "      <th>22</th>\n",
       "      <td>022-14-110398</td>\n",
       "      <td>BS(CS)</td>\n",
       "      <td>Muhammad Abdullah</td>\n",
       "      <td>20</td>\n",
       "      <td>7.0</td>\n",
       "      <td>6.0</td>\n",
       "      <td>7</td>\n",
       "      <td>7.0</td>\n",
       "      <td>NaN</td>\n",
       "      <td>7</td>\n",
       "      <td>34</td>\n",
       "      <td>23.0</td>\n",
       "      <td>57</td>\n",
       "      <td>F</td>\n",
       "    </tr>\n",
       "    <tr>\n",
       "      <th>23</th>\n",
       "      <td>022-14-19983</td>\n",
       "      <td>BS(CS)</td>\n",
       "      <td>Muhammad Ali Iqbal</td>\n",
       "      <td>26</td>\n",
       "      <td>5.0</td>\n",
       "      <td>NaN</td>\n",
       "      <td>5</td>\n",
       "      <td>8.0</td>\n",
       "      <td>10.0</td>\n",
       "      <td>10</td>\n",
       "      <td>41</td>\n",
       "      <td>21.0</td>\n",
       "      <td>62</td>\n",
       "      <td>C</td>\n",
       "    </tr>\n",
       "    <tr>\n",
       "      <th>24</th>\n",
       "      <td>022-14-110215</td>\n",
       "      <td>BS(CS)</td>\n",
       "      <td>Muhammad Bilal</td>\n",
       "      <td>28</td>\n",
       "      <td>5.0</td>\n",
       "      <td>4.0</td>\n",
       "      <td>5</td>\n",
       "      <td>9.0</td>\n",
       "      <td>11.0</td>\n",
       "      <td>11</td>\n",
       "      <td>44</td>\n",
       "      <td>33.0</td>\n",
       "      <td>77</td>\n",
       "      <td>B</td>\n",
       "    </tr>\n",
       "    <tr>\n",
       "      <th>25</th>\n",
       "      <td>022-14-110105</td>\n",
       "      <td>BS(CS)</td>\n",
       "      <td>Muhammad Faraz</td>\n",
       "      <td>26</td>\n",
       "      <td>9.0</td>\n",
       "      <td>6.0</td>\n",
       "      <td>9</td>\n",
       "      <td>8.0</td>\n",
       "      <td>10.0</td>\n",
       "      <td>10</td>\n",
       "      <td>45</td>\n",
       "      <td>41.0</td>\n",
       "      <td>86</td>\n",
       "      <td>A</td>\n",
       "    </tr>\n",
       "    <tr>\n",
       "      <th>26</th>\n",
       "      <td>022-14-110370</td>\n",
       "      <td>BS(CS)</td>\n",
       "      <td>Muhammad Ghazali Faridi</td>\n",
       "      <td>27</td>\n",
       "      <td>6.0</td>\n",
       "      <td>NaN</td>\n",
       "      <td>6</td>\n",
       "      <td>6.0</td>\n",
       "      <td>8.0</td>\n",
       "      <td>8</td>\n",
       "      <td>41</td>\n",
       "      <td>24.0</td>\n",
       "      <td>65</td>\n",
       "      <td>C</td>\n",
       "    </tr>\n",
       "    <tr>\n",
       "      <th>27</th>\n",
       "      <td>022-14-110452</td>\n",
       "      <td>BS(CS)</td>\n",
       "      <td>Muhammad Osama Khan</td>\n",
       "      <td>27</td>\n",
       "      <td>8.0</td>\n",
       "      <td>6.0</td>\n",
       "      <td>8</td>\n",
       "      <td>8.0</td>\n",
       "      <td>10.0</td>\n",
       "      <td>10</td>\n",
       "      <td>45</td>\n",
       "      <td>26.0</td>\n",
       "      <td>71</td>\n",
       "      <td>B</td>\n",
       "    </tr>\n",
       "    <tr>\n",
       "      <th>28</th>\n",
       "      <td>022-14-110387</td>\n",
       "      <td>BS(CS)</td>\n",
       "      <td>Muhammad Saqib Intizar</td>\n",
       "      <td>22</td>\n",
       "      <td>6.0</td>\n",
       "      <td>6.0</td>\n",
       "      <td>6</td>\n",
       "      <td>9.0</td>\n",
       "      <td>11.0</td>\n",
       "      <td>11</td>\n",
       "      <td>39</td>\n",
       "      <td>18.0</td>\n",
       "      <td>57</td>\n",
       "      <td>F</td>\n",
       "    </tr>\n",
       "    <tr>\n",
       "      <th>29</th>\n",
       "      <td>022-14-110217</td>\n",
       "      <td>BS(CS)</td>\n",
       "      <td>Muhammad Shahroz Khurshid</td>\n",
       "      <td>17</td>\n",
       "      <td>7.0</td>\n",
       "      <td>1.0</td>\n",
       "      <td>7</td>\n",
       "      <td>6.0</td>\n",
       "      <td>NaN</td>\n",
       "      <td>6</td>\n",
       "      <td>30</td>\n",
       "      <td>9.0</td>\n",
       "      <td>39</td>\n",
       "      <td>F</td>\n",
       "    </tr>\n",
       "    <tr>\n",
       "      <th>30</th>\n",
       "      <td>022-14-110401</td>\n",
       "      <td>BS(CS)</td>\n",
       "      <td>Muhammad Shozab</td>\n",
       "      <td>23</td>\n",
       "      <td>8.0</td>\n",
       "      <td>6.0</td>\n",
       "      <td>8</td>\n",
       "      <td>9.0</td>\n",
       "      <td>NaN</td>\n",
       "      <td>9</td>\n",
       "      <td>40</td>\n",
       "      <td>32.0</td>\n",
       "      <td>72</td>\n",
       "      <td>B</td>\n",
       "    </tr>\n",
       "    <tr>\n",
       "      <th>31</th>\n",
       "      <td>022-14-110231</td>\n",
       "      <td>BS(CS)</td>\n",
       "      <td>Muhammad Taha Hasnain</td>\n",
       "      <td>27</td>\n",
       "      <td>7.0</td>\n",
       "      <td>5.0</td>\n",
       "      <td>7</td>\n",
       "      <td>10.0</td>\n",
       "      <td>NaN</td>\n",
       "      <td>10</td>\n",
       "      <td>44</td>\n",
       "      <td>29.0</td>\n",
       "      <td>73</td>\n",
       "      <td>B</td>\n",
       "    </tr>\n",
       "    <tr>\n",
       "      <th>32</th>\n",
       "      <td>022-14-110035</td>\n",
       "      <td>BS(CS)</td>\n",
       "      <td>Muhammad Wajahat Khan</td>\n",
       "      <td>9</td>\n",
       "      <td>NaN</td>\n",
       "      <td>2.0</td>\n",
       "      <td>2</td>\n",
       "      <td>8.0</td>\n",
       "      <td>10.0</td>\n",
       "      <td>10</td>\n",
       "      <td>21</td>\n",
       "      <td>8.0</td>\n",
       "      <td>29</td>\n",
       "      <td>F</td>\n",
       "    </tr>\n",
       "    <tr>\n",
       "      <th>33</th>\n",
       "      <td>022-14-19919</td>\n",
       "      <td>BS(CS)</td>\n",
       "      <td>Muhammad Younus Baig</td>\n",
       "      <td>20</td>\n",
       "      <td>4.0</td>\n",
       "      <td>2.0</td>\n",
       "      <td>4</td>\n",
       "      <td>8.0</td>\n",
       "      <td>10.0</td>\n",
       "      <td>10</td>\n",
       "      <td>34</td>\n",
       "      <td>17.0</td>\n",
       "      <td>51</td>\n",
       "      <td>F</td>\n",
       "    </tr>\n",
       "    <tr>\n",
       "      <th>34</th>\n",
       "      <td>022-14-110413</td>\n",
       "      <td>BS(CS)</td>\n",
       "      <td>Nazeer Bin Zafar</td>\n",
       "      <td>25</td>\n",
       "      <td>9.0</td>\n",
       "      <td>6.0</td>\n",
       "      <td>9</td>\n",
       "      <td>8.0</td>\n",
       "      <td>10.0</td>\n",
       "      <td>10</td>\n",
       "      <td>44</td>\n",
       "      <td>42.0</td>\n",
       "      <td>86</td>\n",
       "      <td>A</td>\n",
       "    </tr>\n",
       "    <tr>\n",
       "      <th>35</th>\n",
       "      <td>022-14-19923</td>\n",
       "      <td>BS(CS)</td>\n",
       "      <td>Rabi Ahmed</td>\n",
       "      <td>20</td>\n",
       "      <td>8.0</td>\n",
       "      <td>5.0</td>\n",
       "      <td>8</td>\n",
       "      <td>NaN</td>\n",
       "      <td>10.0</td>\n",
       "      <td>10</td>\n",
       "      <td>38</td>\n",
       "      <td>28.0</td>\n",
       "      <td>66</td>\n",
       "      <td>C</td>\n",
       "    </tr>\n",
       "    <tr>\n",
       "      <th>36</th>\n",
       "      <td>022-14-110582</td>\n",
       "      <td>BS(CS)</td>\n",
       "      <td>Rida Nasim</td>\n",
       "      <td>25</td>\n",
       "      <td>9.0</td>\n",
       "      <td>5.0</td>\n",
       "      <td>9</td>\n",
       "      <td>9.0</td>\n",
       "      <td>NaN</td>\n",
       "      <td>9</td>\n",
       "      <td>43</td>\n",
       "      <td>27.0</td>\n",
       "      <td>70</td>\n",
       "      <td>B</td>\n",
       "    </tr>\n",
       "    <tr>\n",
       "      <th>37</th>\n",
       "      <td>022-14-110230</td>\n",
       "      <td>BS(CS)</td>\n",
       "      <td>Sadaf Nosheen</td>\n",
       "      <td>27</td>\n",
       "      <td>9.0</td>\n",
       "      <td>5.0</td>\n",
       "      <td>9</td>\n",
       "      <td>9.0</td>\n",
       "      <td>NaN</td>\n",
       "      <td>9</td>\n",
       "      <td>45</td>\n",
       "      <td>30.0</td>\n",
       "      <td>75</td>\n",
       "      <td>B</td>\n",
       "    </tr>\n",
       "    <tr>\n",
       "      <th>38</th>\n",
       "      <td>022-14-110229</td>\n",
       "      <td>BS(CS)</td>\n",
       "      <td>Sadaquat Rafique</td>\n",
       "      <td>9</td>\n",
       "      <td>6.0</td>\n",
       "      <td>6.0</td>\n",
       "      <td>6</td>\n",
       "      <td>5.0</td>\n",
       "      <td>7.0</td>\n",
       "      <td>7</td>\n",
       "      <td>22</td>\n",
       "      <td>17.0</td>\n",
       "      <td>39</td>\n",
       "      <td>F</td>\n",
       "    </tr>\n",
       "    <tr>\n",
       "      <th>39</th>\n",
       "      <td>022-14-110107</td>\n",
       "      <td>BS(CS)</td>\n",
       "      <td>Sania Iqbal</td>\n",
       "      <td>28</td>\n",
       "      <td>4.0</td>\n",
       "      <td>4.0</td>\n",
       "      <td>4</td>\n",
       "      <td>9.0</td>\n",
       "      <td>11.0</td>\n",
       "      <td>11</td>\n",
       "      <td>43</td>\n",
       "      <td>25.0</td>\n",
       "      <td>68</td>\n",
       "      <td>C</td>\n",
       "    </tr>\n",
       "    <tr>\n",
       "      <th>40</th>\n",
       "      <td>022-14-110584</td>\n",
       "      <td>BS(CS)</td>\n",
       "      <td>Sharif Taqi</td>\n",
       "      <td>27</td>\n",
       "      <td>9.0</td>\n",
       "      <td>6.0</td>\n",
       "      <td>9</td>\n",
       "      <td>8.0</td>\n",
       "      <td>10.0</td>\n",
       "      <td>10</td>\n",
       "      <td>46</td>\n",
       "      <td>35.0</td>\n",
       "      <td>81</td>\n",
       "      <td>A</td>\n",
       "    </tr>\n",
       "    <tr>\n",
       "      <th>41</th>\n",
       "      <td>022-14-110225</td>\n",
       "      <td>BS(CS)</td>\n",
       "      <td>Shariqa Ahmad</td>\n",
       "      <td>20</td>\n",
       "      <td>7.0</td>\n",
       "      <td>6.0</td>\n",
       "      <td>7</td>\n",
       "      <td>8.0</td>\n",
       "      <td>10.0</td>\n",
       "      <td>10</td>\n",
       "      <td>37</td>\n",
       "      <td>20.0</td>\n",
       "      <td>57</td>\n",
       "      <td>F</td>\n",
       "    </tr>\n",
       "    <tr>\n",
       "      <th>42</th>\n",
       "      <td>022-14-110587</td>\n",
       "      <td>BS(CS)</td>\n",
       "      <td>Sumbul Rehman</td>\n",
       "      <td>28</td>\n",
       "      <td>5.0</td>\n",
       "      <td>6.0</td>\n",
       "      <td>6</td>\n",
       "      <td>8.0</td>\n",
       "      <td>10.0</td>\n",
       "      <td>10</td>\n",
       "      <td>44</td>\n",
       "      <td>23.0</td>\n",
       "      <td>67</td>\n",
       "      <td>C</td>\n",
       "    </tr>\n",
       "    <tr>\n",
       "      <th>43</th>\n",
       "      <td>022-14-110451</td>\n",
       "      <td>BS(CS)</td>\n",
       "      <td>Syed Faizan Uddin</td>\n",
       "      <td>28</td>\n",
       "      <td>9.0</td>\n",
       "      <td>4.0</td>\n",
       "      <td>9</td>\n",
       "      <td>6.0</td>\n",
       "      <td>8.0</td>\n",
       "      <td>8</td>\n",
       "      <td>45</td>\n",
       "      <td>34.0</td>\n",
       "      <td>79</td>\n",
       "      <td>B</td>\n",
       "    </tr>\n",
       "    <tr>\n",
       "      <th>44</th>\n",
       "      <td>022-14-110589</td>\n",
       "      <td>BS(CS)</td>\n",
       "      <td>Syed Sohaib</td>\n",
       "      <td>25</td>\n",
       "      <td>7.0</td>\n",
       "      <td>5.0</td>\n",
       "      <td>7</td>\n",
       "      <td>9.0</td>\n",
       "      <td>NaN</td>\n",
       "      <td>9</td>\n",
       "      <td>41</td>\n",
       "      <td>22.0</td>\n",
       "      <td>63</td>\n",
       "      <td>C</td>\n",
       "    </tr>\n",
       "    <tr>\n",
       "      <th>45</th>\n",
       "      <td>022-14-110400</td>\n",
       "      <td>BS(CS)</td>\n",
       "      <td>Syeda Sabika Raza</td>\n",
       "      <td>27</td>\n",
       "      <td>9.0</td>\n",
       "      <td>6.0</td>\n",
       "      <td>9</td>\n",
       "      <td>9.0</td>\n",
       "      <td>NaN</td>\n",
       "      <td>9</td>\n",
       "      <td>45</td>\n",
       "      <td>35.0</td>\n",
       "      <td>80</td>\n",
       "      <td>A</td>\n",
       "    </tr>\n",
       "    <tr>\n",
       "      <th>46</th>\n",
       "      <td>022-14-19911</td>\n",
       "      <td>BS(CS)</td>\n",
       "      <td>Usman Khan</td>\n",
       "      <td>25</td>\n",
       "      <td>8.0</td>\n",
       "      <td>5.0</td>\n",
       "      <td>8</td>\n",
       "      <td>8.0</td>\n",
       "      <td>10.0</td>\n",
       "      <td>10</td>\n",
       "      <td>43</td>\n",
       "      <td>22.0</td>\n",
       "      <td>65</td>\n",
       "      <td>C</td>\n",
       "    </tr>\n",
       "    <tr>\n",
       "      <th>47</th>\n",
       "      <td>022-14-110219</td>\n",
       "      <td>BS(CS)</td>\n",
       "      <td>Waqar Ahmed</td>\n",
       "      <td>11</td>\n",
       "      <td>9.0</td>\n",
       "      <td>5.0</td>\n",
       "      <td>9</td>\n",
       "      <td>5.0</td>\n",
       "      <td>7.0</td>\n",
       "      <td>7</td>\n",
       "      <td>27</td>\n",
       "      <td>19.0</td>\n",
       "      <td>46</td>\n",
       "      <td>F</td>\n",
       "    </tr>\n",
       "  </tbody>\n",
       "</table>\n",
       "</div>"
      ],
      "text/plain": [
       "     Student Code  Degree                    Student Name  Mid  Quiz 1  \\\n",
       "0    022-14-19987  BS(CS)                     Abdul Basit   28     8.0   \n",
       "1   022-14-110233  BS(CS)                     Adeel Ahmed   17     NaN   \n",
       "2   022-14-110585  BS(CS)                    Afrah Zareen   18     5.0   \n",
       "3    022-14-19718  BS(CS)                  Ahmed Ali Raza   14     7.0   \n",
       "4   022-14-110648  BS(CS)                 Ahsan Ali Vohra   27     7.0   \n",
       "5   022-14-110232  BS(CS)                     Ameer Hamza   25     9.0   \n",
       "6   022-14-110588  BS(CS)                   Anas Ali Khan   28     5.0   \n",
       "7   022-14-110388  BS(CS)                Aneebullah Niazi   26     9.0   \n",
       "8   022-14-110601  BS(CS)                  Areesha Sohail   19     9.0   \n",
       "9   022-14-110599  BS(CS)                         Arsalan   28     8.0   \n",
       "10  022-14-110214  BS(CS)             Fatima Haider Warsi   30     8.0   \n",
       "11  022-14-110591  BS(CS)                     Habib Ullah   28     8.0   \n",
       "12  022-15-110994  BS(CS)             Hafiza Tooba Akbani   23     7.0   \n",
       "13  022-14-110600  BS(CS)              Hamza Abdul Jabbar   24     8.0   \n",
       "14  022-14-110389  BS(CS)                   Hareem Afshan   21     7.0   \n",
       "15   022-14-19916  BS(CS)                    Haseeb Sajid   18     NaN   \n",
       "16  022-14-110596  BS(CS)                    Hassam Ahmed   23     5.0   \n",
       "17  022-14-110396  BS(CS)                    Khalid Anwer   20     8.0   \n",
       "18  022-14-110223  BS(CS)                   Madiha Jabeen   16     5.0   \n",
       "19  022-14-110222  BS(CS)                 Mohammad Hunain   27     9.0   \n",
       "20  022-14-110412  BS(CS)                  Muhammad Aamir   24     7.0   \n",
       "21  022-14-110593  BS(CS)  Muhammad Abdul Rehman Siddiqui   20     9.0   \n",
       "22  022-14-110398  BS(CS)               Muhammad Abdullah   20     7.0   \n",
       "23   022-14-19983  BS(CS)              Muhammad Ali Iqbal   26     5.0   \n",
       "24  022-14-110215  BS(CS)                  Muhammad Bilal   28     5.0   \n",
       "25  022-14-110105  BS(CS)                  Muhammad Faraz   26     9.0   \n",
       "26  022-14-110370  BS(CS)         Muhammad Ghazali Faridi   27     6.0   \n",
       "27  022-14-110452  BS(CS)             Muhammad Osama Khan   27     8.0   \n",
       "28  022-14-110387  BS(CS)          Muhammad Saqib Intizar   22     6.0   \n",
       "29  022-14-110217  BS(CS)       Muhammad Shahroz Khurshid   17     7.0   \n",
       "30  022-14-110401  BS(CS)                 Muhammad Shozab   23     8.0   \n",
       "31  022-14-110231  BS(CS)           Muhammad Taha Hasnain   27     7.0   \n",
       "32  022-14-110035  BS(CS)           Muhammad Wajahat Khan    9     NaN   \n",
       "33   022-14-19919  BS(CS)            Muhammad Younus Baig   20     4.0   \n",
       "34  022-14-110413  BS(CS)                Nazeer Bin Zafar   25     9.0   \n",
       "35   022-14-19923  BS(CS)                      Rabi Ahmed   20     8.0   \n",
       "36  022-14-110582  BS(CS)                      Rida Nasim   25     9.0   \n",
       "37  022-14-110230  BS(CS)                   Sadaf Nosheen   27     9.0   \n",
       "38  022-14-110229  BS(CS)                Sadaquat Rafique    9     6.0   \n",
       "39  022-14-110107  BS(CS)                     Sania Iqbal   28     4.0   \n",
       "40  022-14-110584  BS(CS)                     Sharif Taqi   27     9.0   \n",
       "41  022-14-110225  BS(CS)                   Shariqa Ahmad   20     7.0   \n",
       "42  022-14-110587  BS(CS)                   Sumbul Rehman   28     5.0   \n",
       "43  022-14-110451  BS(CS)               Syed Faizan Uddin   28     9.0   \n",
       "44  022-14-110589  BS(CS)                     Syed Sohaib   25     7.0   \n",
       "45  022-14-110400  BS(CS)               Syeda Sabika Raza   27     9.0   \n",
       "46   022-14-19911  BS(CS)                      Usman Khan   25     8.0   \n",
       "47  022-14-110219  BS(CS)                     Waqar Ahmed   11     9.0   \n",
       "\n",
       "    Quiz 2  Best of Quizzes  Assignment 1  Assignment 2  Best of Assignments  \\\n",
       "0      3.0                8           7.0           9.0                    9   \n",
       "1      5.0                5           8.0          10.0                   10   \n",
       "2      2.0                5           8.0          10.0                   10   \n",
       "3      2.0                7           NaN           2.0                    2   \n",
       "4      6.0                7           7.0           9.0                    9   \n",
       "5      6.0                9           8.0          10.0                   10   \n",
       "6      6.0                6           8.0          10.0                   10   \n",
       "7      6.0                9           8.0          10.0                   10   \n",
       "8      4.0                9           7.0           9.0                    9   \n",
       "9      6.0                8           8.0           NaN                    8   \n",
       "10     7.0                8           8.0           NaN                    8   \n",
       "11     5.0                8           5.0           NaN                    5   \n",
       "12     5.0                7           8.0          10.0                   10   \n",
       "13     4.0                8           8.0          10.0                   10   \n",
       "14     4.0                7           6.0           8.0                    8   \n",
       "15     NaN                0           NaN           NaN                    0   \n",
       "16     5.0                5           7.0           9.0                    9   \n",
       "17     5.0                8           9.0          11.0                   11   \n",
       "18     2.0                5           8.0          10.0                   10   \n",
       "19     6.0                9           8.0          10.0                   10   \n",
       "20     6.0                7           7.0           9.0                    9   \n",
       "21     6.0                9           9.0          11.0                   11   \n",
       "22     6.0                7           7.0           NaN                    7   \n",
       "23     NaN                5           8.0          10.0                   10   \n",
       "24     4.0                5           9.0          11.0                   11   \n",
       "25     6.0                9           8.0          10.0                   10   \n",
       "26     NaN                6           6.0           8.0                    8   \n",
       "27     6.0                8           8.0          10.0                   10   \n",
       "28     6.0                6           9.0          11.0                   11   \n",
       "29     1.0                7           6.0           NaN                    6   \n",
       "30     6.0                8           9.0           NaN                    9   \n",
       "31     5.0                7          10.0           NaN                   10   \n",
       "32     2.0                2           8.0          10.0                   10   \n",
       "33     2.0                4           8.0          10.0                   10   \n",
       "34     6.0                9           8.0          10.0                   10   \n",
       "35     5.0                8           NaN          10.0                   10   \n",
       "36     5.0                9           9.0           NaN                    9   \n",
       "37     5.0                9           9.0           NaN                    9   \n",
       "38     6.0                6           5.0           7.0                    7   \n",
       "39     4.0                4           9.0          11.0                   11   \n",
       "40     6.0                9           8.0          10.0                   10   \n",
       "41     6.0                7           8.0          10.0                   10   \n",
       "42     6.0                6           8.0          10.0                   10   \n",
       "43     4.0                9           6.0           8.0                    8   \n",
       "44     5.0                7           9.0           NaN                    9   \n",
       "45     6.0                9           9.0           NaN                    9   \n",
       "46     5.0                8           8.0          10.0                   10   \n",
       "47     5.0                9           5.0           7.0                    7   \n",
       "\n",
       "    Total Sessional (50)  Final (50)  Total (100) Grade  \n",
       "0                     45        25.0           70     B  \n",
       "1                     32        18.0           50     F  \n",
       "2                     33        30.0           63     C  \n",
       "3                     23        23.0           46     F  \n",
       "4                     43        34.0           77     B  \n",
       "5                     44        27.0           71     B  \n",
       "6                     44        30.0           74     B  \n",
       "7                     45        40.0           85     A  \n",
       "8                     37        24.0           61     C  \n",
       "9                     44        40.0           84     A  \n",
       "10                    46        45.0           91     A  \n",
       "11                    41        35.0           76     B  \n",
       "12                    40        33.0           73     B  \n",
       "13                    42        25.0           67     C  \n",
       "14                    36        29.0           65     C  \n",
       "15                    18         NaN           18     F  \n",
       "16                    37        35.0           72     B  \n",
       "17                    39        31.0           70     B  \n",
       "18                    31        29.0           60     C  \n",
       "19                    46        45.0           91     A  \n",
       "20                    40        31.0           71     B  \n",
       "21                    40        20.0           60     C  \n",
       "22                    34        23.0           57     F  \n",
       "23                    41        21.0           62     C  \n",
       "24                    44        33.0           77     B  \n",
       "25                    45        41.0           86     A  \n",
       "26                    41        24.0           65     C  \n",
       "27                    45        26.0           71     B  \n",
       "28                    39        18.0           57     F  \n",
       "29                    30         9.0           39     F  \n",
       "30                    40        32.0           72     B  \n",
       "31                    44        29.0           73     B  \n",
       "32                    21         8.0           29     F  \n",
       "33                    34        17.0           51     F  \n",
       "34                    44        42.0           86     A  \n",
       "35                    38        28.0           66     C  \n",
       "36                    43        27.0           70     B  \n",
       "37                    45        30.0           75     B  \n",
       "38                    22        17.0           39     F  \n",
       "39                    43        25.0           68     C  \n",
       "40                    46        35.0           81     A  \n",
       "41                    37        20.0           57     F  \n",
       "42                    44        23.0           67     C  \n",
       "43                    45        34.0           79     B  \n",
       "44                    41        22.0           63     C  \n",
       "45                    45        35.0           80     A  \n",
       "46                    43        22.0           65     C  \n",
       "47                    27        19.0           46     F  "
      ]
     },
     "execution_count": 12,
     "metadata": {},
     "output_type": "execute_result"
    }
   ],
   "source": [
    "x=pd.read_csv('data_for_panda_exercise.csv')\n",
    "x"
   ]
  },
  {
   "cell_type": "code",
   "execution_count": 24,
   "metadata": {},
   "outputs": [
    {
     "data": {
      "text/plain": [
       "'Anas Ali Khan'"
      ]
     },
     "execution_count": 24,
     "metadata": {},
     "output_type": "execute_result"
    }
   ],
   "source": [
    "x['Student Name'][6]\n"
   ]
  },
  {
   "cell_type": "code",
   "execution_count": 25,
   "metadata": {},
   "outputs": [],
   "source": [
    "#index ap ek series ka dusra series ka wohi index karsaktey ho #or isitarha aap values bhi dusries ki use karsaktey hai"
   ]
  },
  {
   "cell_type": "code",
   "execution_count": 37,
   "metadata": {},
   "outputs": [],
   "source": [
    "import pandas as pd\n",
    "from pandas import Series,DataFrame"
   ]
  },
  {
   "cell_type": "code",
   "execution_count": 31,
   "metadata": {},
   "outputs": [
    {
     "data": {
      "text/plain": [
       "0    1\n",
       "1    2\n",
       "2    3\n",
       "3    4\n",
       "4    5\n",
       "dtype: int64"
      ]
     },
     "execution_count": 31,
     "metadata": {},
     "output_type": "execute_result"
    }
   ],
   "source": [
    "a=Series([1,2,3,4,5])\n",
    "a"
   ]
  },
  {
   "cell_type": "code",
   "execution_count": 32,
   "metadata": {},
   "outputs": [
    {
     "data": {
      "text/plain": [
       "a    1\n",
       "b    2\n",
       "c    3\n",
       "d    4\n",
       "e    5\n",
       "dtype: int64"
      ]
     },
     "execution_count": 32,
     "metadata": {},
     "output_type": "execute_result"
    }
   ],
   "source": [
    "a=Series(a.values,index=['a','b','c','d','e'])\n",
    "a"
   ]
  },
  {
   "cell_type": "code",
   "execution_count": 34,
   "metadata": {},
   "outputs": [
    {
     "data": {
      "text/plain": [
       "a    ab\n",
       "b    bc\n",
       "c    cd\n",
       "d    ef\n",
       "e    gh\n",
       "dtype: object"
      ]
     },
     "execution_count": 34,
     "metadata": {},
     "output_type": "execute_result"
    }
   ],
   "source": [
    "d=Series(['ab','bc','cd','ef','gh'],a.index)\n",
    "d"
   ]
  },
  {
   "cell_type": "code",
   "execution_count": 36,
   "metadata": {},
   "outputs": [
    {
     "data": {
      "text/plain": [
       "f    faisal\n",
       "i     iqbal\n",
       "A     Azeem\n",
       "H     Haris\n",
       "dtype: object"
      ]
     },
     "execution_count": 36,
     "metadata": {},
     "output_type": "execute_result"
    }
   ],
   "source": [
    "Name=Series(['faisal','iqbal','Azeem','Haris'],index=['f','i','A','H'])\n",
    "Name"
   ]
  },
  {
   "cell_type": "code",
   "execution_count": 39,
   "metadata": {},
   "outputs": [
    {
     "data": {
      "text/plain": [
       "DatetimeIndex(['2018-01-31', '2018-02-28', '2018-03-31', '2018-04-30',\n",
       "               '2018-05-31', '2018-06-30', '2018-07-31', '2018-08-31',\n",
       "               '2018-09-30', '2018-10-31', '2018-11-30', '2018-12-31',\n",
       "               '2019-01-31', '2019-02-28', '2019-03-31', '2019-04-30',\n",
       "               '2019-05-31', '2019-06-30', '2019-07-31', '2019-08-31',\n",
       "               '2019-09-30', '2019-10-31', '2019-11-30', '2019-12-31'],\n",
       "              dtype='datetime64[ns]', freq='M')"
      ]
     },
     "execution_count": 39,
     "metadata": {},
     "output_type": "execute_result"
    }
   ],
   "source": [
    "dates=pd.date_range('2018-01-01','2019-12-31',freq='M')\n",
    "dates"
   ]
  },
  {
   "cell_type": "code",
   "execution_count": 40,
   "metadata": {},
   "outputs": [
    {
     "data": {
      "text/plain": [
       "DatetimeIndex(['2018-01-07', '2018-01-14', '2018-01-21', '2018-01-28',\n",
       "               '2018-02-04', '2018-02-11', '2018-02-18', '2018-02-25',\n",
       "               '2018-03-04', '2018-03-11',\n",
       "               ...\n",
       "               '2019-10-27', '2019-11-03', '2019-11-10', '2019-11-17',\n",
       "               '2019-11-24', '2019-12-01', '2019-12-08', '2019-12-15',\n",
       "               '2019-12-22', '2019-12-29'],\n",
       "              dtype='datetime64[ns]', length=104, freq='W-SUN')"
      ]
     },
     "execution_count": 40,
     "metadata": {},
     "output_type": "execute_result"
    }
   ],
   "source": [
    "dates=pd.date_range('2018-01-01','2019-12-31',freq='W')#Week\n",
    "dates"
   ]
  },
  {
   "cell_type": "code",
   "execution_count": 54,
   "metadata": {},
   "outputs": [
    {
     "data": {
      "text/plain": [
       "DatetimeIndex(['2018-01-01', '2018-01-02', '2018-01-03', '2018-01-04'], dtype='datetime64[ns]', freq='D')"
      ]
     },
     "execution_count": 54,
     "metadata": {},
     "output_type": "execute_result"
    }
   ],
   "source": [
    "dates=pd.date_range('2018-01-01','2018-01-04',freq='D')#Day\n",
    "dates"
   ]
  },
  {
   "cell_type": "code",
   "execution_count": 55,
   "metadata": {},
   "outputs": [
    {
     "data": {
      "text/plain": [
       "2018-01-01    [80, 31]\n",
       "2018-01-02    [45, 24]\n",
       "2018-01-03    [91, 45]\n",
       "2018-01-04    [22, 34]\n",
       "Freq: D, dtype: object"
      ]
     },
     "execution_count": 55,
     "metadata": {},
     "output_type": "execute_result"
    }
   ],
   "source": [
    "b=Series([[80,31],[45,24],[91,45] ,[22,34]],index=dates)\n",
    "b"
   ]
  },
  {
   "cell_type": "code",
   "execution_count": 56,
   "metadata": {},
   "outputs": [
    {
     "data": {
      "text/plain": [
       "2018-01-01    80\n",
       "2018-01-02    31\n",
       "2018-01-03    45\n",
       "2018-01-04    24\n",
       "Freq: D, dtype: int64"
      ]
     },
     "execution_count": 56,
     "metadata": {},
     "output_type": "execute_result"
    }
   ],
   "source": [
    "b=Series([80,31,45,24],index=dates)\n",
    "b"
   ]
  },
  {
   "cell_type": "code",
   "execution_count": 57,
   "metadata": {},
   "outputs": [
    {
     "data": {
      "text/plain": [
       "A    1\n",
       "B    2\n",
       "dtype: int64"
      ]
     },
     "execution_count": 57,
     "metadata": {},
     "output_type": "execute_result"
    }
   ],
   "source": [
    "b=Series({'A':1,'B':2})\n",
    "b"
   ]
  },
  {
   "cell_type": "code",
   "execution_count": 58,
   "metadata": {},
   "outputs": [],
   "source": [
    "#jabek hi value di ha to wo index nahi hai"
   ]
  },
  {
   "cell_type": "code",
   "execution_count": 61,
   "metadata": {},
   "outputs": [
    {
     "data": {
      "text/plain": [
       "A    2\n",
       "B    2\n",
       "dtype: int64"
      ]
     },
     "execution_count": 61,
     "metadata": {},
     "output_type": "execute_result"
    }
   ],
   "source": [
    "b=Series(2,b.index)#ek hi number pr bohat sara index ajaye gai\n",
    "b"
   ]
  },
  {
   "cell_type": "code",
   "execution_count": 62,
   "metadata": {},
   "outputs": [],
   "source": [
    "# agar ham random number generate karahe hai to har dafa alag random number generta hoga to seed sai random number generate change nahi hongi"
   ]
  },
  {
   "cell_type": "code",
   "execution_count": 68,
   "metadata": {},
   "outputs": [
    {
     "data": {
      "text/plain": [
       "array([ 0.44122749, -0.33087015,  2.43077119, -0.25209213,  0.10960984])"
      ]
     },
     "execution_count": 68,
     "metadata": {},
     "output_type": "execute_result"
    }
   ],
   "source": [
    "import numpy as np\n",
    "a=np.random.seed(5)\n",
    "a=np.random.randn((5))\n",
    "a"
   ]
  },
  {
   "cell_type": "code",
   "execution_count": 101,
   "metadata": {},
   "outputs": [
    {
     "data": {
      "text/plain": [
       "0    0.0\n",
       "1    1.0\n",
       "2    2.0\n",
       "3    3.0\n",
       "4    4.0\n",
       "5    5.0\n",
       "6    6.0\n",
       "7    7.0\n",
       "8    8.0\n",
       "9    9.0\n",
       "dtype: float64"
      ]
     },
     "execution_count": 101,
     "metadata": {},
     "output_type": "execute_result"
    }
   ],
   "source": [
    "x=pd.Series(np.linspace(0,9,10))\n",
    "x"
   ]
  },
  {
   "cell_type": "code",
   "execution_count": 72,
   "metadata": {},
   "outputs": [
    {
     "data": {
      "text/plain": [
       "0    0.0\n",
       "1    1.0\n",
       "2    2.0\n",
       "3    3.0\n",
       "4    4.0\n",
       "5    5.0\n",
       "6    6.0\n",
       "7    7.0\n",
       "8    NaN\n",
       "dtype: float64"
      ]
     },
     "execution_count": 72,
     "metadata": {},
     "output_type": "execute_result"
    }
   ],
   "source": [
    "s=pd.Series([0,1,2,3,4,5,6,7,np.nan])\n",
    "s"
   ]
  },
  {
   "cell_type": "code",
   "execution_count": 73,
   "metadata": {},
   "outputs": [
    {
     "data": {
      "text/plain": [
       "9"
      ]
     },
     "execution_count": 73,
     "metadata": {},
     "output_type": "execute_result"
    }
   ],
   "source": [
    "s.size"
   ]
  },
  {
   "cell_type": "code",
   "execution_count": 75,
   "metadata": {},
   "outputs": [
    {
     "data": {
      "text/plain": [
       "8"
      ]
     },
     "execution_count": 75,
     "metadata": {},
     "output_type": "execute_result"
    }
   ],
   "source": [
    "s.count() #numeric values kitni hai not a number ko return nahi karey ga"
   ]
  },
  {
   "cell_type": "code",
   "execution_count": 77,
   "metadata": {},
   "outputs": [
    {
     "data": {
      "text/plain": [
       "array([ 0.,  1.,  2.,  3.,  4.,  5.,  6.,  7., nan])"
      ]
     },
     "execution_count": 77,
     "metadata": {},
     "output_type": "execute_result"
    }
   ],
   "source": [
    "s.unique()"
   ]
  },
  {
   "cell_type": "code",
   "execution_count": 78,
   "metadata": {},
   "outputs": [
    {
     "data": {
      "text/plain": [
       "0    0.0\n",
       "1    1.0\n",
       "2    2.0\n",
       "3    3.0\n",
       "4    4.0\n",
       "dtype: float64"
      ]
     },
     "execution_count": 78,
     "metadata": {},
     "output_type": "execute_result"
    }
   ],
   "source": [
    "s.head()"
   ]
  },
  {
   "cell_type": "code",
   "execution_count": 79,
   "metadata": {},
   "outputs": [
    {
     "data": {
      "text/plain": [
       "4    4.0\n",
       "5    5.0\n",
       "6    6.0\n",
       "7    7.0\n",
       "8    NaN\n",
       "dtype: float64"
      ]
     },
     "execution_count": 79,
     "metadata": {},
     "output_type": "execute_result"
    }
   ],
   "source": [
    "s.tail()"
   ]
  },
  {
   "cell_type": "code",
   "execution_count": 81,
   "metadata": {},
   "outputs": [
    {
     "data": {
      "text/plain": [
       "1    1.0\n",
       "3    3.0\n",
       "5    5.0\n",
       "dtype: float64"
      ]
     },
     "execution_count": 81,
     "metadata": {},
     "output_type": "execute_result"
    }
   ],
   "source": [
    "s.take([1,3,5])#paticular index ki values get karey ga"
   ]
  },
  {
   "cell_type": "code",
   "execution_count": 85,
   "metadata": {},
   "outputs": [
    {
     "data": {
      "text/plain": [
       "1     1\n",
       "11    2\n",
       "12    3\n",
       "dtype: int64"
      ]
     },
     "execution_count": 85,
     "metadata": {},
     "output_type": "execute_result"
    }
   ],
   "source": [
    "s=pd.Series([1,2,3],index=[1,11,12])\n",
    "s"
   ]
  },
  {
   "cell_type": "code",
   "execution_count": 97,
   "metadata": {},
   "outputs": [
    {
     "data": {
      "text/plain": [
       "2"
      ]
     },
     "execution_count": 97,
     "metadata": {},
     "output_type": "execute_result"
    }
   ],
   "source": [
    "#s.loc()#direct location get karni hai\n",
    "s.iloc[1]#index location get karni hai 1 pr 1 hai 11 par 2 hai 12 par 3 hai lekin index 0 ,1,2 #ye manual indexing par kaam karta hai"
   ]
  },
  {
   "cell_type": "code",
   "execution_count": 98,
   "metadata": {},
   "outputs": [
    {
     "data": {
      "text/plain": [
       "2"
      ]
     },
     "execution_count": 98,
     "metadata": {},
     "output_type": "execute_result"
    }
   ],
   "source": [
    "s.loc[11]#ye manual index par kaam karta ha"
   ]
  },
  {
   "cell_type": "code",
   "execution_count": 102,
   "metadata": {},
   "outputs": [],
   "source": [
    "#numpy oerations could also be perform in series"
   ]
  },
  {
   "cell_type": "code",
   "execution_count": 105,
   "metadata": {},
   "outputs": [
    {
     "ename": "ValueError",
     "evalue": "invalid number of arguments",
     "output_type": "error",
     "traceback": [
      "\u001b[1;31m---------------------------------------------------------------------------\u001b[0m",
      "\u001b[1;31mValueError\u001b[0m                                Traceback (most recent call last)",
      "\u001b[1;32m<ipython-input-105-f70f96f1a325>\u001b[0m in \u001b[0;36m<module>\u001b[1;34m\u001b[0m\n\u001b[1;32m----> 1\u001b[1;33m \u001b[0mnp\u001b[0m\u001b[1;33m.\u001b[0m\u001b[0madd\u001b[0m\u001b[1;33m(\u001b[0m\u001b[0ms\u001b[0m\u001b[1;33m+\u001b[0m\u001b[1;36m2\u001b[0m\u001b[1;33m)\u001b[0m\u001b[1;33m\u001b[0m\u001b[1;33m\u001b[0m\u001b[0m\n\u001b[0m",
      "\u001b[1;31mValueError\u001b[0m: invalid number of arguments"
     ]
    }
   ],
   "source": [
    "np.add(s+2)"
   ]
  },
  {
   "cell_type": "code",
   "execution_count": 109,
   "metadata": {},
   "outputs": [
    {
     "data": {
      "text/html": [
       "<div>\n",
       "<style scoped>\n",
       "    .dataframe tbody tr th:only-of-type {\n",
       "        vertical-align: middle;\n",
       "    }\n",
       "\n",
       "    .dataframe tbody tr th {\n",
       "        vertical-align: top;\n",
       "    }\n",
       "\n",
       "    .dataframe thead th {\n",
       "        text-align: right;\n",
       "    }\n",
       "</style>\n",
       "<table border=\"1\" class=\"dataframe\">\n",
       "  <thead>\n",
       "    <tr style=\"text-align: right;\">\n",
       "      <th></th>\n",
       "      <th>Midterm</th>\n",
       "      <th>Finals</th>\n",
       "    </tr>\n",
       "  </thead>\n",
       "  <tbody>\n",
       "    <tr>\n",
       "      <th>0</th>\n",
       "      <td>32</td>\n",
       "      <td>33</td>\n",
       "    </tr>\n",
       "    <tr>\n",
       "      <th>1</th>\n",
       "      <td>76</td>\n",
       "      <td>44</td>\n",
       "    </tr>\n",
       "    <tr>\n",
       "      <th>2</th>\n",
       "      <td>98</td>\n",
       "      <td>12</td>\n",
       "    </tr>\n",
       "    <tr>\n",
       "      <th>3</th>\n",
       "      <td>99</td>\n",
       "      <td>33</td>\n",
       "    </tr>\n",
       "    <tr>\n",
       "      <th>4</th>\n",
       "      <td>67</td>\n",
       "      <td>22</td>\n",
       "    </tr>\n",
       "  </tbody>\n",
       "</table>\n",
       "</div>"
      ],
      "text/plain": [
       "   Midterm  Finals\n",
       "0       32      33\n",
       "1       76      44\n",
       "2       98      12\n",
       "3       99      33\n",
       "4       67      22"
      ]
     },
     "execution_count": 109,
     "metadata": {},
     "output_type": "execute_result"
    }
   ],
   "source": [
    "result=DataFrame({'Midterm':[32,76,98,99,67],'Finals':[33,44,12,33,22]})\n",
    "result"
   ]
  },
  {
   "cell_type": "code",
   "execution_count": 171,
   "metadata": {},
   "outputs": [],
   "source": [
    "b=pd.Series([1,2,3,4,5],index=[1,4,5,6,7])\n",
    "b1=pd.Series([4,2,32,4,5],index=[2,4,3,6,5])"
   ]
  },
  {
   "cell_type": "code",
   "execution_count": 172,
   "metadata": {},
   "outputs": [
    {
     "data": {
      "text/html": [
       "<div>\n",
       "<style scoped>\n",
       "    .dataframe tbody tr th:only-of-type {\n",
       "        vertical-align: middle;\n",
       "    }\n",
       "\n",
       "    .dataframe tbody tr th {\n",
       "        vertical-align: top;\n",
       "    }\n",
       "\n",
       "    .dataframe thead th {\n",
       "        text-align: right;\n",
       "    }\n",
       "</style>\n",
       "<table border=\"1\" class=\"dataframe\">\n",
       "  <thead>\n",
       "    <tr style=\"text-align: right;\">\n",
       "      <th></th>\n",
       "      <th>Midterm</th>\n",
       "      <th>Finals</th>\n",
       "    </tr>\n",
       "  </thead>\n",
       "  <tbody>\n",
       "    <tr>\n",
       "      <th>1</th>\n",
       "      <td>1.0</td>\n",
       "      <td>NaN</td>\n",
       "    </tr>\n",
       "    <tr>\n",
       "      <th>2</th>\n",
       "      <td>NaN</td>\n",
       "      <td>4.0</td>\n",
       "    </tr>\n",
       "    <tr>\n",
       "      <th>3</th>\n",
       "      <td>NaN</td>\n",
       "      <td>32.0</td>\n",
       "    </tr>\n",
       "    <tr>\n",
       "      <th>4</th>\n",
       "      <td>2.0</td>\n",
       "      <td>2.0</td>\n",
       "    </tr>\n",
       "    <tr>\n",
       "      <th>5</th>\n",
       "      <td>3.0</td>\n",
       "      <td>5.0</td>\n",
       "    </tr>\n",
       "    <tr>\n",
       "      <th>6</th>\n",
       "      <td>4.0</td>\n",
       "      <td>4.0</td>\n",
       "    </tr>\n",
       "    <tr>\n",
       "      <th>7</th>\n",
       "      <td>5.0</td>\n",
       "      <td>NaN</td>\n",
       "    </tr>\n",
       "  </tbody>\n",
       "</table>\n",
       "</div>"
      ],
      "text/plain": [
       "   Midterm  Finals\n",
       "1      1.0     NaN\n",
       "2      NaN     4.0\n",
       "3      NaN    32.0\n",
       "4      2.0     2.0\n",
       "5      3.0     5.0\n",
       "6      4.0     4.0\n",
       "7      5.0     NaN"
      ]
     },
     "execution_count": 172,
     "metadata": {},
     "output_type": "execute_result"
    }
   ],
   "source": [
    "result=DataFrame({'Midterm':b,'Finals':b1})\n",
    "result"
   ]
  },
  {
   "cell_type": "code",
   "execution_count": 173,
   "metadata": {},
   "outputs": [],
   "source": [
    "b=pd.Series([1,2,3,4,5],index=['a','b','c','d','e'])\n",
    "b1=pd.Series([4,2,32,4,5],index=['a','g','c','d','e'])"
   ]
  },
  {
   "cell_type": "code",
   "execution_count": 174,
   "metadata": {},
   "outputs": [
    {
     "data": {
      "text/html": [
       "<div>\n",
       "<style scoped>\n",
       "    .dataframe tbody tr th:only-of-type {\n",
       "        vertical-align: middle;\n",
       "    }\n",
       "\n",
       "    .dataframe tbody tr th {\n",
       "        vertical-align: top;\n",
       "    }\n",
       "\n",
       "    .dataframe thead th {\n",
       "        text-align: right;\n",
       "    }\n",
       "</style>\n",
       "<table border=\"1\" class=\"dataframe\">\n",
       "  <thead>\n",
       "    <tr style=\"text-align: right;\">\n",
       "      <th></th>\n",
       "      <th>Midterm</th>\n",
       "      <th>Finals</th>\n",
       "    </tr>\n",
       "  </thead>\n",
       "  <tbody>\n",
       "    <tr>\n",
       "      <th>a</th>\n",
       "      <td>1.0</td>\n",
       "      <td>4.0</td>\n",
       "    </tr>\n",
       "    <tr>\n",
       "      <th>b</th>\n",
       "      <td>2.0</td>\n",
       "      <td>NaN</td>\n",
       "    </tr>\n",
       "    <tr>\n",
       "      <th>c</th>\n",
       "      <td>3.0</td>\n",
       "      <td>32.0</td>\n",
       "    </tr>\n",
       "    <tr>\n",
       "      <th>d</th>\n",
       "      <td>4.0</td>\n",
       "      <td>4.0</td>\n",
       "    </tr>\n",
       "    <tr>\n",
       "      <th>e</th>\n",
       "      <td>5.0</td>\n",
       "      <td>5.0</td>\n",
       "    </tr>\n",
       "    <tr>\n",
       "      <th>g</th>\n",
       "      <td>NaN</td>\n",
       "      <td>2.0</td>\n",
       "    </tr>\n",
       "  </tbody>\n",
       "</table>\n",
       "</div>"
      ],
      "text/plain": [
       "   Midterm  Finals\n",
       "a      1.0     4.0\n",
       "b      2.0     NaN\n",
       "c      3.0    32.0\n",
       "d      4.0     4.0\n",
       "e      5.0     5.0\n",
       "g      NaN     2.0"
      ]
     },
     "execution_count": 174,
     "metadata": {},
     "output_type": "execute_result"
    }
   ],
   "source": [
    "result=DataFrame({'Midterm':b,'Finals':b1})\n",
    "result"
   ]
  },
  {
   "cell_type": "code",
   "execution_count": 175,
   "metadata": {},
   "outputs": [],
   "source": [
    "#DataFrame kai andar dictionary hi ayegi"
   ]
  },
  {
   "cell_type": "code",
   "execution_count": 176,
   "metadata": {},
   "outputs": [
    {
     "data": {
      "text/plain": [
       "a    1.0\n",
       "b    2.0\n",
       "c    3.0\n",
       "d    4.0\n",
       "e    5.0\n",
       "g    NaN\n",
       "Name: Midterm, dtype: float64"
      ]
     },
     "execution_count": 176,
     "metadata": {},
     "output_type": "execute_result"
    }
   ],
   "source": [
    "result['Midterm']#ham ne key pass ki usne reult dedia"
   ]
  },
  {
   "cell_type": "code",
   "execution_count": 177,
   "metadata": {},
   "outputs": [],
   "source": [
    "#columns kai darmian difference bhi lesaktey hai"
   ]
  },
  {
   "cell_type": "code",
   "execution_count": 178,
   "metadata": {},
   "outputs": [
    {
     "data": {
      "text/plain": [
       "a    -3.0\n",
       "b     NaN\n",
       "c   -29.0\n",
       "d     0.0\n",
       "e     0.0\n",
       "g     NaN\n",
       "dtype: float64"
      ]
     },
     "execution_count": 178,
     "metadata": {},
     "output_type": "execute_result"
    }
   ],
   "source": [
    "diff=result['Midterm']-result['Finals']\n",
    "diff"
   ]
  },
  {
   "cell_type": "code",
   "execution_count": 179,
   "metadata": {},
   "outputs": [],
   "source": [
    "result['difference']=diff # add colums in last within data add kardia #colums mei append karadiya"
   ]
  },
  {
   "cell_type": "code",
   "execution_count": 180,
   "metadata": {},
   "outputs": [
    {
     "data": {
      "text/html": [
       "<div>\n",
       "<style scoped>\n",
       "    .dataframe tbody tr th:only-of-type {\n",
       "        vertical-align: middle;\n",
       "    }\n",
       "\n",
       "    .dataframe tbody tr th {\n",
       "        vertical-align: top;\n",
       "    }\n",
       "\n",
       "    .dataframe thead th {\n",
       "        text-align: right;\n",
       "    }\n",
       "</style>\n",
       "<table border=\"1\" class=\"dataframe\">\n",
       "  <thead>\n",
       "    <tr style=\"text-align: right;\">\n",
       "      <th></th>\n",
       "      <th>Midterm</th>\n",
       "      <th>Finals</th>\n",
       "      <th>difference</th>\n",
       "    </tr>\n",
       "  </thead>\n",
       "  <tbody>\n",
       "    <tr>\n",
       "      <th>a</th>\n",
       "      <td>1.0</td>\n",
       "      <td>4.0</td>\n",
       "      <td>-3.0</td>\n",
       "    </tr>\n",
       "    <tr>\n",
       "      <th>b</th>\n",
       "      <td>2.0</td>\n",
       "      <td>NaN</td>\n",
       "      <td>NaN</td>\n",
       "    </tr>\n",
       "    <tr>\n",
       "      <th>c</th>\n",
       "      <td>3.0</td>\n",
       "      <td>32.0</td>\n",
       "      <td>-29.0</td>\n",
       "    </tr>\n",
       "    <tr>\n",
       "      <th>d</th>\n",
       "      <td>4.0</td>\n",
       "      <td>4.0</td>\n",
       "      <td>0.0</td>\n",
       "    </tr>\n",
       "    <tr>\n",
       "      <th>e</th>\n",
       "      <td>5.0</td>\n",
       "      <td>5.0</td>\n",
       "      <td>0.0</td>\n",
       "    </tr>\n",
       "    <tr>\n",
       "      <th>g</th>\n",
       "      <td>NaN</td>\n",
       "      <td>2.0</td>\n",
       "      <td>NaN</td>\n",
       "    </tr>\n",
       "  </tbody>\n",
       "</table>\n",
       "</div>"
      ],
      "text/plain": [
       "   Midterm  Finals  difference\n",
       "a      1.0     4.0        -3.0\n",
       "b      2.0     NaN         NaN\n",
       "c      3.0    32.0       -29.0\n",
       "d      4.0     4.0         0.0\n",
       "e      5.0     5.0         0.0\n",
       "g      NaN     2.0         NaN"
      ]
     },
     "execution_count": 180,
     "metadata": {},
     "output_type": "execute_result"
    }
   ],
   "source": [
    "result"
   ]
  },
  {
   "cell_type": "code",
   "execution_count": 181,
   "metadata": {},
   "outputs": [
    {
     "data": {
      "text/plain": [
       "Index(['Midterm', 'Finals', 'difference'], dtype='object')"
      ]
     },
     "execution_count": 181,
     "metadata": {},
     "output_type": "execute_result"
    }
   ],
   "source": [
    "result.columns #colums kai headers nikal kai arahey hai"
   ]
  },
  {
   "cell_type": "code",
   "execution_count": 182,
   "metadata": {},
   "outputs": [
    {
     "data": {
      "text/plain": [
       "Index(['a', 'b', 'c', 'd', 'e', 'g'], dtype='object')"
      ]
     },
     "execution_count": 182,
     "metadata": {},
     "output_type": "execute_result"
    }
   ],
   "source": [
    "result.index"
   ]
  },
  {
   "cell_type": "code",
   "execution_count": 169,
   "metadata": {},
   "outputs": [
    {
     "data": {
      "text/plain": [
       "[a    False\n",
       " b    False\n",
       " c     True\n",
       " d     True\n",
       " e     True\n",
       " g    False\n",
       " Name: Midterm, dtype: bool]"
      ]
     },
     "execution_count": 169,
     "metadata": {},
     "output_type": "execute_result"
    }
   ],
   "source": [
    "[result.Midterm > 2]"
   ]
  },
  {
   "cell_type": "code",
   "execution_count": 170,
   "metadata": {},
   "outputs": [
    {
     "data": {
      "text/plain": [
       "[a    False\n",
       " b    False\n",
       " c     True\n",
       " d     True\n",
       " e     True\n",
       " g    False\n",
       " Name: Midterm, dtype: bool]"
      ]
     },
     "execution_count": 170,
     "metadata": {},
     "output_type": "execute_result"
    }
   ],
   "source": [
    "result=[result.Midterm>2]\n",
    "result"
   ]
  },
  {
   "cell_type": "code",
   "execution_count": 141,
   "metadata": {},
   "outputs": [
    {
     "data": {
      "text/plain": [
       "[a    False\n",
       " b    False\n",
       " c     True\n",
       " d     True\n",
       " e     True\n",
       " g    False\n",
       " Name: Midterm, dtype: bool]"
      ]
     },
     "execution_count": 141,
     "metadata": {},
     "output_type": "execute_result"
    }
   ],
   "source": [
    "result"
   ]
  },
  {
   "cell_type": "code",
   "execution_count": 190,
   "metadata": {},
   "outputs": [
    {
     "data": {
      "text/html": [
       "<div>\n",
       "<style scoped>\n",
       "    .dataframe tbody tr th:only-of-type {\n",
       "        vertical-align: middle;\n",
       "    }\n",
       "\n",
       "    .dataframe tbody tr th {\n",
       "        vertical-align: top;\n",
       "    }\n",
       "\n",
       "    .dataframe thead th {\n",
       "        text-align: right;\n",
       "    }\n",
       "</style>\n",
       "<table border=\"1\" class=\"dataframe\">\n",
       "  <thead>\n",
       "    <tr style=\"text-align: right;\">\n",
       "      <th></th>\n",
       "      <th>Midterm</th>\n",
       "      <th>Finals</th>\n",
       "      <th>difference</th>\n",
       "    </tr>\n",
       "  </thead>\n",
       "  <tbody>\n",
       "    <tr>\n",
       "      <th>a</th>\n",
       "      <td>1.0</td>\n",
       "      <td>4.0</td>\n",
       "      <td>-3.0</td>\n",
       "    </tr>\n",
       "    <tr>\n",
       "      <th>b</th>\n",
       "      <td>2.0</td>\n",
       "      <td>NaN</td>\n",
       "      <td>NaN</td>\n",
       "    </tr>\n",
       "    <tr>\n",
       "      <th>c</th>\n",
       "      <td>3.0</td>\n",
       "      <td>32.0</td>\n",
       "      <td>-29.0</td>\n",
       "    </tr>\n",
       "    <tr>\n",
       "      <th>d</th>\n",
       "      <td>4.0</td>\n",
       "      <td>4.0</td>\n",
       "      <td>0.0</td>\n",
       "    </tr>\n",
       "    <tr>\n",
       "      <th>e</th>\n",
       "      <td>5.0</td>\n",
       "      <td>5.0</td>\n",
       "      <td>0.0</td>\n",
       "    </tr>\n",
       "    <tr>\n",
       "      <th>g</th>\n",
       "      <td>NaN</td>\n",
       "      <td>2.0</td>\n",
       "      <td>NaN</td>\n",
       "    </tr>\n",
       "  </tbody>\n",
       "</table>\n",
       "</div>"
      ],
      "text/plain": [
       "   Midterm  Finals  difference\n",
       "a      1.0     4.0        -3.0\n",
       "b      2.0     NaN         NaN\n",
       "c      3.0    32.0       -29.0\n",
       "d      4.0     4.0         0.0\n",
       "e      5.0     5.0         0.0\n",
       "g      NaN     2.0         NaN"
      ]
     },
     "execution_count": 190,
     "metadata": {},
     "output_type": "execute_result"
    }
   ],
   "source": [
    "result"
   ]
  },
  {
   "cell_type": "code",
   "execution_count": 191,
   "metadata": {},
   "outputs": [
    {
     "ename": "TypeError",
     "evalue": "'DataFrame' object is not callable",
     "output_type": "error",
     "traceback": [
      "\u001b[1;31m---------------------------------------------------------------------------\u001b[0m",
      "\u001b[1;31mTypeError\u001b[0m                                 Traceback (most recent call last)",
      "\u001b[1;32m<ipython-input-191-5cce29dc68f2>\u001b[0m in \u001b[0;36m<module>\u001b[1;34m\u001b[0m\n\u001b[0;32m      1\u001b[0m \u001b[0mmy\u001b[0m\u001b[1;33m=\u001b[0m\u001b[1;33m[\u001b[0m\u001b[0mresult\u001b[0m\u001b[1;33m.\u001b[0m\u001b[0mMidterm\u001b[0m\u001b[1;33m>\u001b[0m\u001b[1;36m2\u001b[0m\u001b[1;33m]\u001b[0m\u001b[1;33m\u001b[0m\u001b[1;33m\u001b[0m\u001b[0m\n\u001b[1;32m----> 2\u001b[1;33m \u001b[0mresult\u001b[0m\u001b[1;33m(\u001b[0m\u001b[0mmy\u001b[0m\u001b[1;33m)\u001b[0m\u001b[1;33m\u001b[0m\u001b[1;33m\u001b[0m\u001b[0m\n\u001b[0m",
      "\u001b[1;31mTypeError\u001b[0m: 'DataFrame' object is not callable"
     ]
    }
   ],
   "source": [
    "my=[result.Midterm>2]\n",
    "result(my)"
   ]
  },
  {
   "cell_type": "code",
   "execution_count": 197,
   "metadata": {},
   "outputs": [
    {
     "data": {
      "text/html": [
       "<div>\n",
       "<style scoped>\n",
       "    .dataframe tbody tr th:only-of-type {\n",
       "        vertical-align: middle;\n",
       "    }\n",
       "\n",
       "    .dataframe tbody tr th {\n",
       "        vertical-align: top;\n",
       "    }\n",
       "\n",
       "    .dataframe thead th {\n",
       "        text-align: right;\n",
       "    }\n",
       "</style>\n",
       "<table border=\"1\" class=\"dataframe\">\n",
       "  <thead>\n",
       "    <tr style=\"text-align: right;\">\n",
       "      <th></th>\n",
       "      <th>Midterm</th>\n",
       "      <th>Finals</th>\n",
       "      <th>difference</th>\n",
       "    </tr>\n",
       "  </thead>\n",
       "  <tbody>\n",
       "    <tr>\n",
       "      <th>c</th>\n",
       "      <td>3.0</td>\n",
       "      <td>32.0</td>\n",
       "      <td>-29.0</td>\n",
       "    </tr>\n",
       "    <tr>\n",
       "      <th>d</th>\n",
       "      <td>4.0</td>\n",
       "      <td>4.0</td>\n",
       "      <td>0.0</td>\n",
       "    </tr>\n",
       "    <tr>\n",
       "      <th>e</th>\n",
       "      <td>5.0</td>\n",
       "      <td>5.0</td>\n",
       "      <td>0.0</td>\n",
       "    </tr>\n",
       "  </tbody>\n",
       "</table>\n",
       "</div>"
      ],
      "text/plain": [
       "   Midterm  Finals  difference\n",
       "c      3.0    32.0       -29.0\n",
       "d      4.0     4.0         0.0\n",
       "e      5.0     5.0         0.0"
      ]
     },
     "execution_count": 197,
     "metadata": {},
     "output_type": "execute_result"
    }
   ],
   "source": [
    "my=result[result.Midterm>2]\n",
    "my"
   ]
  },
  {
   "cell_type": "code",
   "execution_count": null,
   "metadata": {},
   "outputs": [],
   "source": []
  }
 ],
 "metadata": {
  "kernelspec": {
   "display_name": "Python 3",
   "language": "python",
   "name": "python3"
  },
  "language_info": {
   "codemirror_mode": {
    "name": "ipython",
    "version": 3
   },
   "file_extension": ".py",
   "mimetype": "text/x-python",
   "name": "python",
   "nbconvert_exporter": "python",
   "pygments_lexer": "ipython3",
   "version": "3.7.3"
  }
 },
 "nbformat": 4,
 "nbformat_minor": 2
}
