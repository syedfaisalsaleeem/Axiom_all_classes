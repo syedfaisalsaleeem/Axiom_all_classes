{
 "cells": [
  {
   "cell_type": "code",
   "execution_count": 1,
   "metadata": {},
   "outputs": [],
   "source": [
    "#pvcoursedatas#pythoninstitute"
   ]
  },
  {
   "cell_type": "code",
   "execution_count": 8,
   "metadata": {},
   "outputs": [],
   "source": [
    "#1#escape character # changes the meaning of the character\n",
    "#postition\n",
    "#ther are stored differently inthe computer memory\n",
    "#a hexadecimal\n",
    "#performs integer divison\n",
    "#isequalto123.0\n",
    "#multiplication precedes addition\n",
    "#precede pehly hona\n",
    "#2# from right to left # right side binding\n",
    "#canot be used as variable name\n",
    "#string\n"
   ]
  },
  {
   "cell_type": "code",
   "execution_count": 9,
   "metadata": {},
   "outputs": [],
   "source": [
    "#!=\n",
    "#2\n",
    "#\n",
    "#\n",
    "#\n",
    "#\n",
    "#\n",
    "#\n",
    "#\n",
    "#"
   ]
  },
  {
   "cell_type": "code",
   "execution_count": 10,
   "metadata": {},
   "outputs": [
    {
     "name": "stdout",
     "output_type": "stream",
     "text": [
      "*\n",
      "*\n"
     ]
    }
   ],
   "source": [
    "i=2\n",
    "while i>=0:\n",
    "    print(\"*\")\n",
    "    i-=2"
   ]
  },
  {
   "cell_type": "code",
   "execution_count": 11,
   "metadata": {},
   "outputs": [
    {
     "name": "stdout",
     "output_type": "stream",
     "text": [
      "#\n",
      "#\n"
     ]
    }
   ],
   "source": [
    "for i in range(-1,1):\n",
    "    print(\"#\")"
   ]
  },
  {
   "cell_type": "code",
   "execution_count": 12,
   "metadata": {},
   "outputs": [
    {
     "name": "stdout",
     "output_type": "stream",
     "text": [
      "[3, 1, 1]\n"
     ]
    }
   ],
   "source": [
    "lst=[3,1,-1]\n",
    "lst[-1]=lst[-2]\n",
    "print(lst)"
   ]
  },
  {
   "cell_type": "code",
   "execution_count": 14,
   "metadata": {},
   "outputs": [
    {
     "name": "stdout",
     "output_type": "stream",
     "text": [
      "[1] [1]\n"
     ]
    }
   ],
   "source": [
    "nums=[]\n",
    "vals=nums\n",
    "vals.append(1)\n",
    "print(vals,nums)"
   ]
  },
  {
   "cell_type": "code",
   "execution_count": 19,
   "metadata": {},
   "outputs": [
    {
     "name": "stdout",
     "output_type": "stream",
     "text": [
      "[0, 0]\n"
     ]
    }
   ],
   "source": [
    "l=[0 for i in range(1,3)]\n",
    "print(l)"
   ]
  },
  {
   "cell_type": "code",
   "execution_count": 20,
   "metadata": {},
   "outputs": [
    {
     "name": "stdout",
     "output_type": "stream",
     "text": [
      "0\n"
     ]
    }
   ],
   "source": [
    "l=[0,1,2,3]\n",
    "x=1\n",
    "for e in l:\n",
    "    x*=e\n",
    "print(x)\n",
    "#update hogayi variable value"
   ]
  },
  {
   "cell_type": "code",
   "execution_count": 23,
   "metadata": {},
   "outputs": [
    {
     "name": "stdout",
     "output_type": "stream",
     "text": [
      "5\n"
     ]
    }
   ],
   "source": [
    "def sub(x,y):\n",
    "    c=x-y\n",
    "    return(c)\n",
    "d=sub(6,1)\n",
    "print(d)"
   ]
  },
  {
   "cell_type": "code",
   "execution_count": 28,
   "metadata": {},
   "outputs": [
    {
     "name": "stdout",
     "output_type": "stream",
     "text": [
      "this is f1\n",
      "this is f2\n"
     ]
    }
   ],
   "source": [
    "def f1():\n",
    "    print(\"this is f1\")\n",
    "    def f2():\n",
    "        print(\"this is f2\")\n",
    "    f2()\n",
    "f1()\n",
    "#nested functions"
   ]
  },
  {
   "cell_type": "code",
   "execution_count": 29,
   "metadata": {},
   "outputs": [],
   "source": [
    "import numpy"
   ]
  },
  {
   "cell_type": "code",
   "execution_count": 30,
   "metadata": {},
   "outputs": [],
   "source": [
    "import matplotlib"
   ]
  },
  {
   "cell_type": "code",
   "execution_count": 31,
   "metadata": {},
   "outputs": [],
   "source": [
    "import scipy"
   ]
  },
  {
   "cell_type": "code",
   "execution_count": 38,
   "metadata": {},
   "outputs": [],
   "source": [
    "import pandas as pd"
   ]
  },
  {
   "cell_type": "code",
   "execution_count": 44,
   "metadata": {},
   "outputs": [],
   "source": [
    "def math1(x,y,c=1):\n",
    "    d=x+y+c\n",
    "    return d\n"
   ]
  },
  {
   "cell_type": "code",
   "execution_count": 52,
   "metadata": {},
   "outputs": [
    {
     "data": {
      "text/plain": [
       "<function __main__.now_say_it()>"
      ]
     },
     "execution_count": 52,
     "metadata": {},
     "output_type": "execute_result"
    }
   ],
   "source": [
    "def say_something():\n",
    "    what_to_say=\"HI\"\n",
    "    print(what_to_say)\n",
    "def say_something():\n",
    "    what_to_say=\"HI\"\n",
    "    print(what_to_say)\n",
    "    now_say_it\n",
    "def now_say_it():\n",
    "    print(what_to_say)\n",
    "now_say_it"
   ]
  },
  {
   "cell_type": "code",
   "execution_count": 50,
   "metadata": {},
   "outputs": [
    {
     "name": "stdout",
     "output_type": "stream",
     "text": [
      "HI\n"
     ]
    },
    {
     "ename": "NameError",
     "evalue": "name 'what_to_say' is not defined",
     "output_type": "error",
     "traceback": [
      "\u001b[0;31m---------------------------------------------------------------------------\u001b[0m",
      "\u001b[0;31mNameError\u001b[0m                                 Traceback (most recent call last)",
      "\u001b[0;32m<ipython-input-50-3aa219985d1d>\u001b[0m in \u001b[0;36m<module>\u001b[0;34m\u001b[0m\n\u001b[1;32m      1\u001b[0m \u001b[0msay_something\u001b[0m\u001b[0;34m(\u001b[0m\u001b[0;34m)\u001b[0m\u001b[0;34m\u001b[0m\u001b[0;34m\u001b[0m\u001b[0m\n\u001b[0;32m----> 2\u001b[0;31m \u001b[0mnow_say_it\u001b[0m\u001b[0;34m(\u001b[0m\u001b[0;34m)\u001b[0m\u001b[0;34m\u001b[0m\u001b[0;34m\u001b[0m\u001b[0m\n\u001b[0m",
      "\u001b[0;32m<ipython-input-46-52be01e48506>\u001b[0m in \u001b[0;36mnow_say_it\u001b[0;34m()\u001b[0m\n\u001b[1;32m      7\u001b[0m     \u001b[0mnow_say_it\u001b[0m\u001b[0;34m\u001b[0m\u001b[0;34m\u001b[0m\u001b[0m\n\u001b[1;32m      8\u001b[0m \u001b[0;32mdef\u001b[0m \u001b[0mnow_say_it\u001b[0m\u001b[0;34m(\u001b[0m\u001b[0;34m)\u001b[0m\u001b[0;34m:\u001b[0m\u001b[0;34m\u001b[0m\u001b[0;34m\u001b[0m\u001b[0m\n\u001b[0;32m----> 9\u001b[0;31m     \u001b[0mprint\u001b[0m\u001b[0;34m(\u001b[0m\u001b[0mwhat_to_say\u001b[0m\u001b[0;34m)\u001b[0m\u001b[0;34m\u001b[0m\u001b[0;34m\u001b[0m\u001b[0m\n\u001b[0m",
      "\u001b[0;31mNameError\u001b[0m: name 'what_to_say' is not defined"
     ]
    }
   ],
   "source": [
    "say_something()\n",
    "now_say_it()"
   ]
  },
  {
   "cell_type": "code",
   "execution_count": 3,
   "metadata": {},
   "outputs": [
    {
     "name": "stdout",
     "output_type": "stream",
     "text": [
      "1 aaaaa\n",
      "2 aaaaa\n",
      "3 aaaaa\n",
      "4 aaaaa\n",
      "5 aaaaa\n",
      "7 aaaaa\n",
      "8 aaaaa\n",
      "9 aaaaa\n",
      "10 aaaaa\n",
      "11 aaaaa\n"
     ]
    }
   ],
   "source": [
    "#functionswithinfunctions\n",
    "a=0\n",
    "while a<=10:\n",
    "    a=a+1\n",
    "    if a==6:\n",
    "        #a=a+1\n",
    "        continue\n",
    "    print(a,\"aaaaa\")\n",
    "#continue islie use kartey hai takey beech ki koi value skip karsakey jo chahtey hai\n",
    "#jese hi condition false hojae gi loop khatam hojae ga"
   ]
  },
  {
   "cell_type": "code",
   "execution_count": 3,
   "metadata": {},
   "outputs": [
    {
     "name": "stdout",
     "output_type": "stream",
     "text": [
      "1 a\n",
      "2 a\n",
      "3 a\n",
      "4 a\n",
      "5 a\n",
      "7 a\n",
      "8 a\n",
      "9 a\n"
     ]
    }
   ],
   "source": [
    "x=0\n",
    "#while x<=10:\n",
    "#    x=x+1\n",
    "    \n",
    "        \n",
    "#    print(x,'a')\n",
    "while True:\n",
    "    x=x+1\n",
    "    if (x==6):\n",
    "        continue\n",
    "    \n",
    "    if(x>=10):\n",
    "        break\n",
    "    print(x,'a')\n",
    "    \n",
    "    "
   ]
  },
  {
   "cell_type": "code",
   "execution_count": 4,
   "metadata": {},
   "outputs": [
    {
     "ename": "SyntaxError",
     "evalue": "invalid syntax (<ipython-input-4-0976d5c1c483>, line 1)",
     "output_type": "error",
     "traceback": [
      "\u001b[0;36m  File \u001b[0;32m\"<ipython-input-4-0976d5c1c483>\"\u001b[0;36m, line \u001b[0;32m1\u001b[0m\n\u001b[0;31m    do:\u001b[0m\n\u001b[0m       ^\u001b[0m\n\u001b[0;31mSyntaxError\u001b[0m\u001b[0;31m:\u001b[0m invalid syntax\n"
     ]
    }
   ],
   "source": [
    "do:\n",
    "    x=1"
   ]
  },
  {
   "cell_type": "code",
   "execution_count": null,
   "metadata": {},
   "outputs": [
    {
     "name": "stdout",
     "output_type": "stream",
     "text": [
      "0 aaaaa\n",
      "1 aaaaa\n",
      "2 aaaaa\n",
      "3 aaaaa\n",
      "4 aaaaa\n",
      "5 aaaaa\n"
     ]
    }
   ],
   "source": [
    "a=0\n",
    "while a<=10:\n",
    "    \n",
    "    if a==6:\n",
    "        #a=a+1\n",
    "        continue\n",
    "        #usay kai agley nikal nahi raha 6 sai sirf 6 tak print horaha hai agey ka code execute nahi horaha\n",
    "        #continue start of the code pr bhejta hai andar loop kai\n",
    "    print(a,\"aaaaa\")\n",
    "    a=a+1"
   ]
  },
  {
   "cell_type": "code",
   "execution_count": null,
   "metadata": {},
   "outputs": [],
   "source": [
    "a=0\n",
    "while a<=10:\n",
    "    a=a+1\n",
    "    if a==6:\n",
    "        #a=a+1\n",
    "        continue\n",
    "        #usay kai agley nikal nahi raha 6 sai sirf 6 tak print horaha hai agey ka code execute nahi horaha\n",
    "        #continue start of the code pr bhejta hai andar loop kai\n",
    "    print(a,\"aaaaa\")\n",
    "    "
   ]
  },
  {
   "cell_type": "code",
   "execution_count": 40,
   "metadata": {},
   "outputs": [
    {
     "name": "stdout",
     "output_type": "stream",
     "text": [
      "the name to be invited is saad\n",
      "the name to be invited is ahmed\n",
      "the name to be invited is zahid\n",
      "the name to be invited is amaar\n"
     ]
    }
   ],
   "source": [
    "list1=['saad','ahmed','haris','zahid','amaar']\n",
    "a=0\n",
    "while a<=((len(list1))-1):\n",
    "        a=a+1\n",
    "        if list1[a-1]=='haris':\n",
    "            continue\n",
    "        print('the name to be invited is',list1[a-1])"
   ]
  },
  {
   "cell_type": "code",
   "execution_count": 42,
   "metadata": {},
   "outputs": [],
   "source": [
    "cleanest_cities=[\"cheyenne\",\"Santa Fe\",\"Tucson\",\"Great Falls\",\"Honolulu\"]\n",
    "#for loop mei exact pata hota hai kitney bar loop chalana hai\n",
    "#while loop mei exactly pata nahi hota "
   ]
  },
  {
   "cell_type": "code",
   "execution_count": 4,
   "metadata": {},
   "outputs": [
    {
     "name": "stdout",
     "output_type": "stream",
     "text": [
      "enter a city , or w to quit: sadqabad\n",
      "enter a city , or w to quit: saw\n",
      "enter a city , or w to quit: w\n",
      "['sadqabad', 'saw', 'w']\n"
     ]
    }
   ],
   "source": [
    "user_input=\"\"\n",
    "list1=[]\n",
    "while user_input!='q':\n",
    "    user_input=input(\"enter a city , or w to quit: \")\n",
    "    list1.append(user_input)\n",
    "    if user_input =='w':\n",
    "        print(list1)\n",
    "        break"
   ]
  },
  {
   "cell_type": "code",
   "execution_count": 5,
   "metadata": {},
   "outputs": [
    {
     "name": "stdout",
     "output_type": "stream",
     "text": [
      "enter a city , or q to exitsante\n",
      "enter a city , or q to exitSante\n",
      "its one of the cleanest cities\n",
      "enter a city , or q to exitq\n"
     ]
    }
   ],
   "source": [
    "cleanest_cities=['cheyenne','Sante','tucson','Great FAlls','Honolulu']\n",
    "\n",
    "user_input=''\n",
    "while user_input !='q':\n",
    "    user_input=input(\"enter a city , or q to exit\")\n",
    "    if user_input !='q':\n",
    "        for a_clean_city in cleanest_cities:\n",
    "            if user_input ==a_clean_city:\n",
    "                print(\"its one of the cleanest cities\")"
   ]
  },
  {
   "cell_type": "code",
   "execution_count": 6,
   "metadata": {},
   "outputs": [],
   "source": [
    "#atm machine using all the classes"
   ]
  },
  {
   "cell_type": "code",
   "execution_count": null,
   "metadata": {},
   "outputs": [],
   "source": [
    "#while loop setting a flag\n",
    "#condition di or app yaha condition test karahe hai\n",
    "#flag=='True'or'False' kahi bhi loop break karney kailie use hota hai\n",
    "#classes object oriented programming\n",
    "#try it yourself in crash course book\n",
    "\n",
    "#filling a dictionary with user_input"
   ]
  }
 ],
 "metadata": {
  "kernelspec": {
   "display_name": "Python 3",
   "language": "python",
   "name": "python3"
  },
  "language_info": {
   "codemirror_mode": {
    "name": "ipython",
    "version": 3
   },
   "file_extension": ".py",
   "mimetype": "text/x-python",
   "name": "python",
   "nbconvert_exporter": "python",
   "pygments_lexer": "ipython3",
   "version": "3.7.1"
  }
 },
 "nbformat": 4,
 "nbformat_minor": 2
}
