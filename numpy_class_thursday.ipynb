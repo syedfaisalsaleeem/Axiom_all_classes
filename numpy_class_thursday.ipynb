{
 "cells": [
  {
   "cell_type": "code",
   "execution_count": 1,
   "metadata": {},
   "outputs": [],
   "source": [
    "#python for data analysis\n",
    "#dictionary comprehension ,decorators\n"
   ]
  },
  {
   "cell_type": "code",
   "execution_count": 6,
   "metadata": {},
   "outputs": [
    {
     "name": "stdout",
     "output_type": "stream",
     "text": [
      "[1, 2, 3]\n"
     ]
    }
   ],
   "source": [
    "#many numpy arrays are known tensor\n",
    "my_list=[1,2,3]\n",
    "print(my_list)"
   ]
  },
  {
   "cell_type": "code",
   "execution_count": 3,
   "metadata": {},
   "outputs": [],
   "source": [
    "import numpy as np"
   ]
  },
  {
   "cell_type": "code",
   "execution_count": 5,
   "metadata": {},
   "outputs": [
    {
     "name": "stdout",
     "output_type": "stream",
     "text": [
      "[1 2 3]\n"
     ]
    }
   ],
   "source": [
    "data=np.array(my_list)\n",
    "#list sai array create kardia numpy ka array\n",
    "#array list ka alternate hai\n",
    "type(data)\n",
    "print(data)"
   ]
  },
  {
   "cell_type": "code",
   "execution_count": 7,
   "metadata": {},
   "outputs": [
    {
     "data": {
      "text/plain": [
       "dtype('int32')"
      ]
     },
     "execution_count": 7,
     "metadata": {},
     "output_type": "execute_result"
    }
   ],
   "source": [
    "#dono hi array hai ek python ka list hai\n",
    "data.dtype #array kai andar ki type dtype sai check karte hai\n",
    "#numpy ek hi data type ko support karta hai ek waqt mei"
   ]
  },
  {
   "cell_type": "code",
   "execution_count": 8,
   "metadata": {},
   "outputs": [],
   "source": [
    "x=[1,2,3,'true',True]\n",
    "data1=np.array(x)"
   ]
  },
  {
   "cell_type": "code",
   "execution_count": 9,
   "metadata": {},
   "outputs": [
    {
     "name": "stdout",
     "output_type": "stream",
     "text": [
      "['1' '2' '3' 'true' 'True']\n"
     ]
    }
   ],
   "source": [
    "print(data1)"
   ]
  },
  {
   "cell_type": "code",
   "execution_count": 11,
   "metadata": {},
   "outputs": [
    {
     "data": {
      "text/plain": [
       "dtype('<U11')"
      ]
     },
     "execution_count": 11,
     "metadata": {},
     "output_type": "execute_result"
    }
   ],
   "source": [
    "data1.dtype"
   ]
  },
  {
   "cell_type": "code",
   "execution_count": 18,
   "metadata": {},
   "outputs": [
    {
     "name": "stdout",
     "output_type": "stream",
     "text": [
      "[[1 2 3]\n",
      " [2 3 4]]\n",
      "2\n",
      "(2, 3)\n"
     ]
    }
   ],
   "source": [
    "#image ek colour picture 3 dimension hoti hai\n",
    "#numpy ka ek faida vector operations bohat asani sai hojatey hai\n",
    "list_2=[1,2,3],[2,3,4]\n",
    "data2=np.array(list_2)\n",
    "print(data2)\n",
    "print(data2.ndim)\n",
    "print(data2.shape)"
   ]
  },
  {
   "cell_type": "code",
   "execution_count": 16,
   "metadata": {},
   "outputs": [
    {
     "name": "stdout",
     "output_type": "stream",
     "text": [
      "[4, 5, 6, 1, 2, 3]\n"
     ]
    }
   ],
   "source": [
    "#dimension kitney axis mujood hai\n",
    "#nshape hamei ek axis mei kitni rows or kitney columns hai\n",
    "#list vector operations ko support nahi karti\n",
    "#numpy python ki list sai bohat fast hai\n",
    "new_list=[1,2,3]\n",
    "old_list=[4,5,6]\n",
    "new_list=old_list+new_list\n",
    "print(new_list)"
   ]
  },
  {
   "cell_type": "code",
   "execution_count": 22,
   "metadata": {},
   "outputs": [
    {
     "name": "stdout",
     "output_type": "stream",
     "text": [
      "[-3 -3 -3]\n"
     ]
    }
   ],
   "source": [
    "new_list1=np.array([1,2,3])\n",
    "old_list1=np.array(old_list)\n",
    "print(new_list1-old_list)"
   ]
  },
  {
   "cell_type": "code",
   "execution_count": 23,
   "metadata": {},
   "outputs": [],
   "source": [
    "#in list there is no subtraction but in np.array there is subtraction\n",
    "# every airthmetic operations could be perform in numpy "
   ]
  },
  {
   "cell_type": "code",
   "execution_count": 24,
   "metadata": {},
   "outputs": [
    {
     "name": "stdout",
     "output_type": "stream",
     "text": [
      "[ 4 10 18]\n"
     ]
    }
   ],
   "source": [
    "new_list1=np.array([1,2,3])\n",
    "old_list1=np.array(old_list)\n",
    "print(new_list1*old_list)"
   ]
  },
  {
   "cell_type": "code",
   "execution_count": 25,
   "metadata": {},
   "outputs": [
    {
     "name": "stdout",
     "output_type": "stream",
     "text": [
      "[0.25 0.4  0.5 ]\n"
     ]
    }
   ],
   "source": [
    "new_list1=np.array([1,2,3])\n",
    "old_list1=np.array(old_list)\n",
    "print(new_list1/old_list)"
   ]
  },
  {
   "cell_type": "code",
   "execution_count": 26,
   "metadata": {},
   "outputs": [
    {
     "name": "stdout",
     "output_type": "stream",
     "text": [
      "[0, 1, 2, 3, 4, 5, 6, 7, 8, 9] [0 1 2 3 4 5 6 7 8 9]\n"
     ]
    }
   ],
   "source": [
    "data_3=np.arange(10)#series create kardeta hai ranage\n",
    "x=list(range(10)) #range kai function sai list create nahi hoti\n",
    "print(x,data_3)"
   ]
  },
  {
   "cell_type": "code",
   "execution_count": 29,
   "metadata": {},
   "outputs": [
    {
     "name": "stdout",
     "output_type": "stream",
     "text": [
      "5\n",
      "<class 'numpy.ndarray'>\n",
      "<class 'int'>\n",
      "0\n",
      "()\n"
     ]
    }
   ],
   "source": [
    "#single value wala scalar kehlata hai (2)\n",
    "#magar ek dimension array ko vector kehtey hai([1,2,3])\n",
    "scalar=np.array(5)\n",
    "print(scalar)\n",
    "print(type(scalar))\n",
    "x=5\n",
    "print(type(x))\n",
    "print(scalar.ndim)\n",
    "print(scalar.shape)#uski koi axis hi nahi"
   ]
  },
  {
   "cell_type": "code",
   "execution_count": 36,
   "metadata": {},
   "outputs": [
    {
     "name": "stdout",
     "output_type": "stream",
     "text": [
      "[[5 4]\n",
      " [6 3]\n",
      " [7 2]]\n",
      "<class 'numpy.ndarray'>\n",
      "<class 'int'>\n",
      "2\n",
      "(3, 2)\n"
     ]
    }
   ],
   "source": [
    "scalar=np.array([[5,4],[6,3],[7,2]])\n",
    "print(scalar)\n",
    "print(type(scalar))\n",
    "x=5\n",
    "print(type(x))\n",
    "print(scalar.ndim)\n",
    "print(scalar.shape)#uska ek axis hai ab"
   ]
  },
  {
   "cell_type": "code",
   "execution_count": 41,
   "metadata": {},
   "outputs": [
    {
     "name": "stdout",
     "output_type": "stream",
     "text": [
      "[[[[1 2 3]\n",
      "   [4 5 6]\n",
      "   [7 8 9]]]]\n"
     ]
    }
   ],
   "source": [
    "scalar=np.array([[[1,2,3],[4,5,6],[7,8,9]]])\n",
    "print(scalar)"
   ]
  },
  {
   "cell_type": "code",
   "execution_count": 44,
   "metadata": {},
   "outputs": [],
   "source": [
    "#random numbers in 20 % in python\n",
    "#test mei ayega module\n",
    "#mei ek kaam karaha hun ek hi code mei bohat messy hogaya code \n",
    "#ab ek alag file bnali jisko module kehtey hai alag sai to alag file kia function ko apney code mei call karney ko module kehtey hai\n",
    "import numpy as np # this is calling of\n",
    "#from math import add,math"
   ]
  },
  {
   "cell_type": "code",
   "execution_count": 51,
   "metadata": {},
   "outputs": [
    {
     "name": "stdout",
     "output_type": "stream",
     "text": [
      "[[1 2 3 4]\n",
      " [4 5 6 7]\n",
      " [1 2 3 4]]\n",
      "(3, 4)\n"
     ]
    }
   ],
   "source": [
    "n = np.array([[1, 2, 3,4], [4, 5, 6,7],[1,2,3,4]])\n",
    "print(n)\n",
    "print(n.shape)"
   ]
  },
  {
   "cell_type": "code",
   "execution_count": 49,
   "metadata": {},
   "outputs": [],
   "source": [
    "#agar numpy kai random numbers ka array generate karna hoga"
   ]
  },
  {
   "cell_type": "code",
   "execution_count": 58,
   "metadata": {},
   "outputs": [
    {
     "name": "stdout",
     "output_type": "stream",
     "text": [
      "[[ 0  0  0 -1]\n",
      " [ 1  0  0  0]]\n"
     ]
    }
   ],
   "source": [
    "data= np.random.randn(2,4)# ek random number genereate karlie jiske 2 rows and 3 columns hai\n",
    "print(data.astype(np.int64))"
   ]
  },
  {
   "cell_type": "code",
   "execution_count": 60,
   "metadata": {},
   "outputs": [
    {
     "name": "stdout",
     "output_type": "stream",
     "text": [
      "[[ -616662629 -1075272932 -2129816883  1072234166  -578365866  1070939885\n",
      "   2029234888 -1074132058]\n",
      " [-1413290744  1073233270  -884422180  1072326792   838494734  1069645557\n",
      "  -1436115391 -1076252838]]\n"
     ]
    }
   ],
   "source": [
    "data.dtype=int\n",
    "print(data)"
   ]
  },
  {
   "cell_type": "code",
   "execution_count": 61,
   "metadata": {},
   "outputs": [
    {
     "name": "stdout",
     "output_type": "stream",
     "text": [
      "[[-2.2560888292985637 -0.7834626172330023 -0.5155770861344361]\n",
      " [0.1129074468235555 0.9196814454302953 -1.7539110205880637]]\n"
     ]
    }
   ],
   "source": [
    "data= np.random.randn(2,3)# ek random number genereate karlie jiske 2 rows and 3 columns hai\n",
    "print(data.astype(np))"
   ]
  },
  {
   "cell_type": "code",
   "execution_count": 64,
   "metadata": {},
   "outputs": [
    {
     "name": "stdout",
     "output_type": "stream",
     "text": [
      "[[ 0  0 -1  0]\n",
      " [ 0 -1  0 -1]]\n"
     ]
    }
   ],
   "source": [
    "data= np.random.randn(2,4).astype(int)# ek random number genereate karlie jiske 2 rows and 3 columns hai\n",
    "#print(data.astype(np.int64))\n",
    "print(data)"
   ]
  },
  {
   "cell_type": "code",
   "execution_count": 66,
   "metadata": {},
   "outputs": [
    {
     "name": "stdout",
     "output_type": "stream",
     "text": [
      "[ 1  5  9 63]\n"
     ]
    }
   ],
   "source": [
    "data_ki_type=np.array([1.5,5,9,63],dtype=int)\n",
    "print(data_ki_type)"
   ]
  },
  {
   "cell_type": "code",
   "execution_count": 71,
   "metadata": {},
   "outputs": [],
   "source": [
    "data_ki_type.dtype=float"
   ]
  },
  {
   "cell_type": "code",
   "execution_count": 72,
   "metadata": {},
   "outputs": [
    {
     "name": "stdout",
     "output_type": "stream",
     "text": [
      "[1.06099790e-313 1.33685735e-312]\n"
     ]
    }
   ],
   "source": [
    "print(data_ki_type)"
   ]
  },
  {
   "cell_type": "code",
   "execution_count": 74,
   "metadata": {},
   "outputs": [
    {
     "name": "stdout",
     "output_type": "stream",
     "text": [
      "[[-0.76390057  0.0273991  -0.72587485  2.2014813 ]\n",
      " [-0.40972888 -0.11252313 -1.17516928 -0.7318598 ]]\n"
     ]
    }
   ],
   "source": [
    "data= np.random.randn(2,4).astype(float)# ek random number genereate karlie jiske 2 rows and 3 columns hai\n",
    "#print(data.astype(np.int64))\n",
    "print(data)"
   ]
  },
  {
   "cell_type": "code",
   "execution_count": 91,
   "metadata": {},
   "outputs": [
    {
     "name": "stdout",
     "output_type": "stream",
     "text": [
      "[[2 3]\n",
      " [4 5]\n",
      " [3 4]\n",
      " [5 6]]\n",
      "(4, 2)\n",
      "[[2 3]\n",
      " [4 5]\n",
      " [3 4]\n",
      " [5 6]]\n"
     ]
    }
   ],
   "source": [
    "data=np.array([[2,3],[4,5],[3,4],[5,6]])\n",
    "print(data)\n",
    "print(data.shape)\n",
    "print(data[:][:])"
   ]
  },
  {
   "cell_type": "code",
   "execution_count": 82,
   "metadata": {},
   "outputs": [],
   "source": [
    "#vscode and pycharm is better"
   ]
  },
  {
   "cell_type": "code",
   "execution_count": 92,
   "metadata": {},
   "outputs": [
    {
     "name": "stdout",
     "output_type": "stream",
     "text": [
      "[[ 0  1  2  3  4]\n",
      " [ 5  6  7  8  9]\n",
      " [10 11 12 13 14]\n",
      " [15 16 17 18 19]]\n"
     ]
    }
   ],
   "source": [
    "data_5=np.arange(20).reshape((4,5))#kiu reshape nahi bnraha izka vector nahi bn paraha\n",
    "print(data_5)"
   ]
  },
  {
   "cell_type": "code",
   "execution_count": 93,
   "metadata": {},
   "outputs": [
    {
     "name": "stdout",
     "output_type": "stream",
     "text": [
      "[[ 0  1  2  3  4]\n",
      " [ 5  6  7  8  9]\n",
      " [10 11 12 13 14]]\n"
     ]
    }
   ],
   "source": [
    "data_5=np.arange(15).reshape((3,5))#kiu reshape nahi bnraha izka vector nahi bn paraha\n",
    "print(data_5)"
   ]
  },
  {
   "cell_type": "code",
   "execution_count": 94,
   "metadata": {},
   "outputs": [
    {
     "ename": "ValueError",
     "evalue": "cannot reshape array of size 11 into shape (3,5)",
     "output_type": "error",
     "traceback": [
      "\u001b[1;31m---------------------------------------------------------------------------\u001b[0m",
      "\u001b[1;31mValueError\u001b[0m                                Traceback (most recent call last)",
      "\u001b[1;32m<ipython-input-94-f83cfa9afd3f>\u001b[0m in \u001b[0;36m<module>\u001b[1;34m\u001b[0m\n\u001b[1;32m----> 1\u001b[1;33m \u001b[0mdata_5\u001b[0m\u001b[1;33m=\u001b[0m\u001b[0mnp\u001b[0m\u001b[1;33m.\u001b[0m\u001b[0marange\u001b[0m\u001b[1;33m(\u001b[0m\u001b[1;36m11\u001b[0m\u001b[1;33m)\u001b[0m\u001b[1;33m.\u001b[0m\u001b[0mreshape\u001b[0m\u001b[1;33m(\u001b[0m\u001b[1;33m(\u001b[0m\u001b[1;36m3\u001b[0m\u001b[1;33m,\u001b[0m\u001b[1;36m5\u001b[0m\u001b[1;33m)\u001b[0m\u001b[1;33m)\u001b[0m\u001b[1;31m#kiu reshape nahi bnraha izka vector nahi bn paraha\u001b[0m\u001b[1;33m\u001b[0m\u001b[1;33m\u001b[0m\u001b[0m\n\u001b[0m\u001b[0;32m      2\u001b[0m \u001b[0mprint\u001b[0m\u001b[1;33m(\u001b[0m\u001b[0mdata_5\u001b[0m\u001b[1;33m)\u001b[0m\u001b[1;33m\u001b[0m\u001b[1;33m\u001b[0m\u001b[0m\n",
      "\u001b[1;31mValueError\u001b[0m: cannot reshape array of size 11 into shape (3,5)"
     ]
    }
   ],
   "source": [
    "data_5=np.arange(11).reshape((3,5))#kiu reshape nahi bnraha izka vector nahi bn paraha\n",
    "print(data_5)"
   ]
  },
  {
   "cell_type": "code",
   "execution_count": 100,
   "metadata": {},
   "outputs": [
    {
     "name": "stdout",
     "output_type": "stream",
     "text": [
      "[[ 1  2  3]\n",
      " [ 4  5  6]\n",
      " [ 7  8  9]\n",
      " [10 11 12]\n",
      " [13 14 15]\n",
      " [16 17 18]\n",
      " [19 20 21]\n",
      " [22 23 24]\n",
      " [25 26 27]\n",
      " [28 29 30]\n",
      " [31 32 33]\n",
      " [34 35 36]\n",
      " [37 38 39]\n",
      " [40 41 42]\n",
      " [43 44 45]\n",
      " [46 47 48]\n",
      " [49 50 51]\n",
      " [52 53 54]\n",
      " [55 56 57]\n",
      " [58 59 60]\n",
      " [61 62 63]\n",
      " [64 65 66]\n",
      " [67 68 69]\n",
      " [70 71 72]\n",
      " [73 74 75]]\n"
     ]
    },
    {
     "ename": "NameError",
     "evalue": "name 'data5' is not defined",
     "output_type": "error",
     "traceback": [
      "\u001b[1;31m---------------------------------------------------------------------------\u001b[0m",
      "\u001b[1;31mNameError\u001b[0m                                 Traceback (most recent call last)",
      "\u001b[1;32m<ipython-input-100-65fa5f359397>\u001b[0m in \u001b[0;36m<module>\u001b[1;34m\u001b[0m\n\u001b[0;32m      1\u001b[0m \u001b[0mdata_5\u001b[0m\u001b[1;33m=\u001b[0m\u001b[0mnp\u001b[0m\u001b[1;33m.\u001b[0m\u001b[0marange\u001b[0m\u001b[1;33m(\u001b[0m\u001b[1;36m1\u001b[0m\u001b[1;33m,\u001b[0m\u001b[1;36m76\u001b[0m\u001b[1;33m)\u001b[0m\u001b[1;33m.\u001b[0m\u001b[0mreshape\u001b[0m\u001b[1;33m(\u001b[0m\u001b[1;33m(\u001b[0m\u001b[1;36m25\u001b[0m\u001b[1;33m,\u001b[0m\u001b[1;36m3\u001b[0m\u001b[1;33m)\u001b[0m\u001b[1;33m)\u001b[0m\u001b[1;31m#kiu reshape nahi bnraha izka vector nahi bn paraha #75 is 76-1=75\u001b[0m\u001b[1;33m\u001b[0m\u001b[1;33m\u001b[0m\u001b[0m\n\u001b[0;32m      2\u001b[0m \u001b[0mprint\u001b[0m\u001b[1;33m(\u001b[0m\u001b[0mdata_5\u001b[0m\u001b[1;33m)\u001b[0m\u001b[1;33m\u001b[0m\u001b[1;33m\u001b[0m\u001b[0m\n\u001b[1;32m----> 3\u001b[1;33m \u001b[0mdata5\u001b[0m\u001b[1;33m.\u001b[0m\u001b[0mdim\u001b[0m\u001b[1;33m\u001b[0m\u001b[1;33m\u001b[0m\u001b[0m\n\u001b[0m",
      "\u001b[1;31mNameError\u001b[0m: name 'data5' is not defined"
     ]
    }
   ],
   "source": [
    "data_5=np.arange(1,76).reshape((25,3))#kiu reshape nahi bnraha izka vector nahi bn paraha #75 is 76-1=75\n",
    "print(data_5)\n"
   ]
  },
  {
   "cell_type": "code",
   "execution_count": 103,
   "metadata": {},
   "outputs": [
    {
     "data": {
      "text/plain": [
       "2"
      ]
     },
     "execution_count": 103,
     "metadata": {},
     "output_type": "execute_result"
    }
   ],
   "source": [
    "data_5.ndim"
   ]
  },
  {
   "cell_type": "code",
   "execution_count": 104,
   "metadata": {},
   "outputs": [
    {
     "data": {
      "text/plain": [
       "array([[ 1,  2,  3,  4,  5,  6,  7,  8,  9, 10, 11, 12, 13, 14, 15, 16,\n",
       "        17, 18, 19, 20, 21, 22, 23, 24, 25],\n",
       "       [26, 27, 28, 29, 30, 31, 32, 33, 34, 35, 36, 37, 38, 39, 40, 41,\n",
       "        42, 43, 44, 45, 46, 47, 48, 49, 50],\n",
       "       [51, 52, 53, 54, 55, 56, 57, 58, 59, 60, 61, 62, 63, 64, 65, 66,\n",
       "        67, 68, 69, 70, 71, 72, 73, 74, 75]])"
      ]
     },
     "execution_count": 104,
     "metadata": {},
     "output_type": "execute_result"
    }
   ],
   "source": [
    "data_5.reshape((3,25))"
   ]
  },
  {
   "cell_type": "code",
   "execution_count": 107,
   "metadata": {},
   "outputs": [],
   "source": [
    "data6=np.zeros(10).reshape(2,5)"
   ]
  },
  {
   "cell_type": "code",
   "execution_count": 109,
   "metadata": {},
   "outputs": [
    {
     "name": "stdout",
     "output_type": "stream",
     "text": [
      "[[0. 0. 0. 0. 0.]\n",
      " [0. 0. 0. 0. 0.]\n",
      " [0. 0. 0. 0. 0.]\n",
      " [0. 0. 0. 0. 0.]\n",
      " [0. 0. 0. 0. 0.]]\n"
     ]
    }
   ],
   "source": [
    "data7=np.zeros((5,5))\n",
    "print(data7)"
   ]
  },
  {
   "cell_type": "code",
   "execution_count": 110,
   "metadata": {},
   "outputs": [
    {
     "name": "stdout",
     "output_type": "stream",
     "text": [
      "[[0. 0. 0. 0. 0.]\n",
      " [0. 0. 0. 0. 0.]\n",
      " [0. 0. 0. 0. 0.]\n",
      " [0. 0. 0. 0. 0.]\n",
      " [0. 0. 0. 0. 0.]]\n"
     ]
    }
   ],
   "source": [
    "data7=np.zeros((5,5))\n",
    "print(data7)\n",
    "#2dimension shows x and y axis #3dimension shows x,y and z axis"
   ]
  },
  {
   "cell_type": "code",
   "execution_count": 114,
   "metadata": {},
   "outputs": [
    {
     "name": "stdout",
     "output_type": "stream",
     "text": [
      "[[5. 5. 5. 5. 5.]\n",
      " [5. 5. 5. 5. 5.]\n",
      " [5. 5. 5. 5. 5.]\n",
      " [5. 5. 5. 5. 5.]\n",
      " [5. 5. 5. 5. 5.]]\n"
     ]
    }
   ],
   "source": [
    "data_6=np.ones((5,5))*5 # by default data type of float in numpy array\n",
    "print(data_6)"
   ]
  },
  {
   "cell_type": "code",
   "execution_count": 117,
   "metadata": {},
   "outputs": [
    {
     "name": "stdout",
     "output_type": "stream",
     "text": [
      "[[1. 0. 0. 0. 0.]\n",
      " [0. 1. 0. 0. 0.]\n",
      " [0. 0. 1. 0. 0.]\n",
      " [0. 0. 0. 1. 0.]\n",
      " [0. 0. 0. 0. 1.]]\n"
     ]
    }
   ],
   "source": [
    "data3=np.eye(5,5)\n",
    "print(data3)"
   ]
  },
  {
   "cell_type": "code",
   "execution_count": 122,
   "metadata": {},
   "outputs": [
    {
     "name": "stdout",
     "output_type": "stream",
     "text": [
      "[[[1.01495556e-312 1.01546555e-312 1.01495555e-312 1.01496792e-312\n",
      "   1.01540824e-312 1.01496720e-312]\n",
      "  [1.01540825e-312 1.01496720e-312 1.01540826e-312 1.01496720e-312\n",
      "   1.01540800e-312 1.01496720e-312]\n",
      "  [1.01540799e-312 1.01496720e-312 1.01540800e-312 1.01496720e-312\n",
      "   1.01540799e-312 1.01496720e-312]\n",
      "  [1.01540800e-312 1.01480489e-312 1.01496720e-312 1.01546554e-312\n",
      "   1.01495555e-312 1.01540800e-312]\n",
      "  [1.01496720e-312 1.01546553e-312 1.01495555e-312 1.01540799e-312\n",
      "   1.01496720e-312 1.01546555e-312]]\n",
      "\n",
      " [[1.01495555e-312 1.01495556e-312 1.01542306e-312 1.01495555e-312\n",
      "   1.01496792e-312 1.01495556e-312]\n",
      "  [1.01540799e-312 1.01495555e-312 1.01540799e-312 1.01496720e-312\n",
      "   1.01540805e-312 1.01495555e-312]\n",
      "  [1.01540804e-312 1.01496720e-312 1.01540805e-312 1.01495555e-312\n",
      "   1.01540806e-312 1.01496720e-312]\n",
      "  [1.01540805e-312 1.01495555e-312 1.01546555e-312 1.01495556e-312\n",
      "   1.01496720e-312 1.01495556e-312]\n",
      "  [1.01546450e-312 1.01495555e-312 1.01546450e-312 1.01496720e-312\n",
      "   1.01546449e-312 1.01495555e-312]]\n",
      "\n",
      " [[1.01546450e-312 1.01496720e-312 1.01546450e-312 1.01495555e-312\n",
      "   1.01546450e-312 1.01496720e-312]\n",
      "  [1.01546448e-312 1.01495555e-312 1.01546555e-312 1.01495556e-312\n",
      "   1.01496720e-312 1.01495556e-312]\n",
      "  [1.01546449e-312 1.01495555e-312 1.01546450e-312 1.01496720e-312\n",
      "   1.01546449e-312 1.01495555e-312]\n",
      "  [1.01546449e-312 1.01496720e-312 1.01546449e-312 1.01495555e-312\n",
      "   1.01546449e-312 1.01496720e-312]\n",
      "  [1.01546449e-312 1.01495555e-312 1.01546555e-312 1.01495556e-312\n",
      "   1.01496720e-312 1.01495556e-312]]\n",
      "\n",
      " [[1.01546449e-312 1.01495555e-312 1.01546449e-312 1.01496720e-312\n",
      "   1.01546450e-312 1.01495555e-312]\n",
      "  [1.01547547e-312 1.01496720e-312 1.01547546e-312 1.01495555e-312\n",
      "   1.01547546e-312 1.01496720e-312]\n",
      "  [1.01547546e-312 1.01495555e-312 1.01546554e-312 1.01495556e-312\n",
      "   1.01496720e-312 1.01495556e-312]\n",
      "  [1.01547545e-312 1.01495555e-312 1.01547547e-312 1.01496720e-312\n",
      "   1.01547546e-312 1.01495555e-312]\n",
      "  [1.01547546e-312 1.01496720e-312 1.01540818e-312 1.01495555e-312\n",
      "   1.01540819e-312 1.01496720e-312]]\n",
      "\n",
      " [[1.01540819e-312 1.01495555e-312 1.01542645e-312 1.01495556e-312\n",
      "   1.01496720e-312 1.01495556e-312]\n",
      "  [1.01540819e-312 1.01495555e-312 1.01540818e-312 1.01496720e-312\n",
      "   1.01540820e-312 1.01495555e-312]\n",
      "  [1.01540818e-312 1.01496720e-312 1.01540820e-312 1.01495555e-312\n",
      "   1.01540820e-312 1.01496720e-312]\n",
      "  [1.01540819e-312 1.01495555e-312 1.01542644e-312 1.01495556e-312\n",
      "   1.01496720e-312 1.01495556e-312]\n",
      "  [1.01540819e-312 1.01495555e-312 1.01540820e-312 1.01496720e-312\n",
      "   1.47138714e+195 8.65950068e-316]]]\n"
     ]
    }
   ],
   "source": [
    "data3=np.empty((5,5,6))\n",
    "print(data3)"
   ]
  },
  {
   "cell_type": "code",
   "execution_count": 123,
   "metadata": {},
   "outputs": [
    {
     "name": "stdout",
     "output_type": "stream",
     "text": [
      "3\n"
     ]
    }
   ],
   "source": [
    "n1=np.array([[[3,3],[3,4]]])\n",
    "print(n1.ndim)"
   ]
  },
  {
   "cell_type": "code",
   "execution_count": 124,
   "metadata": {},
   "outputs": [
    {
     "name": "stdout",
     "output_type": "stream",
     "text": [
      "[[[8.6595007e-316]]]\n"
     ]
    }
   ],
   "source": [
    "#np.empty is not necessary every time it produce zeros but sometime it could give garbage in empty\n",
    "data3=np.empty((1,1,1)) #it is 3 dimension\n",
    "print(data3)"
   ]
  },
  {
   "cell_type": "code",
   "execution_count": 132,
   "metadata": {},
   "outputs": [
    {
     "data": {
      "text/plain": [
       "array([[ 0,  1,  2,  3,  4],\n",
       "       [ 5,  6,  7,  8,  9],\n",
       "       [10, 11, 12, 13, 14],\n",
       "       [15, 16, 17, 18, 19],\n",
       "       [20, 21, 22, 23, 24]])"
      ]
     },
     "execution_count": 132,
     "metadata": {},
     "output_type": "execute_result"
    }
   ],
   "source": [
    "#indexing in array\n",
    "index_array=np.arange(25).reshape((5,5))\n",
    "index_array"
   ]
  },
  {
   "cell_type": "code",
   "execution_count": 133,
   "metadata": {},
   "outputs": [],
   "source": [
    "#kisi bhi element ko acess karna hai to uska index use karna pareyga\n",
    "#index_array[row,column] # kisbhi index ko acess karna hoga ko to uskey rows or column pass karney parey gai"
   ]
  },
  {
   "cell_type": "code",
   "execution_count": 137,
   "metadata": {},
   "outputs": [
    {
     "name": "stdout",
     "output_type": "stream",
     "text": [
      "12\n"
     ]
    }
   ],
   "source": [
    "print(index_array[2,2])"
   ]
  },
  {
   "cell_type": "code",
   "execution_count": 138,
   "metadata": {},
   "outputs": [
    {
     "data": {
      "text/plain": [
       "array([[ 0,  1,  2,  3],\n",
       "       [ 4,  5,  6,  7],\n",
       "       [ 8,  9, 10, 11],\n",
       "       [12, 13, 14, 15],\n",
       "       [16, 17, 18, 19],\n",
       "       [20, 21, 22, 23],\n",
       "       [24, 25, 26, 27],\n",
       "       [28, 29, 30, 31],\n",
       "       [32, 33, 34, 35]])"
      ]
     },
     "execution_count": 138,
     "metadata": {},
     "output_type": "execute_result"
    }
   ],
   "source": [
    "#indexing in array\n",
    "index_array=np.arange(36).reshape((9,4))\n",
    "index_array"
   ]
  },
  {
   "cell_type": "code",
   "execution_count": 140,
   "metadata": {},
   "outputs": [
    {
     "name": "stdout",
     "output_type": "stream",
     "text": [
      "17\n"
     ]
    }
   ],
   "source": [
    "print(index_array[4,1]) # from zero rows to four rows and zero columns to four columns "
   ]
  },
  {
   "cell_type": "code",
   "execution_count": 144,
   "metadata": {},
   "outputs": [
    {
     "name": "stdout",
     "output_type": "stream",
     "text": [
      "5\n"
     ]
    }
   ],
   "source": [
    "print(index_array[-8,-3]) # from neechy sai upar rows (-8) and right sai left columns (-3) "
   ]
  },
  {
   "cell_type": "code",
   "execution_count": 145,
   "metadata": {},
   "outputs": [
    {
     "name": "stdout",
     "output_type": "stream",
     "text": [
      "[3, 4]\n"
     ]
    }
   ],
   "source": [
    "#list slicing\n",
    "list_1=[1,2,3,4,5]\n",
    "print(list_1[2:4])"
   ]
  },
  {
   "cell_type": "code",
   "execution_count": 146,
   "metadata": {},
   "outputs": [
    {
     "data": {
      "text/plain": [
       "array([[ 0,  1,  2,  3],\n",
       "       [ 4,  5,  6,  7],\n",
       "       [ 8,  9, 10, 11],\n",
       "       [12, 13, 14, 15],\n",
       "       [16, 17, 18, 19],\n",
       "       [20, 21, 22, 23],\n",
       "       [24, 25, 26, 27],\n",
       "       [28, 29, 30, 31],\n",
       "       [32, 33, 34, 35]])"
      ]
     },
     "execution_count": 146,
     "metadata": {},
     "output_type": "execute_result"
    }
   ],
   "source": [
    "#for two dimensions sai slicing\n",
    "index_array=np.arange(36).reshape((9,4))\n",
    "index_array"
   ]
  },
  {
   "cell_type": "code",
   "execution_count": 147,
   "metadata": {},
   "outputs": [
    {
     "data": {
      "text/plain": [
       "array([[4, 5],\n",
       "       [8, 9]])"
      ]
     },
     "execution_count": 147,
     "metadata": {},
     "output_type": "execute_result"
    }
   ],
   "source": [
    "index_array[1:3,0:2]"
   ]
  },
  {
   "cell_type": "code",
   "execution_count": 149,
   "metadata": {},
   "outputs": [
    {
     "data": {
      "text/plain": [
       "array([[ 4,  5,  6],\n",
       "       [ 8,  9, 10],\n",
       "       [12, 13, 14],\n",
       "       [16, 17, 18],\n",
       "       [20, 21, 22],\n",
       "       [24, 25, 26],\n",
       "       [28, 29, 30]])"
      ]
     },
     "execution_count": 149,
     "metadata": {},
     "output_type": "execute_result"
    }
   ],
   "source": [
    "index_array[1:8,0:3]"
   ]
  },
  {
   "cell_type": "code",
   "execution_count": 150,
   "metadata": {},
   "outputs": [],
   "source": [
    "# numpy ka array kese generate hojata hai\n",
    "# numpy ki type ko kese type change karni hai\n",
    "#zeros , ones and how to create arrays of five\n",
    "#if any one is float in array there would every element in array in float\n",
    "# 3 dimensional arrays\n",
    "#there are two ways to create arrays and using np.array and np.arange\n",
    "data_3dim=np.array([[[1,2,3],[2,3,4],[4,5,6]]])"
   ]
  },
  {
   "cell_type": "code",
   "execution_count": 151,
   "metadata": {},
   "outputs": [
    {
     "name": "stdout",
     "output_type": "stream",
     "text": [
      "3\n"
     ]
    }
   ],
   "source": [
    "print(data_3dim.ndim)"
   ]
  },
  {
   "cell_type": "code",
   "execution_count": 152,
   "metadata": {},
   "outputs": [],
   "source": [
    "#element jitna bhi ho uskey brackets sai hi pata chaley ga kitna dimension hai"
   ]
  },
  {
   "cell_type": "code",
   "execution_count": 154,
   "metadata": {},
   "outputs": [
    {
     "name": "stdout",
     "output_type": "stream",
     "text": [
      "(1, 3, 3)\n"
     ]
    }
   ],
   "source": [
    "print(data_3dim.shape)"
   ]
  },
  {
   "cell_type": "code",
   "execution_count": 156,
   "metadata": {},
   "outputs": [],
   "source": [
    "#dimension axis ko refer karti hai # x and y 2 axis # x,y,z 3 axis"
   ]
  },
  {
   "cell_type": "code",
   "execution_count": null,
   "metadata": {},
   "outputs": [],
   "source": [
    "# pehli axis depth , 2 axis row , 3 axis column\n",
    "dim_3=np.array([[[1,2,3],[4,5,6]]]) # page ka samna row and column pir uskey peechy depth hongai #pehly depth acess hota hai phir row and column hota hai "
   ]
  }
 ],
 "metadata": {
  "kernelspec": {
   "display_name": "Python 3",
   "language": "python",
   "name": "python3"
  },
  "language_info": {
   "codemirror_mode": {
    "name": "ipython",
    "version": 3
   },
   "file_extension": ".py",
   "mimetype": "text/x-python",
   "name": "python",
   "nbconvert_exporter": "python",
   "pygments_lexer": "ipython3",
   "version": "3.7.3"
  }
 },
 "nbformat": 4,
 "nbformat_minor": 2
}
